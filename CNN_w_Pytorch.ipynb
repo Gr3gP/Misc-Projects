{
  "nbformat": 4,
  "nbformat_minor": 0,
  "metadata": {
    "colab": {
      "name": "CNN w/Pytorch.ipynb",
      "provenance": [],
      "collapsed_sections": [],
      "authorship_tag": "ABX9TyNiHQZAzgqwwg1dCA+4dz1B",
      "include_colab_link": true
    },
    "kernelspec": {
      "name": "python3",
      "display_name": "Python 3"
    },
    "language_info": {
      "name": "python"
    },
    "accelerator": "GPU"
  },
  "cells": [
    {
      "cell_type": "markdown",
      "metadata": {
        "id": "view-in-github",
        "colab_type": "text"
      },
      "source": [
        "<a href=\"https://colab.research.google.com/github/Gr3gP/Misc-Projects/blob/main/CNN_w_Pytorch.ipynb\" target=\"_parent\"><img src=\"https://colab.research.google.com/assets/colab-badge.svg\" alt=\"Open In Colab\"/></a>"
      ]
    },
    {
      "cell_type": "markdown",
      "metadata": {
        "id": "vek85YTar6yn"
      },
      "source": [
        "#CNN \n",
        "\n",
        "From Machine Cruve: https://www.machinecurve.com/index.php/2021/07/08/convolutional-neural-networks-with-pytorch/"
      ]
    },
    {
      "cell_type": "markdown",
      "metadata": {
        "id": "INZK-ePJsZ8K"
      },
      "source": [
        "What is a Convolution?\n",
        "\n",
        "In mathematics (in particular, functional analysis), convolution is a mathematical operation on two functions (f and g) that produces a third function ({\\displaystyle f*g}f*g) that expresses how the shape of one is modified by the other.\n",
        "\n",
        "ConvNets are said to be translation-invariant; meaning, that a nose can be detected regardless of size and position within an image."
      ]
    },
    {
      "cell_type": "code",
      "metadata": {
        "colab": {
          "base_uri": "https://localhost:8080/"
        },
        "id": "ugWXaZ86vq-M",
        "outputId": "18523483-f8a4-4bdd-b89b-55ce440d3a2e"
      },
      "source": [
        "import os\n",
        "import torch\n",
        "from torch import nn\n",
        "from torchvision.datasets import MNIST\n",
        "from torch.utils.data import DataLoader\n",
        "from torchvision import transforms\n",
        "\n",
        "class ConvNet(nn.Module):\n",
        "  '''\n",
        "    Simple Convolutional Neural Network\n",
        "  '''\n",
        "  def __init__(self):\n",
        "    super().__init__()\n",
        "    self.layers = nn.Sequential(\n",
        "      nn.Conv2d(1, 10, kernel_size=3),\n",
        "      nn.ReLU(),\n",
        "      nn.Conv2d(10, 5, kernel_size=3),\n",
        "      nn.ReLU(),\n",
        "      nn.Flatten(),\n",
        "      nn.Linear(24 * 24 * 5, 64),     \n",
        "      nn.ReLU(),\n",
        "      nn.Linear(64, 32),\n",
        "      nn.ReLU(),\n",
        "      nn.Linear(32, 10)\n",
        "    )\n",
        "\n",
        "\n",
        "  def forward(self, x):\n",
        "    '''Forward pass'''\n",
        "    return self.layers(x)\n",
        "  \n",
        "  \n",
        "if __name__ == '__main__':\n",
        "  \n",
        "  # Set fixed random number seed\n",
        "  torch.manual_seed(42)\n",
        "  \n",
        "  # Prepare CIFAR-10 dataset\n",
        "  dataset = MNIST(os.getcwd(), download=True, transform=transforms.ToTensor())\n",
        "  trainloader = torch.utils.data.DataLoader(dataset, batch_size=10, shuffle=True, num_workers=1)\n",
        "  \n",
        "  # Initialize the ConvNet\n",
        "  convnet = ConvNet()\n",
        "  \n",
        "  # Define the loss function and optimizer\n",
        "  loss_function = nn.CrossEntropyLoss()\n",
        "  optimizer = torch.optim.Adam(convnet.parameters(), lr=1e-4)\n",
        "  \n",
        "  # Run the training loop\n",
        "  for epoch in range(0, 5): # 5 epochs at maximum\n",
        "    \n",
        "    # Print epoch\n",
        "    print(f'Starting epoch {epoch+1}')\n",
        "    \n",
        "    # Set current loss value\n",
        "    current_loss = 0.0\n",
        "    \n",
        "    # Iterate over the DataLoader for training data\n",
        "    for i, data in enumerate(trainloader, 0):\n",
        "      \n",
        "      # Get inputs\n",
        "      inputs, targets = data\n",
        "      \n",
        "      # Zero the gradients\n",
        "      optimizer.zero_grad()\n",
        "      \n",
        "      # Perform forward pass\n",
        "      outputs = convnet(inputs)\n",
        "      \n",
        "      # Compute loss\n",
        "      loss = loss_function(outputs, targets)\n",
        "      \n",
        "      # Perform backward pass\n",
        "      loss.backward()\n",
        "      \n",
        "      # Perform optimization\n",
        "      optimizer.step()\n",
        "      \n",
        "      # Print statistics\n",
        "      current_loss += loss.item()\n",
        "      if i % 500 == 499:\n",
        "          print('Loss after mini-batch %5d: %.3f' %\n",
        "                (i + 1, current_loss / 500))\n",
        "          current_loss = 0.0\n",
        "\n",
        "  # Process is complete.\n",
        "  print('Training process has finished.')"
      ],
      "execution_count": 2,
      "outputs": [
        {
          "output_type": "stream",
          "text": [
            "Starting epoch 1\n",
            "Loss after mini-batch   500: 1.400\n",
            "Loss after mini-batch  1000: 0.464\n",
            "Loss after mini-batch  1500: 0.380\n",
            "Loss after mini-batch  2000: 0.341\n",
            "Loss after mini-batch  2500: 0.348\n",
            "Loss after mini-batch  3000: 0.310\n",
            "Loss after mini-batch  3500: 0.306\n",
            "Loss after mini-batch  4000: 0.290\n",
            "Loss after mini-batch  4500: 0.276\n",
            "Loss after mini-batch  5000: 0.247\n",
            "Loss after mini-batch  5500: 0.244\n",
            "Loss after mini-batch  6000: 0.223\n",
            "Starting epoch 2\n",
            "Loss after mini-batch   500: 0.217\n",
            "Loss after mini-batch  1000: 0.226\n",
            "Loss after mini-batch  1500: 0.189\n",
            "Loss after mini-batch  2000: 0.182\n",
            "Loss after mini-batch  2500: 0.178\n",
            "Loss after mini-batch  3000: 0.176\n",
            "Loss after mini-batch  3500: 0.165\n",
            "Loss after mini-batch  4000: 0.158\n",
            "Loss after mini-batch  4500: 0.173\n",
            "Loss after mini-batch  5000: 0.139\n",
            "Loss after mini-batch  5500: 0.156\n",
            "Loss after mini-batch  6000: 0.133\n",
            "Starting epoch 3\n",
            "Loss after mini-batch   500: 0.127\n",
            "Loss after mini-batch  1000: 0.120\n",
            "Loss after mini-batch  1500: 0.134\n",
            "Loss after mini-batch  2000: 0.127\n",
            "Loss after mini-batch  2500: 0.111\n",
            "Loss after mini-batch  3000: 0.112\n",
            "Loss after mini-batch  3500: 0.107\n",
            "Loss after mini-batch  4000: 0.119\n",
            "Loss after mini-batch  4500: 0.105\n",
            "Loss after mini-batch  5000: 0.094\n",
            "Loss after mini-batch  5500: 0.107\n",
            "Loss after mini-batch  6000: 0.094\n",
            "Starting epoch 4\n",
            "Loss after mini-batch   500: 0.096\n",
            "Loss after mini-batch  1000: 0.091\n",
            "Loss after mini-batch  1500: 0.081\n",
            "Loss after mini-batch  2000: 0.087\n",
            "Loss after mini-batch  2500: 0.087\n",
            "Loss after mini-batch  3000: 0.085\n",
            "Loss after mini-batch  3500: 0.086\n",
            "Loss after mini-batch  4000: 0.085\n",
            "Loss after mini-batch  4500: 0.083\n",
            "Loss after mini-batch  5000: 0.091\n",
            "Loss after mini-batch  5500: 0.087\n",
            "Loss after mini-batch  6000: 0.071\n",
            "Starting epoch 5\n",
            "Loss after mini-batch   500: 0.065\n",
            "Loss after mini-batch  1000: 0.068\n",
            "Loss after mini-batch  1500: 0.075\n",
            "Loss after mini-batch  2000: 0.067\n",
            "Loss after mini-batch  2500: 0.070\n",
            "Loss after mini-batch  3000: 0.063\n",
            "Loss after mini-batch  3500: 0.070\n",
            "Loss after mini-batch  4000: 0.072\n",
            "Loss after mini-batch  4500: 0.078\n",
            "Loss after mini-batch  5000: 0.063\n",
            "Loss after mini-batch  5500: 0.073\n",
            "Loss after mini-batch  6000: 0.068\n",
            "Training process has finished.\n"
          ],
          "name": "stdout"
        }
      ]
    },
    {
      "cell_type": "code",
      "metadata": {
        "id": "AkxpX0tf21bh"
      },
      "source": [
        ""
      ],
      "execution_count": null,
      "outputs": []
    }
  ]
}