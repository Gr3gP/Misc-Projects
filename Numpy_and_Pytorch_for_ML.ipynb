{
  "nbformat": 4,
  "nbformat_minor": 0,
  "metadata": {
    "colab": {
      "name": "Numpy and Pytorch for ML.ipynb",
      "provenance": [],
      "collapsed_sections": [
        "phmtzBA-GiqS"
      ],
      "authorship_tag": "ABX9TyOdHpkcrseVlSthHQ5aY84P",
      "include_colab_link": true
    },
    "kernelspec": {
      "name": "python3",
      "display_name": "Python 3"
    },
    "language_info": {
      "name": "python"
    },
    "accelerator": "GPU"
  },
  "cells": [
    {
      "cell_type": "markdown",
      "metadata": {
        "id": "view-in-github",
        "colab_type": "text"
      },
      "source": [
        "<a href=\"https://colab.research.google.com/github/Gr3gP/Misc-Projects/blob/main/Numpy_and_Pytorch_for_ML.ipynb\" target=\"_parent\"><img src=\"https://colab.research.google.com/assets/colab-badge.svg\" alt=\"Open In Colab\"/></a>"
      ]
    },
    {
      "cell_type": "code",
      "metadata": {
        "id": "yV4UN4zdoF57"
      },
      "source": [
        "@article{madewithml,\n",
        "    title  = \"PyTorch - Made With ML\",\n",
        "    author = \"Goku Mohandas\",\n",
        "    url    = \"https://madewithml.com/courses/basics/pytorch/\"\n",
        "    year   = \"2021\",\n",
        "}"
      ],
      "execution_count": null,
      "outputs": []
    },
    {
      "cell_type": "markdown",
      "metadata": {
        "id": "phmtzBA-GiqS"
      },
      "source": [
        "#Numpy"
      ]
    },
    {
      "cell_type": "markdown",
      "metadata": {
        "id": "OOJFSvY6JsPD"
      },
      "source": [
        "How to create vectors and tensors in Numpy\n",
        "\n",
        "<div align=\"left\">\n",
        "<img src=\"https://raw.githubusercontent.com/GokuMohandas/MadeWithML/main/images/basics/numpy/tensors.png\" width=\"650\">\n",
        "</div>"
      ]
    },
    {
      "cell_type": "code",
      "metadata": {
        "id": "Gt6Gh5f-KOLc"
      },
      "source": [
        "import numpy as np"
      ],
      "execution_count": 1,
      "outputs": []
    },
    {
      "cell_type": "code",
      "metadata": {
        "colab": {
          "base_uri": "https://localhost:8080/"
        },
        "id": "MvcmLEOBF2Z1",
        "outputId": "4dd66bb0-13e4-4542-cf85-c605f19dedc1"
      },
      "source": [
        "#Scaler \n",
        "x = np.array(6)\n",
        "print('x: ', x)\n",
        "print('x ndim:', x.ndim)\n",
        "print('x shape: ', x.shape)\n",
        "print('x size: ', x.size)\n",
        "print('x dtype: ', x.dtype)"
      ],
      "execution_count": 4,
      "outputs": [
        {
          "output_type": "stream",
          "text": [
            "x:  6\n",
            "x ndim: 0\n",
            "x shape:  ()\n",
            "x size:  1\n",
            "x dtype:  int64\n"
          ],
          "name": "stdout"
        }
      ]
    },
    {
      "cell_type": "code",
      "metadata": {
        "colab": {
          "base_uri": "https://localhost:8080/"
        },
        "id": "ea0KswxAKRBw",
        "outputId": "d59e4b8a-ca9c-410b-aca7-f31243aaba68"
      },
      "source": [
        "#vector\n",
        "x = np.array([1.3, 2.2, 1.7])\n",
        "print('x:\\n', x)\n",
        "print('x ndim:', x.ndim)\n",
        "print('x shape: ', x.shape)\n",
        "print('x size: ', x.size)\n",
        "print('x dtype: ', x.dtype)"
      ],
      "execution_count": 5,
      "outputs": [
        {
          "output_type": "stream",
          "text": [
            "x:\n",
            " [1.3 2.2 1.7]\n",
            "x ndim: 1\n",
            "x shape:  (3,)\n",
            "x size:  3\n",
            "x dtype:  float64\n"
          ],
          "name": "stdout"
        }
      ]
    },
    {
      "cell_type": "code",
      "metadata": {
        "colab": {
          "base_uri": "https://localhost:8080/"
        },
        "id": "hbHYMpimKx0b",
        "outputId": "6747dbcf-dcd5-4e76-880e-b300749a97c4"
      },
      "source": [
        "#Matrix\n",
        "x = np.array([[1,2], [3,4]])\n",
        "print('x: ', x)\n",
        "print('x ndim:', x.ndim)\n",
        "print('x shape: ', x.shape)\n",
        "print('x size: ', x.size)\n",
        "print('x dtype: ', x.dtype)"
      ],
      "execution_count": 7,
      "outputs": [
        {
          "output_type": "stream",
          "text": [
            "x:  [[1 2]\n",
            " [3 4]]\n",
            "x ndim: 2\n",
            "x shape:  (2, 2)\n",
            "x size:  4\n",
            "x dtype:  int64\n"
          ],
          "name": "stdout"
        }
      ]
    },
    {
      "cell_type": "code",
      "metadata": {
        "colab": {
          "base_uri": "https://localhost:8080/"
        },
        "id": "DHDp7tz_K8aF",
        "outputId": "acef716c-663b-40d8-e2b7-89829ab1d8f1"
      },
      "source": [
        "#3-D tensor\n",
        "x = np.array([[[1,2], [3,4]],[[5,6], [7,8]]])\n",
        "print('x: ', x)\n",
        "print('x ndim:', x.ndim)\n",
        "print('x shape: ', x.shape)\n",
        "print('x size: ', x.size)\n",
        "print('x dtype: ', x.dtype)"
      ],
      "execution_count": 12,
      "outputs": [
        {
          "output_type": "stream",
          "text": [
            "x:  [[[1 2]\n",
            "  [3 4]]\n",
            "\n",
            " [[5 6]\n",
            "  [7 8]]]\n",
            "x ndim: 3\n",
            "x shape:  (2, 2, 2)\n",
            "x size:  8\n",
            "x dtype:  int64\n"
          ],
          "name": "stdout"
        }
      ]
    },
    {
      "cell_type": "code",
      "metadata": {
        "colab": {
          "base_uri": "https://localhost:8080/"
        },
        "id": "x9P2iGHSLUQg",
        "outputId": "f3676448-bfaa-4319-e747-7fff926812a0"
      },
      "source": [
        "#numpy functions to create tensors quickly\n",
        "print('np.zeros((2,2)):\\n', np.zeros((2,2)))\n",
        "print('np.ones((2,2)):\\n', np.ones((2,2)))\n",
        "print('np.eye((2)):\\n', np.eye((2))) #idenntity matrix\n",
        "print('np.random.random((2,2)):\\n', np.random.random((2,2)))"
      ],
      "execution_count": 13,
      "outputs": [
        {
          "output_type": "stream",
          "text": [
            "np.zeros((2,2)):\n",
            " [[0. 0.]\n",
            " [0. 0.]]\n",
            "np.ones((2,2)):\n",
            " [[1. 1.]\n",
            " [1. 1.]]\n",
            "np.eye((2)):\n",
            " [[1. 0.]\n",
            " [0. 1.]]\n",
            "np.random.random((2,2)):\n",
            " [[0.26291965 0.8465587 ]\n",
            " [0.48286829 0.23235895]]\n"
          ],
          "name": "stdout"
        }
      ]
    },
    {
      "cell_type": "markdown",
      "metadata": {
        "id": "jvkPfBAgMF6g"
      },
      "source": [
        "<div align=\"left\">\n",
        "<img src=\"https://raw.githubusercontent.com/GokuMohandas/MadeWithML/main/images/basics/numpy/indexing.png\" width=\"300\">\n",
        "</div>"
      ]
    },
    {
      "cell_type": "code",
      "metadata": {
        "colab": {
          "base_uri": "https://localhost:8080/"
        },
        "id": "ypoeAkuMLxiK",
        "outputId": "d88209cb-9840-4ee1-ad8e-e5b0e1396b8c"
      },
      "source": [
        "#we can pull exaxt values from matrixes by indexing\n",
        "x = np.array([1,2,3])\n",
        "print('x: ', x)\n",
        "print('x[0]: ', x[0])\n",
        "x[0] = 0\n",
        "print('x: ', x)"
      ],
      "execution_count": 14,
      "outputs": [
        {
          "output_type": "stream",
          "text": [
            "x:  [1 2 3]\n",
            "x[0]:  1\n",
            "x:  [0 2 3]\n"
          ],
          "name": "stdout"
        }
      ]
    },
    {
      "cell_type": "code",
      "metadata": {
        "colab": {
          "base_uri": "https://localhost:8080/"
        },
        "id": "U-GaeROIMLAo",
        "outputId": "8293ac48-547c-432e-dc01-1ed2fd551a0e"
      },
      "source": [
        "#slicing\n",
        "x = np.array([[1,2,3,4], [5,6,7,8], [9,10,11,12]])\n",
        "print(x)\n",
        "print('x column:', x[:, 1])\n",
        "print('x row 0: ', x[0, :])\n",
        "print('x rows 0,1 and cols 1,2: \\n', x[0:2, 1:3])"
      ],
      "execution_count": 15,
      "outputs": [
        {
          "output_type": "stream",
          "text": [
            "[[ 1  2  3  4]\n",
            " [ 5  6  7  8]\n",
            " [ 9 10 11 12]]\n",
            "x column: [ 2  6 10]\n",
            "x row 0:  [1 2 3 4]\n",
            "x rows 0,1 and cols 1,2: \n",
            " [[2 3]\n",
            " [6 7]]\n"
          ],
          "name": "stdout"
        }
      ]
    },
    {
      "cell_type": "code",
      "metadata": {
        "colab": {
          "base_uri": "https://localhost:8080/"
        },
        "id": "maTh2_jIMl5g",
        "outputId": "ca03b3c4-092e-4cf3-b8af-7e346bb68c1b"
      },
      "source": [
        "#integer array indexing \n",
        "print(x)\n",
        "rows_to_get = np.array([0,1,2])\n",
        "print('rows_to_get: ', rows_to_get)\n",
        "cols_to_get = np.array([0,2,1])\n",
        "print('cols_to_get: ', cols_to_get)\n",
        "#combine sequences above to get values to get\n",
        "print ('indexed values: ', x[rows_to_get, cols_to_get])"
      ],
      "execution_count": 16,
      "outputs": [
        {
          "output_type": "stream",
          "text": [
            "[[ 1  2  3  4]\n",
            " [ 5  6  7  8]\n",
            " [ 9 10 11 12]]\n",
            "rows_to_get:  [0 1 2]\n",
            "cols_to_get:  [0 2 1]\n",
            "indexed values:  [ 1  7 10]\n"
          ],
          "name": "stdout"
        }
      ]
    },
    {
      "cell_type": "code",
      "metadata": {
        "colab": {
          "base_uri": "https://localhost:8080/"
        },
        "id": "Bp9EFc8ONJCv",
        "outputId": "3f3e8f34-79b0-4e63-c9cf-ed56e5f8ee45"
      },
      "source": [
        "#coolean array indexing\n",
        "x = np.array([[1,2], [3,4], [5,6]])\n",
        "print('x:\\n', x)\n",
        "print('x > 2:\\n', x > 2)\n",
        "print('x[x>2]:\\n', x[x>2])"
      ],
      "execution_count": 17,
      "outputs": [
        {
          "output_type": "stream",
          "text": [
            "x:\n",
            " [[1 2]\n",
            " [3 4]\n",
            " [5 6]]\n",
            "x > 2:\n",
            " [[False False]\n",
            " [ True  True]\n",
            " [ True  True]]\n",
            "x[x>2]:\n",
            " [3 4 5 6]\n"
          ],
          "name": "stdout"
        }
      ]
    },
    {
      "cell_type": "markdown",
      "metadata": {
        "id": "A66n7C7rNdgU"
      },
      "source": [
        "##Arithmetic"
      ]
    },
    {
      "cell_type": "code",
      "metadata": {
        "colab": {
          "base_uri": "https://localhost:8080/"
        },
        "id": "62cN7SXxNcT8",
        "outputId": "b59662dd-5401-4a61-c202-5fa7a263a2d8"
      },
      "source": [
        "#basics\n",
        "x = np.array([[1,2], [3,4]], dtype=np.float64)\n",
        "y = np.array([[1,2], [3,4]], dtype=np.float64)\n",
        "print('x+y:\\n', np.add(x,y))\n",
        "print('x-y:\\n', np.subtract(x, y))\n",
        "print('x * y:\\n', np.multiply(x,y))\n",
        "print('x / y:\\n', np.divide(x,y))"
      ],
      "execution_count": 19,
      "outputs": [
        {
          "output_type": "stream",
          "text": [
            "x+y:\n",
            " [[2. 4.]\n",
            " [6. 8.]]\n",
            "x-y:\n",
            " [[0. 0.]\n",
            " [0. 0.]]\n",
            "x * y:\n",
            " [[ 1.  4.]\n",
            " [ 9. 16.]]\n",
            "x / y:\n",
            " [[1. 1.]\n",
            " [1. 1.]]\n"
          ],
          "name": "stdout"
        }
      ]
    },
    {
      "cell_type": "markdown",
      "metadata": {
        "id": "hPDPZZlPOHEA"
      },
      "source": [
        "##Dot Product\n",
        "\n",
        "One of the most common NumPy operations we’ll use in machine learning is matrix multiplication using the dot product. We take the rows of our first matrix (2) and the columns of our second matrix (2) to determine the dot product, giving us an output of `[2 X 2]`. The only requirement is that the inside dimensions match, in this case the first matrix has 3 columns and the second matrix has 3 rows. \n",
        "\n",
        "<div align=\"left\">\n",
        "<img src=\"https://raw.githubusercontent.com/GokuMohandas/MadeWithML/main/images/basics/numpy/dot.gif\" width=\"450\">\n",
        "</div>"
      ]
    },
    {
      "cell_type": "code",
      "metadata": {
        "colab": {
          "base_uri": "https://localhost:8080/"
        },
        "id": "2ZgpI7MdOEi-",
        "outputId": "eb53fd77-0c11-4de8-e367-05d81d5bc80c"
      },
      "source": [
        "#dot product\n",
        "a = np.array([[1,2,3], [4,5,6]], dtype=np.float64)\n",
        "b = np.array([[7,8], [9,10], [11,12]], dtype=np.float64)\n",
        "c = a.dot(b)\n",
        "print(f'{a.shape} · {b.shape} = {c.shape}')\n",
        "print(c)"
      ],
      "execution_count": 20,
      "outputs": [
        {
          "output_type": "stream",
          "text": [
            "(2, 3) · (3, 2) = (2, 2)\n",
            "[[ 58.  64.]\n",
            " [139. 154.]]\n"
          ],
          "name": "stdout"
        }
      ]
    },
    {
      "cell_type": "markdown",
      "metadata": {
        "id": "9oExZALFOu0w"
      },
      "source": [
        "## Axis operations\n",
        "\n",
        "<div align=\"left\">\n",
        "<img src=\"https://raw.githubusercontent.com/GokuMohandas/MadeWithML/main/images/basics/numpy/axis.gif\" width=\"450\">\n",
        "</div>"
      ]
    },
    {
      "cell_type": "code",
      "metadata": {
        "colab": {
          "base_uri": "https://localhost:8080/"
        },
        "id": "PMvikQNaPsuD",
        "outputId": "5ef74042-e3cd-4523-91fc-01a5f519d9ef"
      },
      "source": [
        "#sum across a dimension\n",
        "x = np.array([[1,2], [3,4]])\n",
        "print(x)\n",
        "print('sum all: ', np.sum(x)) #sum all elements\n",
        "print('sum axis=0: ',np.sum(x, axis=0)) #sum across rows\n",
        "print('sum axis=1: ', np.sum(x, axis=1)) #sum across cols"
      ],
      "execution_count": 22,
      "outputs": [
        {
          "output_type": "stream",
          "text": [
            "[[1 2]\n",
            " [3 4]]\n",
            "sum all:  10\n",
            "sum axis=0:  [4 6]\n",
            "sum axis=1:  [3 7]\n"
          ],
          "name": "stdout"
        }
      ]
    },
    {
      "cell_type": "code",
      "metadata": {
        "colab": {
          "base_uri": "https://localhost:8080/"
        },
        "id": "JOJ48lokQGKT",
        "outputId": "e6409ab1-fd76-43cd-a7a3-326d6473bc39"
      },
      "source": [
        "#min/max\n",
        "x = np.array([[1,2,3], [4,5,6]])\n",
        "print('min: ', x.min())\n",
        "print('max: ', x.max())\n",
        "print('min axis=0: ', x.min(axis=0))\n",
        "print('min axis=1: ', x.min(axis=1))"
      ],
      "execution_count": 24,
      "outputs": [
        {
          "output_type": "stream",
          "text": [
            "min:  1\n",
            "max:  6\n",
            "min axis=0:  [1 2 3]\n",
            "min axis=1:  [1 4]\n"
          ],
          "name": "stdout"
        }
      ]
    },
    {
      "cell_type": "markdown",
      "metadata": {
        "id": "ot9XuRX5QsGX"
      },
      "source": [
        "##Broadcasting\n",
        "\n",
        "Broadcasting helps us combine values wiht different dims. Like below, a scaler(3) and a vector([1,2]) are combined by broadcastin 3 from a scaler to a vector.\n",
        "\n",
        "\n",
        "\n",
        "<div align=\"left\">\n",
        "<img src=\"https://raw.githubusercontent.com/GokuMohandas/MadeWithML/main/images/basics/numpy/broadcast.png\" width=\"300\">\n",
        "</div>"
      ]
    },
    {
      "cell_type": "code",
      "metadata": {
        "colab": {
          "base_uri": "https://localhost:8080/"
        },
        "id": "Bb2muTaYQZ25",
        "outputId": "62dcee0d-4031-4af8-fdc7-80f568b2c202"
      },
      "source": [
        "#broadcasting\n",
        "x = np.array([1,2]) #vector\n",
        "y = np.array(3) #scaler\n",
        "z = x + y\n",
        "print('z:\\n', z)"
      ],
      "execution_count": 25,
      "outputs": [
        {
          "output_type": "stream",
          "text": [
            "z:\n",
            " [4 5]\n"
          ],
          "name": "stdout"
        }
      ]
    },
    {
      "cell_type": "markdown",
      "metadata": {
        "id": "hqU7UQrcRNIh"
      },
      "source": [
        "##Transpose\n",
        "\n",
        "We can change the dims of our tensors for operations like dot product.If we need to switch to two dims, we can transpose the tensor.\n",
        "\n",
        "<div align=\"left\">\n",
        "<img src=\"https://raw.githubusercontent.com/GokuMohandas/MadeWithML/main/images/basics/numpy/transpose.png\" width=\"400\">\n",
        "</div>"
      ]
    },
    {
      "cell_type": "code",
      "metadata": {
        "colab": {
          "base_uri": "https://localhost:8080/"
        },
        "id": "Dza4p4iURbK4",
        "outputId": "a55f7306-c5b0-41be-9553-3e2ac156769f"
      },
      "source": [
        "#transpose\n",
        "x = np.array([[1,2,3], [4,5,6]])\n",
        "print('x:\\n', x)\n",
        "print('x.shape: ', x.shape)\n",
        "y = np.transpose(x, (1,0)) #flip dims at 0 and 1\n",
        "print('y:\\n', y)\n",
        "print('y.shape: ', y.shape)"
      ],
      "execution_count": 27,
      "outputs": [
        {
          "output_type": "stream",
          "text": [
            "x:\n",
            " [[1 2 3]\n",
            " [4 5 6]]\n",
            "x.shape:  (2, 3)\n",
            "y:\n",
            " [[1 4]\n",
            " [2 5]\n",
            " [3 6]]\n",
            "y.shape:  (3, 2)\n"
          ],
          "name": "stdout"
        }
      ]
    },
    {
      "cell_type": "markdown",
      "metadata": {
        "id": "nQWhjGYzR4qL"
      },
      "source": [
        "##Reshape\n",
        "\n",
        "We will sometimes want to reshape a tensor. It will have to have  the same number of elements(1X6=2X3) but the possiblities are vast. \n",
        "\n",
        "\n",
        "\n",
        "<div align=\"left\">\n",
        "<img src=\"https://raw.githubusercontent.com/GokuMohandas/MadeWithML/main/images/basics/numpy/reshape.png\" width=\"450\">\n",
        "</div>"
      ]
    },
    {
      "cell_type": "code",
      "metadata": {
        "colab": {
          "base_uri": "https://localhost:8080/"
        },
        "id": "b27VnI1hSdRC",
        "outputId": "ac6c7c11-6c2b-4ca3-93a5-57817c6a0bdb"
      },
      "source": [
        "#reshaping\n",
        "x = np.array([[1,2,3,4,5,6]])\n",
        "print(x)\n",
        "print('x.shape: ', x.shape)\n",
        "y = np.reshape(x, (2,3))\n",
        "print(y)\n",
        "print('y.shape: ', y.shape)\n",
        "z = np.reshape(x, (2, -1))\n",
        "print(z)\n",
        "print('z.shape: ', z.shape)"
      ],
      "execution_count": 28,
      "outputs": [
        {
          "output_type": "stream",
          "text": [
            "[[1 2 3 4 5 6]]\n",
            "x.shape:  (1, 6)\n",
            "[[1 2 3]\n",
            " [4 5 6]]\n",
            "y.shape:  (2, 3)\n",
            "[[1 2 3]\n",
            " [4 5 6]]\n",
            "z.shape:  (2, 3)\n"
          ],
          "name": "stdout"
        }
      ]
    },
    {
      "cell_type": "markdown",
      "metadata": {
        "id": "VCjIXL7yTNqC"
      },
      "source": [
        "##Reshaping Pitfalls\n",
        "\n",
        "Below we see an unintended reshape. \n",
        "\n",
        "<div align=\"left\">\n",
        "<img src=\"https://raw.githubusercontent.com/GokuMohandas/MadeWithML/main/images/basics/numpy/reshape_wrong.png\" width=\"600\">\n",
        "</div>"
      ]
    },
    {
      "cell_type": "code",
      "metadata": {
        "colab": {
          "base_uri": "https://localhost:8080/"
        },
        "id": "qT86fU0rTmVU",
        "outputId": "557d315d-d7a9-4c3b-b6e1-694496e4e184"
      },
      "source": [
        "x = np.array([[[1, 1, 1, 1], [2, 2, 2, 2], [3, 3, 3, 3]],\n",
        "              [[10, 10, 10, 10], [20, 20, 20, 20], [30, 30, 30, 30]]])\n",
        "print (\"x:\\n\", x)\n",
        "print (\"x.shape: \", x.shape)"
      ],
      "execution_count": 29,
      "outputs": [
        {
          "output_type": "stream",
          "text": [
            "x:\n",
            " [[[ 1  1  1  1]\n",
            "  [ 2  2  2  2]\n",
            "  [ 3  3  3  3]]\n",
            "\n",
            " [[10 10 10 10]\n",
            "  [20 20 20 20]\n",
            "  [30 30 30 30]]]\n",
            "x.shape:  (2, 3, 4)\n"
          ],
          "name": "stdout"
        }
      ]
    },
    {
      "cell_type": "code",
      "metadata": {
        "colab": {
          "base_uri": "https://localhost:8080/"
        },
        "id": "j5zzQmJ7S0Rz",
        "outputId": "5d5a622b-187b-402e-c38b-9f09cff68fb4"
      },
      "source": [
        "#unintended rehsape\n",
        "z_incorrect = np.reshape(x, (x.shape[1], -1))\n",
        "print('z_incorrect: \\n', z_incorrect)\n",
        "print('z_incorrect.shape: ', z_incorrect.shape)"
      ],
      "execution_count": 31,
      "outputs": [
        {
          "output_type": "stream",
          "text": [
            "z_incorrect: \n",
            " [[ 1  1  1  1  2  2  2  2]\n",
            " [ 3  3  3  3 10 10 10 10]\n",
            " [20 20 20 20 30 30 30 30]]\n",
            "z_incorrect.shape:  (3, 8)\n"
          ],
          "name": "stdout"
        }
      ]
    },
    {
      "cell_type": "markdown",
      "metadata": {
        "id": "KiMTzjBQTw82"
      },
      "source": [
        "Instead, we can transpose and then reshape our tensor to get the desired outcome. Transpose lets us put our two vectors we want to combine together and then we use reshape to join them.\n",
        "\n",
        "> Dummy variables are very helpful when unsure about reshaping.\n",
        "\n",
        "\n",
        "\n",
        "<div align=\"left\">\n",
        "<img src=\"https://raw.githubusercontent.com/GokuMohandas/MadeWithML/main/images/basics/numpy/reshape_right.png\" width=\"600\">\n",
        "</div>"
      ]
    },
    {
      "cell_type": "code",
      "metadata": {
        "colab": {
          "base_uri": "https://localhost:8080/"
        },
        "id": "p0IKZ6RhTvgC",
        "outputId": "0139ef59-1525-4fc2-d511-45b413f48337"
      },
      "source": [
        "#intended reshape\n",
        "y = np.transpose(x, (1,0,2))\n",
        "print( 'y:\\n', y)\n",
        "print('y.shape: ', y.shape)\n",
        "z_correct = np.reshape(y, (y.shape[0], -1))\n",
        "print('z_correct: ', z_correct)\n",
        "print('z_correct.shape: ', z_correct.shape)"
      ],
      "execution_count": 32,
      "outputs": [
        {
          "output_type": "stream",
          "text": [
            "y:\n",
            " [[[ 1  1  1  1]\n",
            "  [10 10 10 10]]\n",
            "\n",
            " [[ 2  2  2  2]\n",
            "  [20 20 20 20]]\n",
            "\n",
            " [[ 3  3  3  3]\n",
            "  [30 30 30 30]]]\n",
            "y.shape:  (3, 2, 4)\n",
            "z_correct:  [[ 1  1  1  1 10 10 10 10]\n",
            " [ 2  2  2  2 20 20 20 20]\n",
            " [ 3  3  3  3 30 30 30 30]]\n",
            "z_correct.shape:  (3, 8)\n"
          ],
          "name": "stdout"
        }
      ]
    },
    {
      "cell_type": "markdown",
      "metadata": {
        "id": "BppaxzLmeYDc"
      },
      "source": [
        "##Expanding and Reducing\n",
        "\n",
        "We can also easily add and remove dimensions to our tensors. We will do this to make tensors compatible for certain operations."
      ]
    },
    {
      "cell_type": "code",
      "metadata": {
        "colab": {
          "base_uri": "https://localhost:8080/"
        },
        "id": "brKXTXdfevsS",
        "outputId": "f7372fe5-e769-4f49-fee2-22b54531181f"
      },
      "source": [
        "#Adding dimensions\n",
        "x = np.array([[1,2,3], [4,5,6]])\n",
        "print('x:\\n', x)\n",
        "print('x.shape', x.shape)\n",
        "y = np.expand_dims(x,1) #expand dim 1\n",
        "print('y:\\n', y)\n",
        "print('y.shape: ', y.shape)"
      ],
      "execution_count": 33,
      "outputs": [
        {
          "output_type": "stream",
          "text": [
            "x:\n",
            " [[1 2 3]\n",
            " [4 5 6]]\n",
            "x.shape (2, 3)\n",
            "y:\n",
            " [[[1 2 3]]\n",
            "\n",
            " [[4 5 6]]]\n",
            "y.shape:  (2, 1, 3)\n"
          ],
          "name": "stdout"
        }
      ]
    },
    {
      "cell_type": "code",
      "metadata": {
        "colab": {
          "base_uri": "https://localhost:8080/"
        },
        "id": "P4rdDgn2fDot",
        "outputId": "1bb5e8a9-19e9-439f-e9cc-67e275d139a9"
      },
      "source": [
        "#remove dimensions\n",
        "x = np.array([[[1,2,3]], [[4,5,6]]])\n",
        "print('x:\\n', x)\n",
        "print('s.shape: ', x.shape)\n",
        "y = np.squeeze(x, 1) #squeeze dim 1\n",
        "print('y:\\n', y)\n",
        "print('y.shape: ', y.shape) #notice extra set of brackets"
      ],
      "execution_count": 36,
      "outputs": [
        {
          "output_type": "stream",
          "text": [
            "x:\n",
            " [[[1 2 3]]\n",
            "\n",
            " [[4 5 6]]]\n",
            "s.shape:  (2, 1, 3)\n",
            "y:\n",
            " [[1 2 3]\n",
            " [4 5 6]]\n",
            "y.shape:  (2, 3)\n"
          ],
          "name": "stdout"
        }
      ]
    },
    {
      "cell_type": "markdown",
      "metadata": {
        "id": "jKQGuEtGgOoI"
      },
      "source": [
        "#Pytorch"
      ]
    },
    {
      "cell_type": "code",
      "metadata": {
        "id": "S5CjPCj1gQVy"
      },
      "source": [
        "import numpy as np\n",
        "import torch"
      ],
      "execution_count": 37,
      "outputs": []
    },
    {
      "cell_type": "code",
      "metadata": {
        "id": "s3QHuUMzgfLS"
      },
      "source": [
        "SEED = 1234"
      ],
      "execution_count": 38,
      "outputs": []
    },
    {
      "cell_type": "code",
      "metadata": {
        "colab": {
          "base_uri": "https://localhost:8080/"
        },
        "id": "o2O_lLQMggVB",
        "outputId": "94737eb4-8bbe-4259-84d4-5465947ff03d"
      },
      "source": [
        "#set seeds\n",
        "np.random.seed(seed=SEED)\n",
        "torch.manual_seed(SEED)"
      ],
      "execution_count": 39,
      "outputs": [
        {
          "output_type": "execute_result",
          "data": {
            "text/plain": [
              "<torch._C.Generator at 0x7fe02cb0f1b0>"
            ]
          },
          "metadata": {
            "tags": []
          },
          "execution_count": 39
        }
      ]
    },
    {
      "cell_type": "markdown",
      "metadata": {
        "id": "KKNN_FdDgnSE"
      },
      "source": [
        "##Basics"
      ]
    },
    {
      "cell_type": "code",
      "metadata": {
        "colab": {
          "base_uri": "https://localhost:8080/"
        },
        "id": "wvnolpxhgl_G",
        "outputId": "49d7d6f3-715c-4ddf-d1b3-0a8d6b25951d"
      },
      "source": [
        "#create random tensor\n",
        "x = torch.randn(2,3)\n",
        "print(f'Type: {x.type()}')\n",
        "print(f'Size: {x.shape}')\n",
        "print(f'Values: \\n{x}')"
      ],
      "execution_count": 41,
      "outputs": [
        {
          "output_type": "stream",
          "text": [
            "Type: torch.FloatTensor\n",
            "Size: torch.Size([2, 3])\n",
            "Values: \n",
            "tensor([[ 0.0461,  0.4024, -1.0115],\n",
            "        [ 0.2167, -0.6123,  0.5036]])\n"
          ],
          "name": "stdout"
        }
      ]
    },
    {
      "cell_type": "code",
      "metadata": {
        "colab": {
          "base_uri": "https://localhost:8080/"
        },
        "id": "e9mLqFLmg8r_",
        "outputId": "67cd54b0-382f-44fd-cc9d-b3bf0192371f"
      },
      "source": [
        "#zeros and ones tensor\n",
        "x = torch.zeros(2, 3)\n",
        "print(x)\n",
        "x = torch.ones(2,3)\n",
        "print(x)"
      ],
      "execution_count": 42,
      "outputs": [
        {
          "output_type": "stream",
          "text": [
            "tensor([[0., 0., 0.],\n",
            "        [0., 0., 0.]])\n",
            "tensor([[1., 1., 1.],\n",
            "        [1., 1., 1.]])\n"
          ],
          "name": "stdout"
        }
      ]
    },
    {
      "cell_type": "code",
      "metadata": {
        "colab": {
          "base_uri": "https://localhost:8080/"
        },
        "id": "Onk9TboIhGrw",
        "outputId": "cbc8c5cc-3b3c-4e79-f241-b2a9c9d98310"
      },
      "source": [
        "#List -> Tensor\n",
        "x = torch.Tensor([[1,2,3],[4,5,6]])\n",
        "print(f'Size: {x.shape}')\n",
        "print(f'Values: \\n{x}')"
      ],
      "execution_count": 44,
      "outputs": [
        {
          "output_type": "stream",
          "text": [
            "Size: torch.Size([2, 3])\n",
            "Values: \n",
            "tensor([[1., 2., 3.],\n",
            "        [4., 5., 6.]])\n"
          ],
          "name": "stdout"
        }
      ]
    },
    {
      "cell_type": "code",
      "metadata": {
        "colab": {
          "base_uri": "https://localhost:8080/"
        },
        "id": "kR1I824UhT2A",
        "outputId": "c75716a5-8e33-4b81-e731-67c035499677"
      },
      "source": [
        "#Cahange tensor type\n",
        "x = torch.Tensor(3,4)\n",
        "print(f'Type: {x.type()}')\n",
        "x = x.long()\n",
        "print(f'Type: {x.type()}')"
      ],
      "execution_count": 45,
      "outputs": [
        {
          "output_type": "stream",
          "text": [
            "Type: torch.FloatTensor\n",
            "Type: torch.LongTensor\n"
          ],
          "name": "stdout"
        }
      ]
    },
    {
      "cell_type": "markdown",
      "metadata": {
        "id": "1gSKV397hl1D"
      },
      "source": [
        "##Operations"
      ]
    },
    {
      "cell_type": "code",
      "metadata": {
        "colab": {
          "base_uri": "https://localhost:8080/"
        },
        "id": "5FO_ZLD7hkum",
        "outputId": "448683ca-b9b7-43ce-8fca-e79eb2cc77cc"
      },
      "source": [
        "#addition\n",
        "x = torch.randn(2,3)\n",
        "y = torch.randn(2,3)\n",
        "z = x + y\n",
        "print(f'Size: {z.shape}')\n",
        "print(f'Values: {z}')"
      ],
      "execution_count": 47,
      "outputs": [
        {
          "output_type": "stream",
          "text": [
            "Size: torch.Size([2, 3])\n",
            "Values: tensor([[ 0.1824, -1.3555, -1.0664],\n",
            "        [ 1.0333,  0.1368, -0.1310]])\n"
          ],
          "name": "stdout"
        }
      ]
    },
    {
      "cell_type": "code",
      "metadata": {
        "colab": {
          "base_uri": "https://localhost:8080/"
        },
        "id": "_UiFilF_h11O",
        "outputId": "cd8ed174-795f-4a4b-fe23-a275d2f396a1"
      },
      "source": [
        "#Dot product\n",
        "x = torch.randn(2,3)\n",
        "y = torch.randn(3,2)\n",
        "z = torch.mm(x,y)\n",
        "print(f'Size: {z.shape}')\n",
        "print(f'Values: {z}')"
      ],
      "execution_count": 49,
      "outputs": [
        {
          "output_type": "stream",
          "text": [
            "Size: torch.Size([2, 2])\n",
            "Values: tensor([[ 0.4173,  0.2528],\n",
            "        [-3.6668, -1.6944]])\n"
          ],
          "name": "stdout"
        }
      ]
    },
    {
      "cell_type": "code",
      "metadata": {
        "colab": {
          "base_uri": "https://localhost:8080/"
        },
        "id": "1npXFRjriHGM",
        "outputId": "548d68a5-bd9d-42bf-b314-18bdb412aef3"
      },
      "source": [
        "#Transpose\n",
        "x = torch.randn(2,3)\n",
        "print(f'Size: {x.shape}')\n",
        "print(f'Values: \\n{x}')\n",
        "y = torch.t(x)\n",
        "print(f'Size: {y.shape}')\n",
        "print(f'Values: \\n{y}')"
      ],
      "execution_count": 50,
      "outputs": [
        {
          "output_type": "stream",
          "text": [
            "Size: torch.Size([2, 3])\n",
            "Values: \n",
            "tensor([[-0.2349, -0.0306,  1.7462],\n",
            "        [-0.0722, -1.6794, -1.7010]])\n",
            "Size: torch.Size([3, 2])\n",
            "Values: \n",
            "tensor([[-0.2349, -0.0722],\n",
            "        [-0.0306, -1.6794],\n",
            "        [ 1.7462, -1.7010]])\n"
          ],
          "name": "stdout"
        }
      ]
    },
    {
      "cell_type": "code",
      "metadata": {
        "colab": {
          "base_uri": "https://localhost:8080/"
        },
        "id": "SW1eNHYOiidl",
        "outputId": "436c2f4e-f49c-483e-a34e-4c4f00e77709"
      },
      "source": [
        "#Reshape\n",
        "x = torch.randn(2,3)\n",
        "z = x.view(3,2)\n",
        "print(f'Size: {z.shape}')\n",
        "print(f'Values: \\n{z}')"
      ],
      "execution_count": 51,
      "outputs": [
        {
          "output_type": "stream",
          "text": [
            "Size: torch.Size([3, 2])\n",
            "Values: \n",
            "tensor([[ 0.6486,  1.7653],\n",
            "        [ 1.0812,  1.2436],\n",
            "        [ 0.8971, -0.0784]])\n"
          ],
          "name": "stdout"
        }
      ]
    },
    {
      "cell_type": "code",
      "metadata": {
        "colab": {
          "base_uri": "https://localhost:8080/"
        },
        "id": "9B-2rlj1iz3N",
        "outputId": "c1bdf86e-6e6e-438d-c34c-36b3829daace"
      },
      "source": [
        "#dangers of reshaping\n",
        "x = torch.tensor([\n",
        "    [[1,1,1,1], [2,2,2,2], [3,3,3,3]],\n",
        "    [[10,10,10,10], [20,20,20,20], [30,30,30,30]]\n",
        "])\n",
        "\n",
        "print(f'size: {x.shape}')\n",
        "print(f'x: \\n{x}\\n')\n",
        "\n",
        "a = x.view(x.size(1), -1)\n",
        "print(f'\\nSize: {a.shape}')\n",
        "print(f'a: \\n{a}\\n')\n",
        "\n",
        "b = x.transpose(0,1).contiguous()\n",
        "print(f'\\nSize: {b.shape}')\n",
        "print(f'b: \\n{b}\\n')\n",
        "\n",
        "c = b.view(b.size(0), -1)\n",
        "print(f'\\nSize: {c.shape}')\n",
        "print(f'c: \\n{c}')"
      ],
      "execution_count": 54,
      "outputs": [
        {
          "output_type": "stream",
          "text": [
            "size: torch.Size([2, 3, 4])\n",
            "x: \n",
            "tensor([[[ 1,  1,  1,  1],\n",
            "         [ 2,  2,  2,  2],\n",
            "         [ 3,  3,  3,  3]],\n",
            "\n",
            "        [[10, 10, 10, 10],\n",
            "         [20, 20, 20, 20],\n",
            "         [30, 30, 30, 30]]])\n",
            "\n",
            "\n",
            "Size: torch.Size([3, 8])\n",
            "a: \n",
            "tensor([[ 1,  1,  1,  1,  2,  2,  2,  2],\n",
            "        [ 3,  3,  3,  3, 10, 10, 10, 10],\n",
            "        [20, 20, 20, 20, 30, 30, 30, 30]])\n",
            "\n",
            "\n",
            "Size: torch.Size([3, 2, 4])\n",
            "b: \n",
            "tensor([[[ 1,  1,  1,  1],\n",
            "         [10, 10, 10, 10]],\n",
            "\n",
            "        [[ 2,  2,  2,  2],\n",
            "         [20, 20, 20, 20]],\n",
            "\n",
            "        [[ 3,  3,  3,  3],\n",
            "         [30, 30, 30, 30]]])\n",
            "\n",
            "\n",
            "Size: torch.Size([3, 8])\n",
            "c: \n",
            "tensor([[ 1,  1,  1,  1, 10, 10, 10, 10],\n",
            "        [ 2,  2,  2,  2, 20, 20, 20, 20],\n",
            "        [ 3,  3,  3,  3, 30, 30, 30, 30]])\n"
          ],
          "name": "stdout"
        }
      ]
    },
    {
      "cell_type": "code",
      "metadata": {
        "colab": {
          "base_uri": "https://localhost:8080/"
        },
        "id": "0YrATMe4jRH2",
        "outputId": "a6798588-1841-4c8f-893e-1fbcd127991e"
      },
      "source": [
        "#dimensional operations\n",
        "x = torch.randn(2,3)\n",
        "print(f'Values: \\n{x}')\n",
        "y = torch.sum(x, dim=0) #add each row's values for every col\n",
        "print(f'Values: \\n{y}')\n",
        "z = torch.sum(x, dim=1) #add each col's value for every row\n",
        "print(f'Values: \\n{z}')"
      ],
      "execution_count": 56,
      "outputs": [
        {
          "output_type": "stream",
          "text": [
            "Values: \n",
            "tensor([[ 0.8246, -0.5723, -0.4876],\n",
            "        [ 0.1944, -1.0481, -0.0741]])\n",
            "Values: \n",
            "tensor([ 1.0190, -1.6204, -0.5617])\n",
            "Values: \n",
            "tensor([-0.2353, -0.9278])\n"
          ],
          "name": "stdout"
        }
      ]
    },
    {
      "cell_type": "markdown",
      "metadata": {
        "id": "VSRvExAzkWZY"
      },
      "source": [
        "##Indexing, Splicing, and Joining"
      ]
    },
    {
      "cell_type": "code",
      "metadata": {
        "colab": {
          "base_uri": "https://localhost:8080/"
        },
        "id": "N2Ka1-dqkSyp",
        "outputId": "22a80f6c-b42d-4a1e-d9ec-89e8823a3bc7"
      },
      "source": [
        "x = torch.randn(3,4)\n",
        "print(f'x: \\n{x}')\n",
        "print(f'x[:1]: \\n{x[:1]}') #returns the first row of the tensor\n",
        "print(f'x[:1, 1:3]: \\n{x[:1, 1:3]}') #returns the first row, first and second elements"
      ],
      "execution_count": 58,
      "outputs": [
        {
          "output_type": "stream",
          "text": [
            "x: \n",
            "tensor([[-0.4572,  0.0901,  0.4018, -1.1542],\n",
            "        [ 0.1192, -0.7348, -1.5864, -0.2671],\n",
            "        [ 2.6874, -0.4633,  0.6639,  0.2383]])\n",
            "x[:1]: \n",
            "tensor([[-0.4572,  0.0901,  0.4018, -1.1542]])\n",
            "x[:1, 1:3]: \n",
            "tensor([[0.0901, 0.4018]])\n"
          ],
          "name": "stdout"
        }
      ]
    },
    {
      "cell_type": "code",
      "metadata": {
        "colab": {
          "base_uri": "https://localhost:8080/"
        },
        "id": "5Ju0ckj5kq-N",
        "outputId": "156a4dcc-a30e-4173-c199-0817604504f3"
      },
      "source": [
        "#select dimensional indices\n",
        "x = torch.randn(2,3)\n",
        "print(f'Values: \\n{x}')\n",
        "\n",
        "col_indices = torch.LongTensor([0,2])\n",
        "chosen = torch.index_select(x, dim=1, index=col_indices) #values from col 0&2\n",
        "print(f'Values: \\n{chosen}')\n",
        "\n",
        "row_indices = torch.LongTensor([0,1])\n",
        "col_indices = torch.LongTensor([0,2])\n",
        "chosen = x[row_indices, col_indices] #values from (0,0) & (2,1)\n",
        "print(f'Values: \\n{chosen}')"
      ],
      "execution_count": 59,
      "outputs": [
        {
          "output_type": "stream",
          "text": [
            "Values: \n",
            "tensor([[ 0.8305, -0.0838,  0.9523],\n",
            "        [ 0.2016, -0.1714, -0.8164]])\n",
            "Values: \n",
            "tensor([[ 0.8305,  0.9523],\n",
            "        [ 0.2016, -0.8164]])\n",
            "Values: \n",
            "tensor([ 0.8305, -0.8164])\n"
          ],
          "name": "stdout"
        }
      ]
    },
    {
      "cell_type": "code",
      "metadata": {
        "colab": {
          "base_uri": "https://localhost:8080/"
        },
        "id": "yMNhoNvbmDgy",
        "outputId": "9e865aca-9b88-4349-e2ee-2f69f80225ed"
      },
      "source": [
        "x = torch.randn(2,3)\n",
        "print(f'Values: \\n{x}')\n",
        "y = torch.cat([x, x], dim=0) #stack by rows\n",
        "print(f'Values: \\n{y}')"
      ],
      "execution_count": 60,
      "outputs": [
        {
          "output_type": "stream",
          "text": [
            "Values: \n",
            "tensor([[-0.6066, -0.4800,  1.1733],\n",
            "        [ 0.3714, -2.3531, -1.6705]])\n",
            "Values: \n",
            "tensor([[-0.6066, -0.4800,  1.1733],\n",
            "        [ 0.3714, -2.3531, -1.6705],\n",
            "        [-0.6066, -0.4800,  1.1733],\n",
            "        [ 0.3714, -2.3531, -1.6705]])\n"
          ],
          "name": "stdout"
        }
      ]
    },
    {
      "cell_type": "markdown",
      "metadata": {
        "id": "ldxMtHFgmbt7"
      },
      "source": [
        "#Gradients\n",
        "\n",
        "* $ y = 3x + 2 $\n",
        "* $ z = \\sum{y}/N $\n",
        "* $ \\frac{\\partial(z)}{\\partial(x)} = \\frac{\\partial(z)}{\\partial(y)} \\frac{\\partial(y)}{\\partial(x)} = \\frac{1}{N} * 3 = \\frac{1}{12} * 3 = 0.25 $"
      ]
    },
    {
      "cell_type": "code",
      "metadata": {
        "colab": {
          "base_uri": "https://localhost:8080/"
        },
        "id": "ffFOlIpQmUmj",
        "outputId": "bf991291-9c10-4605-8b1c-00d23864d428"
      },
      "source": [
        "#Tensors with gradient bookkeeping\n",
        "x = torch.rand(3,4, requires_grad=True)\n",
        "y = 3*x +2\n",
        "z = y.mean()\n",
        "z.backward() #z has to be scaler\n",
        "print(f'x: \\n{x}')\n",
        "print(f'x.grad: \\n{x.grad}')"
      ],
      "execution_count": 61,
      "outputs": [
        {
          "output_type": "stream",
          "text": [
            "x: \n",
            "tensor([[0.0417, 0.0214, 0.6696, 0.0336],\n",
            "        [0.0903, 0.7542, 0.7427, 0.0444],\n",
            "        [0.8598, 0.4028, 0.8712, 0.2066]], requires_grad=True)\n",
            "x.grad: \n",
            "tensor([[0.2500, 0.2500, 0.2500, 0.2500],\n",
            "        [0.2500, 0.2500, 0.2500, 0.2500],\n",
            "        [0.2500, 0.2500, 0.2500, 0.2500]])\n"
          ],
          "name": "stdout"
        }
      ]
    },
    {
      "cell_type": "markdown",
      "metadata": {
        "id": "o6LBO5PtnEd4"
      },
      "source": [
        "##CUDA tensors"
      ]
    },
    {
      "cell_type": "code",
      "metadata": {
        "colab": {
          "base_uri": "https://localhost:8080/"
        },
        "id": "0gophd_gm51z",
        "outputId": "2bef121a-8993-4bac-eac9-384e7e9f4380"
      },
      "source": [
        "#IS CUDA available\n",
        "print(torch.cuda.is_available())"
      ],
      "execution_count": 62,
      "outputs": [
        {
          "output_type": "stream",
          "text": [
            "False\n"
          ],
          "name": "stdout"
        }
      ]
    },
    {
      "cell_type": "markdown",
      "metadata": {
        "id": "gxN6pt9RnLjK"
      },
      "source": [
        "If False (CUDA is not available), let's change that by following these steps: Go to Runtime > Change runtime type > Change Hardware accelertor to GPU > Click Save\n",
        "\n"
      ]
    },
    {
      "cell_type": "code",
      "metadata": {
        "id": "0F3vnGAOnJmQ"
      },
      "source": [
        "import torch"
      ],
      "execution_count": 1,
      "outputs": []
    },
    {
      "cell_type": "code",
      "metadata": {
        "colab": {
          "base_uri": "https://localhost:8080/"
        },
        "id": "QWMaj3Y7nNsR",
        "outputId": "b256138a-97b6-441b-898b-0d60f4c55900"
      },
      "source": [
        "#Is CUDA available now\n",
        "print(torch.cuda.is_available())"
      ],
      "execution_count": 2,
      "outputs": [
        {
          "output_type": "stream",
          "text": [
            "True\n"
          ],
          "name": "stdout"
        }
      ]
    },
    {
      "cell_type": "code",
      "metadata": {
        "colab": {
          "base_uri": "https://localhost:8080/"
        },
        "id": "I127Hv1JnTps",
        "outputId": "7eb0a14b-7b67-40fc-a2ec-74c537d30cb6"
      },
      "source": [
        "#set device\n",
        "device = torch.device('cuda' if torch.cuda.is_available() else 'cpu')\n",
        "print(device)"
      ],
      "execution_count": 4,
      "outputs": [
        {
          "output_type": "stream",
          "text": [
            "cuda\n"
          ],
          "name": "stdout"
        }
      ]
    },
    {
      "cell_type": "code",
      "metadata": {
        "colab": {
          "base_uri": "https://localhost:8080/"
        },
        "id": "kjh1uQ9onofU",
        "outputId": "820d3c2e-bab3-4f38-ac1a-f38ff4b19fa8"
      },
      "source": [
        "x = torch.rand(2,3)\n",
        "print(x.is_cuda)\n",
        "x = torch.rand(2,3).to(device) #stensor is sorted on the GPU\n",
        "print(x.is_cuda)"
      ],
      "execution_count": 6,
      "outputs": [
        {
          "output_type": "stream",
          "text": [
            "False\n",
            "True\n"
          ],
          "name": "stdout"
        }
      ]
    },
    {
      "cell_type": "code",
      "metadata": {
        "id": "Xqp1-TQjn7ah"
      },
      "source": [
        ""
      ],
      "execution_count": null,
      "outputs": []
    }
  ]
}