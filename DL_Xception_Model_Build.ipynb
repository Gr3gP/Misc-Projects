{
  "nbformat": 4,
  "nbformat_minor": 0,
  "metadata": {
    "colab": {
      "name": "DL.Xception Model Build.ipynb",
      "provenance": [],
      "collapsed_sections": [],
      "authorship_tag": "ABX9TyO7046yw4L9bY6MoO72Kt6V",
      "include_colab_link": true
    },
    "kernelspec": {
      "name": "python3",
      "display_name": "Python 3"
    },
    "language_info": {
      "name": "python"
    },
    "accelerator": "GPU"
  },
  "cells": [
    {
      "cell_type": "markdown",
      "metadata": {
        "id": "view-in-github",
        "colab_type": "text"
      },
      "source": [
        "<a href=\"https://colab.research.google.com/github/Gr3gP/Misc-Projects/blob/main/DL_Xception_Model_Build.ipynb\" target=\"_parent\"><img src=\"https://colab.research.google.com/assets/colab-badge.svg\" alt=\"Open In Colab\"/></a>"
      ]
    },
    {
      "cell_type": "code",
      "metadata": {
        "colab": {
          "base_uri": "https://localhost:8080/"
        },
        "id": "QYNn71pPGYCL",
        "outputId": "8f5e40dd-8386-433a-f7a0-ebc7d7f2a8bf"
      },
      "source": [
        "!git clone https://github.com/alexeygrigorev/clothing-dataset-small.git"
      ],
      "execution_count": 1,
      "outputs": [
        {
          "output_type": "stream",
          "text": [
            "Cloning into 'clothing-dataset-small'...\n",
            "remote: Enumerating objects: 3839, done.\u001b[K\n",
            "remote: Counting objects: 100% (400/400), done.\u001b[K\n",
            "remote: Compressing objects: 100% (400/400), done.\u001b[K\n",
            "remote: Total 3839 (delta 9), reused 384 (delta 0), pack-reused 3439\u001b[K\n",
            "Receiving objects: 100% (3839/3839), 100.58 MiB | 23.09 MiB/s, done.\n",
            "Resolving deltas: 100% (10/10), done.\n"
          ],
          "name": "stdout"
        }
      ]
    },
    {
      "cell_type": "code",
      "metadata": {
        "id": "DncZnstaHYN5"
      },
      "source": [
        "from tensorflow.keras.preprocessing.image import load_img"
      ],
      "execution_count": 2,
      "outputs": []
    },
    {
      "cell_type": "code",
      "metadata": {
        "id": "iGeDi6fYH7-C"
      },
      "source": [
        "#import all images\n",
        "from tensorflow.keras.preprocessing.image import ImageDataGenerator"
      ],
      "execution_count": 3,
      "outputs": []
    },
    {
      "cell_type": "code",
      "metadata": {
        "colab": {
          "base_uri": "https://localhost:8080/"
        },
        "id": "yYk651oIIXNU",
        "outputId": "b52069c7-4ee3-4c3f-ba44-453a8dff863b"
      },
      "source": [
        "train_gen = ImageDataGenerator()\n",
        "\n",
        "train_ds = train_gen.flow_from_directory(\n",
        "    'clothing-dataset-small/train/',\n",
        "    seed = 1,\n",
        "    target_size=(150,150),\n",
        "    batch_size=32\n",
        ")"
      ],
      "execution_count": 4,
      "outputs": [
        {
          "output_type": "stream",
          "text": [
            "Found 3068 images belonging to 10 classes.\n"
          ],
          "name": "stdout"
        }
      ]
    },
    {
      "cell_type": "code",
      "metadata": {
        "id": "PkJ9X4J-IoAH"
      },
      "source": [
        "X, y = next(train_ds)"
      ],
      "execution_count": 5,
      "outputs": []
    },
    {
      "cell_type": "code",
      "metadata": {
        "colab": {
          "base_uri": "https://localhost:8080/"
        },
        "id": "__lNH4TgIzwH",
        "outputId": "7cda6a44-43a5-470e-ab5d-1f0b466f69de"
      },
      "source": [
        "X"
      ],
      "execution_count": 6,
      "outputs": [
        {
          "output_type": "execute_result",
          "data": {
            "text/plain": [
              "array([[[[140., 137., 120.],\n",
              "         [145., 142., 125.],\n",
              "         [146., 143., 126.],\n",
              "         ...,\n",
              "         [189., 190., 176.],\n",
              "         [188., 189., 175.],\n",
              "         [187., 188., 174.]],\n",
              "\n",
              "        [[142., 139., 122.],\n",
              "         [147., 144., 127.],\n",
              "         [148., 145., 128.],\n",
              "         ...,\n",
              "         [193., 194., 180.],\n",
              "         [191., 192., 178.],\n",
              "         [191., 192., 178.]],\n",
              "\n",
              "        [[141., 138., 121.],\n",
              "         [145., 142., 125.],\n",
              "         [148., 145., 128.],\n",
              "         ...,\n",
              "         [193., 194., 180.],\n",
              "         [191., 192., 178.],\n",
              "         [191., 192., 178.]],\n",
              "\n",
              "        ...,\n",
              "\n",
              "        [[ 62.,  63.,  47.],\n",
              "         [ 70.,  71.,  55.],\n",
              "         [ 77.,  78.,  62.],\n",
              "         ...,\n",
              "         [180., 176., 164.],\n",
              "         [183., 179., 167.],\n",
              "         [191., 187., 175.]],\n",
              "\n",
              "        [[ 72.,  70.,  49.],\n",
              "         [ 70.,  67.,  52.],\n",
              "         [ 78.,  74.,  62.],\n",
              "         ...,\n",
              "         [178., 174., 163.],\n",
              "         [185., 181., 170.],\n",
              "         [192., 188., 177.]],\n",
              "\n",
              "        [[ 77.,  75.,  54.],\n",
              "         [ 63.,  60.,  45.],\n",
              "         [ 78.,  74.,  62.],\n",
              "         ...,\n",
              "         [178., 174., 163.],\n",
              "         [185., 181., 170.],\n",
              "         [192., 188., 177.]]],\n",
              "\n",
              "\n",
              "       [[[210., 176., 164.],\n",
              "         [210., 176., 164.],\n",
              "         [210., 176., 164.],\n",
              "         ...,\n",
              "         [219., 200., 196.],\n",
              "         [224., 205., 201.],\n",
              "         [230., 211., 207.]],\n",
              "\n",
              "        [[211., 177., 165.],\n",
              "         [212., 178., 166.],\n",
              "         [214., 180., 168.],\n",
              "         ...,\n",
              "         [228., 209., 205.],\n",
              "         [229., 210., 206.],\n",
              "         [241., 222., 218.]],\n",
              "\n",
              "        [[214., 180., 168.],\n",
              "         [218., 184., 172.],\n",
              "         [212., 178., 166.],\n",
              "         ...,\n",
              "         [242., 223., 219.],\n",
              "         [237., 218., 214.],\n",
              "         [233., 214., 210.]],\n",
              "\n",
              "        ...,\n",
              "\n",
              "        [[237., 201., 185.],\n",
              "         [241., 205., 189.],\n",
              "         [229., 193., 177.],\n",
              "         ...,\n",
              "         [252., 234., 222.],\n",
              "         [248., 232., 219.],\n",
              "         [247., 233., 220.]],\n",
              "\n",
              "        [[234., 198., 182.],\n",
              "         [226., 190., 174.],\n",
              "         [235., 199., 183.],\n",
              "         ...,\n",
              "         [247., 229., 217.],\n",
              "         [227., 211., 198.],\n",
              "         [246., 230., 217.]],\n",
              "\n",
              "        [[220., 188., 175.],\n",
              "         [220., 186., 174.],\n",
              "         [232., 198., 186.],\n",
              "         ...,\n",
              "         [180., 143., 124.],\n",
              "         [178., 139., 124.],\n",
              "         [183., 143., 131.]]],\n",
              "\n",
              "\n",
              "       [[[197., 174., 168.],\n",
              "         [196., 176., 169.],\n",
              "         [198., 178., 171.],\n",
              "         ...,\n",
              "         [208., 191., 184.],\n",
              "         [210., 193., 186.],\n",
              "         [216., 199., 192.]],\n",
              "\n",
              "        [[200., 177., 171.],\n",
              "         [199., 179., 172.],\n",
              "         [201., 181., 174.],\n",
              "         ...,\n",
              "         [212., 195., 188.],\n",
              "         [212., 195., 188.],\n",
              "         [216., 199., 192.]],\n",
              "\n",
              "        [[200., 177., 171.],\n",
              "         [196., 176., 169.],\n",
              "         [199., 179., 172.],\n",
              "         ...,\n",
              "         [216., 199., 192.],\n",
              "         [209., 192., 185.],\n",
              "         [214., 197., 190.]],\n",
              "\n",
              "        ...,\n",
              "\n",
              "        [[201., 181., 174.],\n",
              "         [197., 177., 170.],\n",
              "         [195., 175., 168.],\n",
              "         ...,\n",
              "         [208., 193., 188.],\n",
              "         [209., 194., 189.],\n",
              "         [211., 196., 191.]],\n",
              "\n",
              "        [[200., 180., 173.],\n",
              "         [196., 176., 169.],\n",
              "         [194., 174., 167.],\n",
              "         ...,\n",
              "         [209., 194., 189.],\n",
              "         [211., 196., 191.],\n",
              "         [211., 196., 191.]],\n",
              "\n",
              "        [[199., 179., 172.],\n",
              "         [194., 174., 167.],\n",
              "         [193., 173., 166.],\n",
              "         ...,\n",
              "         [209., 194., 189.],\n",
              "         [209., 194., 189.],\n",
              "         [211., 196., 191.]]],\n",
              "\n",
              "\n",
              "       ...,\n",
              "\n",
              "\n",
              "       [[[248., 244., 235.],\n",
              "         [248., 244., 235.],\n",
              "         [248., 244., 235.],\n",
              "         ...,\n",
              "         [216., 209., 201.],\n",
              "         [214., 207., 199.],\n",
              "         [214., 205., 200.]],\n",
              "\n",
              "        [[250., 246., 237.],\n",
              "         [250., 246., 237.],\n",
              "         [248., 244., 235.],\n",
              "         ...,\n",
              "         [220., 213., 205.],\n",
              "         [218., 211., 203.],\n",
              "         [216., 208., 197.]],\n",
              "\n",
              "        [[251., 247., 238.],\n",
              "         [251., 247., 238.],\n",
              "         [248., 244., 235.],\n",
              "         ...,\n",
              "         [220., 213., 205.],\n",
              "         [218., 211., 203.],\n",
              "         [219., 211., 198.]],\n",
              "\n",
              "        ...,\n",
              "\n",
              "        [[254., 254., 254.],\n",
              "         [254., 254., 254.],\n",
              "         [254., 254., 254.],\n",
              "         ...,\n",
              "         [193., 183., 171.],\n",
              "         [193., 183., 171.],\n",
              "         [192., 182., 172.]],\n",
              "\n",
              "        [[254., 254., 254.],\n",
              "         [254., 254., 254.],\n",
              "         [254., 254., 254.],\n",
              "         ...,\n",
              "         [191., 179., 165.],\n",
              "         [189., 177., 163.],\n",
              "         [194., 175., 168.]],\n",
              "\n",
              "        [[254., 254., 254.],\n",
              "         [254., 254., 254.],\n",
              "         [254., 254., 254.],\n",
              "         ...,\n",
              "         [188., 176., 162.],\n",
              "         [187., 175., 161.],\n",
              "         [189., 169., 162.]]],\n",
              "\n",
              "\n",
              "       [[[136.,  54.,  94.],\n",
              "         [135.,  53.,  93.],\n",
              "         [138.,  56.,  96.],\n",
              "         ...,\n",
              "         [159.,  72., 117.],\n",
              "         [159.,  72., 117.],\n",
              "         [159.,  72., 117.]],\n",
              "\n",
              "        [[134.,  49.,  90.],\n",
              "         [141.,  56.,  97.],\n",
              "         [143.,  58.,  99.],\n",
              "         ...,\n",
              "         [161.,  74., 119.],\n",
              "         [161.,  74., 119.],\n",
              "         [160.,  73., 118.]],\n",
              "\n",
              "        [[140.,  53.,  95.],\n",
              "         [146.,  59., 101.],\n",
              "         [147.,  60., 102.],\n",
              "         ...,\n",
              "         [163.,  76., 121.],\n",
              "         [164.,  77., 122.],\n",
              "         [164.,  77., 122.]],\n",
              "\n",
              "        ...,\n",
              "\n",
              "        [[ 60.,  16.,  29.],\n",
              "         [ 60.,  16.,  29.],\n",
              "         [ 60.,  16.,  29.],\n",
              "         ...,\n",
              "         [ 80.,  29.,  38.],\n",
              "         [ 76.,  26.,  35.],\n",
              "         [ 73.,  26.,  34.]],\n",
              "\n",
              "        [[ 58.,  14.,  27.],\n",
              "         [ 58.,  14.,  27.],\n",
              "         [ 58.,  14.,  27.],\n",
              "         ...,\n",
              "         [ 64.,  19.,  26.],\n",
              "         [ 59.,  16.,  23.],\n",
              "         [ 58.,  15.,  22.]],\n",
              "\n",
              "        [[ 68.,  21.,  37.],\n",
              "         [ 71.,  23.,  39.],\n",
              "         [ 73.,  25.,  41.],\n",
              "         ...,\n",
              "         [ 43.,  11.,  14.],\n",
              "         [ 43.,  11.,  14.],\n",
              "         [ 43.,  11.,  14.]]],\n",
              "\n",
              "\n",
              "       [[[208., 188., 151.],\n",
              "         [203., 185., 149.],\n",
              "         [194., 176., 140.],\n",
              "         ...,\n",
              "         [226., 252., 253.],\n",
              "         [230., 255., 255.],\n",
              "         [228., 254., 255.]],\n",
              "\n",
              "        [[213., 193., 156.],\n",
              "         [204., 186., 150.],\n",
              "         [208., 190., 154.],\n",
              "         ...,\n",
              "         [226., 252., 253.],\n",
              "         [228., 255., 255.],\n",
              "         [225., 255., 255.]],\n",
              "\n",
              "        [[209., 189., 152.],\n",
              "         [212., 194., 158.],\n",
              "         [212., 194., 158.],\n",
              "         ...,\n",
              "         [223., 251., 252.],\n",
              "         [225., 255., 255.],\n",
              "         [218., 252., 251.]],\n",
              "\n",
              "        ...,\n",
              "\n",
              "        [[  1.,   7.,   5.],\n",
              "         [  4.,  10.,   8.],\n",
              "         [  5.,  11.,   9.],\n",
              "         ...,\n",
              "         [ 81., 102.,  83.],\n",
              "         [ 77., 100.,  82.],\n",
              "         [ 71.,  95.,  79.]],\n",
              "\n",
              "        [[  0.,   6.,   4.],\n",
              "         [  5.,  11.,   9.],\n",
              "         [  7.,  13.,  11.],\n",
              "         ...,\n",
              "         [ 76.,  97.,  78.],\n",
              "         [ 82., 105.,  87.],\n",
              "         [ 73.,  97.,  81.]],\n",
              "\n",
              "        [[  6.,  11.,   7.],\n",
              "         [ 10.,  16.,  12.],\n",
              "         [ 15.,  21.,  17.],\n",
              "         ...,\n",
              "         [ 80.,  97.,  81.],\n",
              "         [ 81.,  96.,  75.],\n",
              "         [ 77.,  93.,  67.]]]], dtype=float32)"
            ]
          },
          "metadata": {
            "tags": []
          },
          "execution_count": 6
        }
      ]
    },
    {
      "cell_type": "code",
      "metadata": {
        "colab": {
          "base_uri": "https://localhost:8080/"
        },
        "id": "TZDQb3-XI0ZP",
        "outputId": "3a584f60-4928-41c7-dc49-9bff6eef51a7"
      },
      "source": [
        "y"
      ],
      "execution_count": 7,
      "outputs": [
        {
          "output_type": "execute_result",
          "data": {
            "text/plain": [
              "array([[0., 0., 0., 1., 0., 0., 0., 0., 0., 0.],\n",
              "       [1., 0., 0., 0., 0., 0., 0., 0., 0., 0.],\n",
              "       [0., 0., 0., 0., 0., 0., 0., 0., 0., 1.],\n",
              "       [1., 0., 0., 0., 0., 0., 0., 0., 0., 0.],\n",
              "       [0., 0., 0., 0., 0., 0., 1., 0., 0., 0.],\n",
              "       [0., 0., 0., 0., 0., 0., 1., 0., 0., 0.],\n",
              "       [0., 0., 0., 1., 0., 0., 0., 0., 0., 0.],\n",
              "       [0., 0., 0., 0., 0., 0., 0., 0., 0., 1.],\n",
              "       [1., 0., 0., 0., 0., 0., 0., 0., 0., 0.],\n",
              "       [0., 0., 1., 0., 0., 0., 0., 0., 0., 0.],\n",
              "       [0., 0., 1., 0., 0., 0., 0., 0., 0., 0.],\n",
              "       [0., 1., 0., 0., 0., 0., 0., 0., 0., 0.],\n",
              "       [0., 0., 0., 0., 0., 0., 0., 1., 0., 0.],\n",
              "       [0., 0., 0., 0., 0., 0., 0., 1., 0., 0.],\n",
              "       [0., 0., 0., 0., 1., 0., 0., 0., 0., 0.],\n",
              "       [0., 0., 1., 0., 0., 0., 0., 0., 0., 0.],\n",
              "       [0., 1., 0., 0., 0., 0., 0., 0., 0., 0.],\n",
              "       [0., 0., 0., 1., 0., 0., 0., 0., 0., 0.],\n",
              "       [0., 0., 0., 0., 0., 0., 0., 1., 0., 0.],\n",
              "       [0., 0., 0., 0., 0., 0., 0., 1., 0., 0.],\n",
              "       [0., 0., 0., 0., 0., 0., 1., 0., 0., 0.],\n",
              "       [0., 0., 0., 0., 1., 0., 0., 0., 0., 0.],\n",
              "       [0., 0., 0., 0., 0., 1., 0., 0., 0., 0.],\n",
              "       [0., 0., 0., 0., 0., 0., 0., 0., 0., 1.],\n",
              "       [0., 0., 0., 0., 0., 0., 0., 0., 1., 0.],\n",
              "       [0., 0., 0., 0., 0., 0., 0., 0., 0., 1.],\n",
              "       [0., 0., 0., 0., 1., 0., 0., 0., 0., 0.],\n",
              "       [0., 0., 0., 0., 0., 0., 0., 0., 0., 1.],\n",
              "       [1., 0., 0., 0., 0., 0., 0., 0., 0., 0.],\n",
              "       [0., 1., 0., 0., 0., 0., 0., 0., 0., 0.],\n",
              "       [0., 0., 0., 0., 0., 1., 0., 0., 0., 0.],\n",
              "       [0., 0., 0., 0., 0., 0., 0., 1., 0., 0.]], dtype=float32)"
            ]
          },
          "metadata": {
            "tags": []
          },
          "execution_count": 7
        }
      ]
    },
    {
      "cell_type": "code",
      "metadata": {
        "id": "rDToFTFsI2i4"
      },
      "source": [
        "#we will use a pretrained model from keras called Xception\n",
        "from tensorflow.keras.applications.xception import Xception\n",
        "from tensorflow.keras.applications.xception import preprocess_input"
      ],
      "execution_count": 8,
      "outputs": []
    },
    {
      "cell_type": "code",
      "metadata": {
        "colab": {
          "base_uri": "https://localhost:8080/"
        },
        "id": "WitnsYIzJZX2",
        "outputId": "48f186b5-ccd4-481a-fe81-f849b57cc0fe"
      },
      "source": [
        "#transforms data into standard range\n",
        "preprocess_input(X[0])"
      ],
      "execution_count": 9,
      "outputs": [
        {
          "output_type": "execute_result",
          "data": {
            "text/plain": [
              "array([[[ 0.09803927,  0.07450986, -0.05882353],\n",
              "        [ 0.13725495,  0.11372554, -0.01960784],\n",
              "        [ 0.14509809,  0.12156868, -0.01176471],\n",
              "        ...,\n",
              "        [ 0.48235297,  0.4901961 ,  0.3803922 ],\n",
              "        [ 0.47450984,  0.48235297,  0.37254906],\n",
              "        [ 0.4666667 ,  0.47450984,  0.36470592]],\n",
              "\n",
              "       [[ 0.11372554,  0.09019613, -0.04313725],\n",
              "        [ 0.15294123,  0.12941182, -0.00392157],\n",
              "        [ 0.16078436,  0.13725495,  0.00392163],\n",
              "        ...,\n",
              "        [ 0.5137255 ,  0.52156866,  0.41176474],\n",
              "        [ 0.49803925,  0.5058824 ,  0.39607847],\n",
              "        [ 0.49803925,  0.5058824 ,  0.39607847]],\n",
              "\n",
              "       [[ 0.10588241,  0.082353  , -0.05098039],\n",
              "        [ 0.13725495,  0.11372554, -0.01960784],\n",
              "        [ 0.16078436,  0.13725495,  0.00392163],\n",
              "        ...,\n",
              "        [ 0.5137255 ,  0.52156866,  0.41176474],\n",
              "        [ 0.49803925,  0.5058824 ,  0.39607847],\n",
              "        [ 0.49803925,  0.5058824 ,  0.39607847]],\n",
              "\n",
              "       ...,\n",
              "\n",
              "       [[-0.5137255 , -0.5058824 , -0.6313726 ],\n",
              "        [-0.45098037, -0.44313723, -0.5686275 ],\n",
              "        [-0.3960784 , -0.38823527, -0.5137255 ],\n",
              "        ...,\n",
              "        [ 0.41176474,  0.3803922 ,  0.28627455],\n",
              "        [ 0.43529415,  0.4039216 ,  0.30980396],\n",
              "        [ 0.49803925,  0.4666667 ,  0.37254906]],\n",
              "\n",
              "       [[-0.4352941 , -0.45098037, -0.6156863 ],\n",
              "        [-0.45098037, -0.47450978, -0.5921569 ],\n",
              "        [-0.38823527, -0.41960782, -0.5137255 ],\n",
              "        ...,\n",
              "        [ 0.39607847,  0.36470592,  0.27843142],\n",
              "        [ 0.45098042,  0.41960788,  0.33333337],\n",
              "        [ 0.5058824 ,  0.47450984,  0.38823533]],\n",
              "\n",
              "       [[-0.3960784 , -0.41176468, -0.5764706 ],\n",
              "        [-0.5058824 , -0.5294118 , -0.64705884],\n",
              "        [-0.38823527, -0.41960782, -0.5137255 ],\n",
              "        ...,\n",
              "        [ 0.39607847,  0.36470592,  0.27843142],\n",
              "        [ 0.45098042,  0.41960788,  0.33333337],\n",
              "        [ 0.5058824 ,  0.47450984,  0.38823533]]], dtype=float32)"
            ]
          },
          "metadata": {
            "tags": []
          },
          "execution_count": 9
        }
      ]
    },
    {
      "cell_type": "code",
      "metadata": {
        "colab": {
          "base_uri": "https://localhost:8080/"
        },
        "id": "QuvJGCK4Jf-W",
        "outputId": "1b884460-2b68-4fe2-af58-8eda33305de9"
      },
      "source": [
        "#import and transform data\n",
        "train_gen = ImageDataGenerator(preprocessing_function=preprocess_input)\n",
        "\n",
        "train_ds = train_gen.flow_from_directory(\n",
        "    'clothing-dataset-small/train/',\n",
        "    seed = 1,\n",
        "    target_size=(150,150),\n",
        "    batch_size=32\n",
        ")"
      ],
      "execution_count": 10,
      "outputs": [
        {
          "output_type": "stream",
          "text": [
            "Found 3068 images belonging to 10 classes.\n"
          ],
          "name": "stdout"
        }
      ]
    },
    {
      "cell_type": "code",
      "metadata": {
        "id": "Mx1WIn7sJsfV"
      },
      "source": [
        "X, y = next(train_ds)"
      ],
      "execution_count": 11,
      "outputs": []
    },
    {
      "cell_type": "code",
      "metadata": {
        "colab": {
          "base_uri": "https://localhost:8080/"
        },
        "id": "MLDqMpLJKSqv",
        "outputId": "70e83b34-4d77-475d-b689-dc34c24c21cd"
      },
      "source": [
        "#import and transform data\n",
        "val_gen = ImageDataGenerator(preprocessing_function=preprocess_input)\n",
        "\n",
        "val_ds = val_gen.flow_from_directory(\n",
        "    'clothing-dataset-small/validation/',\n",
        "    seed = 1,\n",
        "    target_size=(150,150),\n",
        "    batch_size=32\n",
        ")"
      ],
      "execution_count": 12,
      "outputs": [
        {
          "output_type": "stream",
          "text": [
            "Found 341 images belonging to 10 classes.\n"
          ],
          "name": "stdout"
        }
      ]
    },
    {
      "cell_type": "code",
      "metadata": {
        "id": "oVPAI68LKY4S"
      },
      "source": [
        "X,y = next(val_ds)"
      ],
      "execution_count": 13,
      "outputs": []
    },
    {
      "cell_type": "markdown",
      "metadata": {
        "id": "LvJNPXgiKB_A"
      },
      "source": [
        "## Transfer Learning"
      ]
    },
    {
      "cell_type": "code",
      "metadata": {
        "colab": {
          "base_uri": "https://localhost:8080/"
        },
        "id": "mdRSV13eJvgJ",
        "outputId": "6896f35f-ead8-48f1-aa27-de874516d643"
      },
      "source": [
        "base_model = Xception(\n",
        "    weights= 'imagenet',\n",
        "    input_shape=(150,150,3),\n",
        "    include_top=False\n",
        ")\n",
        "\n",
        "base_model.trainable = False"
      ],
      "execution_count": 14,
      "outputs": [
        {
          "output_type": "stream",
          "text": [
            "Downloading data from https://storage.googleapis.com/tensorflow/keras-applications/xception/xception_weights_tf_dim_ordering_tf_kernels_notop.h5\n",
            "83689472/83683744 [==============================] - 2s 0us/step\n"
          ],
          "name": "stdout"
        }
      ]
    },
    {
      "cell_type": "code",
      "metadata": {
        "id": "BNphRetEMETI"
      },
      "source": [
        "import keras"
      ],
      "execution_count": 15,
      "outputs": []
    },
    {
      "cell_type": "code",
      "metadata": {
        "id": "c23wVkXoKq_4"
      },
      "source": [
        "inputs = keras.Input(shape=(150,150,3))\n",
        "\n",
        "base = base_model(inputs, training=False)\n",
        "vector = keras.layers.GlobalAveragePooling2D()(base)\n",
        "outputs = keras.layers.Dense(10)(vector)\n",
        "\n",
        "model = keras.Model(inputs, outputs)"
      ],
      "execution_count": 16,
      "outputs": []
    },
    {
      "cell_type": "code",
      "metadata": {
        "id": "k8OvREXnL-yF"
      },
      "source": [
        "lr = 0.01\n",
        "\n",
        "model.compile(\n",
        "      optimizer=keras.optimizers.Adam(lr),\n",
        "      loss=keras.losses.CategoricalCrossentropy(from_logits=True),\n",
        "      metrics=['accuracy']\n",
        ")"
      ],
      "execution_count": 17,
      "outputs": []
    },
    {
      "cell_type": "code",
      "metadata": {
        "colab": {
          "base_uri": "https://localhost:8080/"
        },
        "id": "cuLBkIkBM3DK",
        "outputId": "d6803267-8017-4de2-a453-d9dceb5a6e79"
      },
      "source": [
        "history = model.fit(train_ds, epochs=5, validation_data=val_ds)"
      ],
      "execution_count": 18,
      "outputs": [
        {
          "output_type": "stream",
          "text": [
            "Epoch 1/5\n",
            "96/96 [==============================] - 32s 143ms/step - loss: 1.6762 - accuracy: 0.5673 - val_loss: 1.2034 - val_accuracy: 0.7302\n",
            "Epoch 2/5\n",
            "96/96 [==============================] - 12s 128ms/step - loss: 0.6104 - accuracy: 0.8147 - val_loss: 0.8497 - val_accuracy: 0.7830\n",
            "Epoch 3/5\n",
            "96/96 [==============================] - 12s 126ms/step - loss: 0.4143 - accuracy: 0.8655 - val_loss: 0.9443 - val_accuracy: 0.7566\n",
            "Epoch 4/5\n",
            "96/96 [==============================] - 12s 127ms/step - loss: 0.2089 - accuracy: 0.9240 - val_loss: 0.8409 - val_accuracy: 0.7918\n",
            "Epoch 5/5\n",
            "96/96 [==============================] - 13s 132ms/step - loss: 0.1336 - accuracy: 0.9493 - val_loss: 0.8376 - val_accuracy: 0.7830\n"
          ],
          "name": "stdout"
        }
      ]
    },
    {
      "cell_type": "code",
      "metadata": {
        "colab": {
          "base_uri": "https://localhost:8080/",
          "height": 282
        },
        "id": "52UlZOEeNC_t",
        "outputId": "ec46dacd-0452-4c0a-cc53-d835b7ea6d78"
      },
      "source": [
        "import matplotlib.pyplot as plt\n",
        "\n",
        "plt.figure(figsize=(6,4))\n",
        "plt.plot(history.epoch, history.history['val_accuracy'])\n",
        "plt.plot(history.epoch, history.history['accuracy'])"
      ],
      "execution_count": 22,
      "outputs": [
        {
          "output_type": "execute_result",
          "data": {
            "text/plain": [
              "[<matplotlib.lines.Line2D at 0x7f736e0a9590>]"
            ]
          },
          "metadata": {
            "tags": []
          },
          "execution_count": 22
        },
        {
          "output_type": "display_data",
          "data": {
            "image/png": "[encoded data removed]",
            "text/plain": [
              "<Figure size 432x288 with 1 Axes>"
            ]
          },
          "metadata": {
            "tags": [],
            "needs_background": "light"
          }
        }
      ]
    },
    {
      "cell_type": "markdown",
      "metadata": {
        "id": "Cea9X7CHQvyU"
      },
      "source": [
        "We can see the model boucned between accuracy. WE can fix this by checkpointing which saves teh weights at each epoch."
      ]
    },
    {
      "cell_type": "code",
      "metadata": {
        "colab": {
          "base_uri": "https://localhost:8080/"
        },
        "id": "aLIJr9-RN2p3",
        "outputId": "b758ae33-09ad-44d7-b31b-97c695c63acb"
      },
      "source": [
        "#adding an 2nd(inner) layer with 100 neurons and an activation function now \n",
        "#that we have more than one layer as well as a dropout layer to improve\n",
        "#model generalization throguht regularization (neuron weights dropped at 50%)\n",
        "\n",
        "inputs = keras.Input(shape=(150,150,3))\n",
        "\n",
        "#define model layers\n",
        "base = base_model(inputs, training=False)\n",
        "vector = keras.layers.GlobalAveragePooling2D()(base)\n",
        "inner = keras.layers.Dense(100, activation='relu')(vector)\n",
        "dropout = keras.layers.Dropout(0.5)(inner)\n",
        "outputs = keras.layers.Dense(10)(vector)\n",
        "\n",
        "model = keras.Model(inputs, outputs)\n",
        "\n",
        "#define new learning rate for better performance \n",
        "lr = 0.001\n",
        "\n",
        "#\n",
        "model.compile(\n",
        "      optimizer=keras.optimizers.Adam(lr),\n",
        "      loss=keras.losses.CategoricalCrossentropy(from_logits=True),\n",
        "      metrics=['accuracy']\n",
        ")\n",
        "\n",
        "#fit model\n",
        "history = model.fit(train_ds, epochs=5, validation_data=val_ds)\n",
        "\n"
      ],
      "execution_count": 24,
      "outputs": [
        {
          "output_type": "stream",
          "text": [
            "Epoch 1/5\n",
            "96/96 [==============================] - 15s 134ms/step - loss: 1.4534 - accuracy: 0.5121 - val_loss: 0.7077 - val_accuracy: 0.7859\n",
            "Epoch 2/5\n",
            "96/96 [==============================] - 13s 130ms/step - loss: 0.6301 - accuracy: 0.7869 - val_loss: 0.6284 - val_accuracy: 0.7947\n",
            "Epoch 3/5\n",
            "96/96 [==============================] - 12s 128ms/step - loss: 0.5142 - accuracy: 0.8331 - val_loss: 0.5864 - val_accuracy: 0.7977\n",
            "Epoch 4/5\n",
            "96/96 [==============================] - 12s 129ms/step - loss: 0.4009 - accuracy: 0.8807 - val_loss: 0.5811 - val_accuracy: 0.8152\n",
            "Epoch 5/5\n",
            "96/96 [==============================] - 12s 126ms/step - loss: 0.3730 - accuracy: 0.8826 - val_loss: 0.5611 - val_accuracy: 0.8270\n"
          ],
          "name": "stdout"
        }
      ]
    },
    {
      "cell_type": "code",
      "metadata": {
        "id": "F4Su272LPLvv"
      },
      "source": [
        "#implement checkpointing with callbacks to save weights and use best one. refer \n",
        "#to the plot above since our accuracy boucned up and down. This will save the \n",
        "#best weights and use those in the final model\n",
        "\n",
        "callback = [\n",
        "            keras.callbacks.ModelCheckpoint(\n",
        "                'xception_{epoch:02d}_{val_accuracy:.3f}.h5',\n",
        "                monitor='val_accuracy',\n",
        "                save_best_only=True,\n",
        "                mode='max'\n",
        "            )\n",
        "]"
      ],
      "execution_count": 25,
      "outputs": []
    },
    {
      "cell_type": "code",
      "metadata": {
        "colab": {
          "base_uri": "https://localhost:8080/"
        },
        "id": "eEPJa2PORbnR",
        "outputId": "7ecd3a7d-d106-4ae4-9652-b97600a88d0d"
      },
      "source": [
        "#add callbacks and increase epochs since we added dropout\n",
        "\n",
        "inputs = keras.Input(shape=(150,150,3))\n",
        "\n",
        "#define model layers\n",
        "base = base_model(inputs, training=False)\n",
        "vector = keras.layers.GlobalAveragePooling2D()(base)\n",
        "inner = keras.layers.Dense(100, activation='relu')(vector)\n",
        "dropout = keras.layers.Dropout(0.5)(inner)\n",
        "outputs = keras.layers.Dense(10)(vector)\n",
        "\n",
        "model = keras.Model(inputs, outputs)\n",
        "\n",
        "#define new learning rate for better performance \n",
        "lr = 0.001\n",
        "\n",
        "\n",
        "model.compile(\n",
        "      optimizer=keras.optimizers.Adam(lr),\n",
        "      loss=keras.losses.CategoricalCrossentropy(from_logits=True),\n",
        "      metrics=['accuracy']\n",
        ")\n",
        "\n",
        "#fit model with 30 or 50 epochs since adding dropout and callbacks but will \n",
        "#run for 5 due to time\n",
        "history = model.fit(train_ds, epochs=5, validation_data=val_ds, callbacks=callback)"
      ],
      "execution_count": 26,
      "outputs": [
        {
          "output_type": "stream",
          "text": [
            "Epoch 1/5\n",
            "96/96 [==============================] - 15s 137ms/step - loss: 1.4326 - accuracy: 0.5183 - val_loss: 0.7203 - val_accuracy: 0.7713\n",
            "Epoch 2/5\n",
            "96/96 [==============================] - 12s 128ms/step - loss: 0.6215 - accuracy: 0.7922 - val_loss: 0.6173 - val_accuracy: 0.8123\n",
            "Epoch 3/5\n",
            "96/96 [==============================] - 13s 131ms/step - loss: 0.5092 - accuracy: 0.8262 - val_loss: 0.5625 - val_accuracy: 0.8211\n",
            "Epoch 4/5\n",
            "96/96 [==============================] - 12s 129ms/step - loss: 0.4329 - accuracy: 0.8671 - val_loss: 0.5609 - val_accuracy: 0.8211\n",
            "Epoch 5/5\n",
            "96/96 [==============================] - 12s 127ms/step - loss: 0.3643 - accuracy: 0.8944 - val_loss: 0.5411 - val_accuracy: 0.8299\n"
          ],
          "name": "stdout"
        }
      ]
    },
    {
      "cell_type": "code",
      "metadata": {
        "colab": {
          "base_uri": "https://localhost:8080/",
          "height": 282
        },
        "id": "M5C-CoIfRt4E",
        "outputId": "78214a50-745a-478a-b8ca-f6f3a174aa05"
      },
      "source": [
        "#plot the learning curves\n",
        "plt.figure(figsize=(6,4))\n",
        "plt.plot(history.epoch, history.history['val_accuracy'])\n",
        "plt.plot(history.epoch, history.history['accuracy'])"
      ],
      "execution_count": 27,
      "outputs": [
        {
          "output_type": "execute_result",
          "data": {
            "text/plain": [
              "[<matplotlib.lines.Line2D at 0x7f7189c4b410>]"
            ]
          },
          "metadata": {
            "tags": []
          },
          "execution_count": 27
        },
        {
          "output_type": "display_data",
          "data": {
            "image/png": "[encoded data removed]",
            "text/plain": [
              "<Figure size 432x288 with 1 Axes>"
            ]
          },
          "metadata": {
            "tags": [],
            "needs_background": "light"
          }
        }
      ]
    },
    {
      "cell_type": "markdown",
      "metadata": {
        "id": "rT4KRk2eSYsK"
      },
      "source": [
        "##Image Augmentations fro Improved Model Accuracy\n",
        "\n",
        "Flipping, shading darker or lighter, shear to the sides, zoom in and out on x and y dimensions, etc. This prevents overfitting of the model or memeorize any image layouts to fool us."
      ]
    },
    {
      "cell_type": "code",
      "metadata": {
        "colab": {
          "base_uri": "https://localhost:8080/"
        },
        "id": "P8N_eaLqSVuw",
        "outputId": "d8c140d7-2850-4856-978d-d25d761adf26"
      },
      "source": [
        "train_gen = ImageDataGenerator(\n",
        "    preprocessing_function=preprocess_input,\n",
        "    shear_range=10.0,\n",
        "    zoom_range=0.1,\n",
        "    horizontal_flip=True,  \n",
        ")\n",
        "\n",
        "#increase image size\n",
        "train_ds = train_gen.flow_from_directory(\n",
        "    'clothing-dataset-small/train/',\n",
        "    seed = 1,\n",
        "    target_size=(299,299),\n",
        "    batch_size=32\n",
        ")\n",
        "\n",
        "#import and transform data( we do not alter teh validation set images)\n",
        "val_gen = ImageDataGenerator(preprocessing_function=preprocess_input)\n",
        "\n",
        "val_ds = val_gen.flow_from_directory(\n",
        "    'clothing-dataset-small/validation/',\n",
        "    seed = 1,\n",
        "    target_size=(150,150),\n",
        "    batch_size=32\n",
        ")\n",
        "\n",
        "\n",
        "base_model = Xception(\n",
        "    weights= 'imagenet',\n",
        "    input_shape=(299,299,3),\n",
        "    include_top=False\n",
        ")\n",
        "\n",
        "base_model.trainable = False\n",
        "\n",
        "callback = [\n",
        "            keras.callbacks.ModelCheckpoint(\n",
        "                'xception_{epoch:02d}_{val_accuracy:.3f}.h5',\n",
        "                monitor='val_accuracy',\n",
        "                save_best_only=True,\n",
        "                mode='max'\n",
        "            )\n",
        "]\n",
        "\n",
        "#add callbacks and increase epochs since we added dropout\n",
        "\n",
        "inputs = keras.Input(shape=(299,299,3))\n",
        "\n",
        "#define model layers\n",
        "base = base_model(inputs, training=False)\n",
        "vector = keras.layers.GlobalAveragePooling2D()(base)\n",
        "inner = keras.layers.Dense(100, activation='relu')(vector)\n",
        "dropout = keras.layers.Dropout(0.5)(inner)\n",
        "outputs = keras.layers.Dense(10)(vector)\n",
        "\n",
        "model = keras.Model(inputs, outputs)\n",
        "\n",
        "#define new learning rate for better performance \n",
        "lr = 0.001\n",
        "\n",
        "\n",
        "model.compile(\n",
        "      optimizer=keras.optimizers.Adam(lr),\n",
        "      loss=keras.losses.CategoricalCrossentropy(from_logits=True),\n",
        "      metrics=['accuracy']\n",
        ")\n",
        "\n",
        "#fit model with 30 or 50 epochs since adding dropout and callbacks\n",
        "history = model.fit(train_ds, epochs=50, validation_data=val_ds, callbacks=callback)"
      ],
      "execution_count": 30,
      "outputs": [
        {
          "output_type": "stream",
          "text": [
            "Found 3068 images belonging to 10 classes.\n",
            "Found 341 images belonging to 10 classes.\n",
            "Epoch 1/50\n",
            "96/96 [==============================] - 60s 599ms/step - loss: 1.4606 - accuracy: 0.5176 - val_loss: 0.9763 - val_accuracy: 0.6950\n",
            "Epoch 2/50\n",
            "96/96 [==============================] - 57s 593ms/step - loss: 0.5701 - accuracy: 0.8308 - val_loss: 1.0050 - val_accuracy: 0.7126\n",
            "Epoch 3/50\n",
            "96/96 [==============================] - 57s 592ms/step - loss: 0.4390 - accuracy: 0.8676 - val_loss: 0.9410 - val_accuracy: 0.7302\n",
            "Epoch 4/50\n",
            "96/96 [==============================] - 57s 591ms/step - loss: 0.4089 - accuracy: 0.8756 - val_loss: 1.1026 - val_accuracy: 0.7097\n",
            "Epoch 5/50\n",
            "96/96 [==============================] - 57s 593ms/step - loss: 0.3901 - accuracy: 0.8727 - val_loss: 1.0236 - val_accuracy: 0.7331\n",
            "Epoch 6/50\n",
            "96/96 [==============================] - 57s 594ms/step - loss: 0.3322 - accuracy: 0.8936 - val_loss: 1.0064 - val_accuracy: 0.7273\n",
            "Epoch 7/50\n",
            "96/96 [==============================] - 57s 592ms/step - loss: 0.3271 - accuracy: 0.8879 - val_loss: 1.0646 - val_accuracy: 0.7390\n",
            "Epoch 8/50\n",
            "96/96 [==============================] - 57s 593ms/step - loss: 0.3007 - accuracy: 0.9022 - val_loss: 1.0537 - val_accuracy: 0.7331\n",
            "Epoch 9/50\n",
            "96/96 [==============================] - 57s 591ms/step - loss: 0.2901 - accuracy: 0.9065 - val_loss: 1.0263 - val_accuracy: 0.7419\n",
            "Epoch 10/50\n",
            "96/96 [==============================] - 58s 599ms/step - loss: 0.2751 - accuracy: 0.9075 - val_loss: 1.0295 - val_accuracy: 0.7478\n",
            "Epoch 11/50\n",
            "96/96 [==============================] - 57s 591ms/step - loss: 0.2560 - accuracy: 0.9231 - val_loss: 1.0456 - val_accuracy: 0.7478\n",
            "Epoch 12/50\n",
            "96/96 [==============================] - 57s 590ms/step - loss: 0.2439 - accuracy: 0.9304 - val_loss: 1.1467 - val_accuracy: 0.7361\n",
            "Epoch 13/50\n",
            "96/96 [==============================] - 57s 591ms/step - loss: 0.2432 - accuracy: 0.9209 - val_loss: 1.0957 - val_accuracy: 0.7273\n",
            "Epoch 14/50\n",
            "96/96 [==============================] - 57s 592ms/step - loss: 0.2255 - accuracy: 0.9326 - val_loss: 1.1159 - val_accuracy: 0.7331\n",
            "Epoch 15/50\n",
            "96/96 [==============================] - 57s 587ms/step - loss: 0.2145 - accuracy: 0.9353 - val_loss: 1.1520 - val_accuracy: 0.7331\n",
            "Epoch 16/50\n",
            "96/96 [==============================] - 57s 589ms/step - loss: 0.2058 - accuracy: 0.9361 - val_loss: 1.2622 - val_accuracy: 0.7155\n",
            "Epoch 17/50\n",
            "96/96 [==============================] - 57s 590ms/step - loss: 0.2130 - accuracy: 0.9315 - val_loss: 1.1868 - val_accuracy: 0.7390\n",
            "Epoch 18/50\n",
            "96/96 [==============================] - 57s 593ms/step - loss: 0.1937 - accuracy: 0.9408 - val_loss: 1.2075 - val_accuracy: 0.7273\n",
            "Epoch 19/50\n",
            "96/96 [==============================] - 57s 592ms/step - loss: 0.2012 - accuracy: 0.9313 - val_loss: 1.2449 - val_accuracy: 0.7331\n",
            "Epoch 20/50\n",
            "96/96 [==============================] - 57s 589ms/step - loss: 0.1820 - accuracy: 0.9510 - val_loss: 1.3097 - val_accuracy: 0.7185\n",
            "Epoch 21/50\n",
            "96/96 [==============================] - 56s 585ms/step - loss: 0.1797 - accuracy: 0.9455 - val_loss: 1.2825 - val_accuracy: 0.7185\n",
            "Epoch 22/50\n",
            "96/96 [==============================] - 56s 586ms/step - loss: 0.1788 - accuracy: 0.9478 - val_loss: 1.2839 - val_accuracy: 0.7243\n",
            "Epoch 23/50\n",
            "96/96 [==============================] - 57s 587ms/step - loss: 0.1899 - accuracy: 0.9380 - val_loss: 1.2753 - val_accuracy: 0.7302\n",
            "Epoch 24/50\n",
            "96/96 [==============================] - 57s 590ms/step - loss: 0.1627 - accuracy: 0.9531 - val_loss: 1.3034 - val_accuracy: 0.7302\n",
            "Epoch 25/50\n",
            "96/96 [==============================] - 57s 588ms/step - loss: 0.1478 - accuracy: 0.9585 - val_loss: 1.2816 - val_accuracy: 0.7273\n",
            "Epoch 26/50\n",
            "96/96 [==============================] - 57s 589ms/step - loss: 0.1624 - accuracy: 0.9493 - val_loss: 1.3379 - val_accuracy: 0.7331\n",
            "Epoch 27/50\n",
            "96/96 [==============================] - 56s 588ms/step - loss: 0.1601 - accuracy: 0.9506 - val_loss: 1.4098 - val_accuracy: 0.7331\n",
            "Epoch 28/50\n",
            "96/96 [==============================] - 56s 587ms/step - loss: 0.1684 - accuracy: 0.9463 - val_loss: 1.3522 - val_accuracy: 0.7273\n",
            "Epoch 29/50\n",
            "96/96 [==============================] - 57s 591ms/step - loss: 0.1432 - accuracy: 0.9620 - val_loss: 1.4359 - val_accuracy: 0.7214\n",
            "Epoch 30/50\n",
            "96/96 [==============================] - 57s 594ms/step - loss: 0.1474 - accuracy: 0.9642 - val_loss: 1.4512 - val_accuracy: 0.7273\n",
            "Epoch 31/50\n",
            "96/96 [==============================] - 57s 588ms/step - loss: 0.1464 - accuracy: 0.9587 - val_loss: 1.4265 - val_accuracy: 0.7419\n",
            "Epoch 32/50\n",
            "96/96 [==============================] - 56s 584ms/step - loss: 0.1506 - accuracy: 0.9537 - val_loss: 1.4744 - val_accuracy: 0.7243\n",
            "Epoch 33/50\n",
            "96/96 [==============================] - 56s 588ms/step - loss: 0.1386 - accuracy: 0.9630 - val_loss: 1.4830 - val_accuracy: 0.7214\n",
            "Epoch 34/50\n",
            "96/96 [==============================] - 56s 585ms/step - loss: 0.1261 - accuracy: 0.9691 - val_loss: 1.5339 - val_accuracy: 0.7273\n",
            "Epoch 35/50\n",
            "96/96 [==============================] - 56s 585ms/step - loss: 0.1332 - accuracy: 0.9661 - val_loss: 1.4819 - val_accuracy: 0.7302\n",
            "Epoch 36/50\n",
            "96/96 [==============================] - 56s 584ms/step - loss: 0.1237 - accuracy: 0.9730 - val_loss: 1.5048 - val_accuracy: 0.7331\n",
            "Epoch 37/50\n",
            "96/96 [==============================] - 56s 585ms/step - loss: 0.1290 - accuracy: 0.9683 - val_loss: 1.5429 - val_accuracy: 0.7273\n",
            "Epoch 38/50\n",
            "96/96 [==============================] - 56s 586ms/step - loss: 0.1130 - accuracy: 0.9739 - val_loss: 1.5201 - val_accuracy: 0.7273\n",
            "Epoch 39/50\n",
            "96/96 [==============================] - 56s 582ms/step - loss: 0.1294 - accuracy: 0.9636 - val_loss: 1.6048 - val_accuracy: 0.7302\n",
            "Epoch 40/50\n",
            "96/96 [==============================] - 56s 586ms/step - loss: 0.1247 - accuracy: 0.9680 - val_loss: 1.6286 - val_accuracy: 0.7331\n",
            "Epoch 41/50\n",
            "96/96 [==============================] - 56s 583ms/step - loss: 0.1134 - accuracy: 0.9704 - val_loss: 1.6209 - val_accuracy: 0.7214\n",
            "Epoch 42/50\n",
            "96/96 [==============================] - 56s 587ms/step - loss: 0.1104 - accuracy: 0.9704 - val_loss: 1.6278 - val_accuracy: 0.7243\n",
            "Epoch 43/50\n",
            "96/96 [==============================] - 57s 590ms/step - loss: 0.1141 - accuracy: 0.9698 - val_loss: 1.6492 - val_accuracy: 0.7331\n",
            "Epoch 44/50\n",
            "96/96 [==============================] - 56s 584ms/step - loss: 0.1002 - accuracy: 0.9743 - val_loss: 1.6578 - val_accuracy: 0.7185\n",
            "Epoch 45/50\n",
            "96/96 [==============================] - 56s 585ms/step - loss: 0.1083 - accuracy: 0.9734 - val_loss: 1.6798 - val_accuracy: 0.7273\n",
            "Epoch 46/50\n",
            "96/96 [==============================] - 56s 587ms/step - loss: 0.1026 - accuracy: 0.9769 - val_loss: 1.6493 - val_accuracy: 0.7185\n",
            "Epoch 47/50\n",
            "96/96 [==============================] - 56s 585ms/step - loss: 0.1012 - accuracy: 0.9732 - val_loss: 1.6333 - val_accuracy: 0.7361\n",
            "Epoch 48/50\n",
            "96/96 [==============================] - 57s 588ms/step - loss: 0.1090 - accuracy: 0.9731 - val_loss: 1.7619 - val_accuracy: 0.7302\n",
            "Epoch 49/50\n",
            "96/96 [==============================] - 56s 586ms/step - loss: 0.1024 - accuracy: 0.9740 - val_loss: 1.6593 - val_accuracy: 0.7185\n",
            "Epoch 50/50\n",
            "96/96 [==============================] - 56s 583ms/step - loss: 0.1008 - accuracy: 0.9754 - val_loss: 1.6966 - val_accuracy: 0.7361\n"
          ],
          "name": "stdout"
        }
      ]
    },
    {
      "cell_type": "code",
      "metadata": {
        "colab": {
          "base_uri": "https://localhost:8080/",
          "height": 282
        },
        "id": "ylgYftekqAgp",
        "outputId": "325a18a5-b702-49bf-9ceb-0ea6d382e269"
      },
      "source": [
        "#plot the learning curves\n",
        "plt.figure(figsize=(6,4))\n",
        "plt.plot(history.epoch, history.history['val_accuracy'])\n",
        "plt.plot(history.epoch, history.history['accuracy'])"
      ],
      "execution_count": 40,
      "outputs": [
        {
          "output_type": "execute_result",
          "data": {
            "text/plain": [
              "[<matplotlib.lines.Line2D at 0x7f734f12bb10>]"
            ]
          },
          "metadata": {
            "tags": []
          },
          "execution_count": 40
        },
        {
          "output_type": "display_data",
          "data": {
            "image/png": "[encoded data removed]",
            "text/plain": [
              "<Figure size 432x288 with 1 Axes>"
            ]
          },
          "metadata": {
            "tags": [],
            "needs_background": "light"
          }
        }
      ]
    },
    {
      "cell_type": "markdown",
      "metadata": {
        "id": "WrckN8VgUoXi"
      },
      "source": [
        "increasing the size of the images from 150 to 299 should increase teh accuracy of the model as well. Paired with dropout, callbacks, training image augmentation, and optimized learning rate this model should improve its accuracy. The final way to improve accuracy is increasing the number of training epochs."
      ]
    },
    {
      "cell_type": "markdown",
      "metadata": {
        "id": "Qd72wsR3VVm_"
      },
      "source": [
        "##implementing the Model\n",
        "\n",
        "Tensorflow serving and TF lite are both ways to 'serve' ML models for mobile phones.\n",
        "\n",
        "WE will use AWS lambda for deploying our model. No instances are needed to use the service. \n",
        "\n",
        "Define the function, inputs and outputs, and thats it."
      ]
    },
    {
      "cell_type": "code",
      "metadata": {
        "id": "Umc7aUXRUfGI"
      },
      "source": [
        ""
      ],
      "execution_count": null,
      "outputs": []
    }
  ]
}