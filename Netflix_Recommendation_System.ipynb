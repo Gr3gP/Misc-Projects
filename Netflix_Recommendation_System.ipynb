{
  "nbformat": 4,
  "nbformat_minor": 0,
  "metadata": {
    "colab": {
      "name": "Netflix Recommendation System.ipynb",
      "provenance": [],
      "collapsed_sections": [],
      "authorship_tag": "ABX9TyOMbwRUPVOxzzJS52maKhEG",
      "include_colab_link": true
    },
    "kernelspec": {
      "name": "python3",
      "display_name": "Python 3"
    },
    "language_info": {
      "name": "python"
    }
  },
  "cells": [
    {
      "cell_type": "markdown",
      "metadata": {
        "id": "view-in-github",
        "colab_type": "text"
      },
      "source": [
        "<a href=\"https://colab.research.google.com/github/Gr3gP/Misc-Projects/blob/main/Netflix_Recommendation_System.ipynb\" target=\"_parent\"><img src=\"https://colab.research.google.com/assets/colab-badge.svg\" alt=\"Open In Colab\"/></a>"
      ]
    },
    {
      "cell_type": "markdown",
      "metadata": {
        "id": "vpl80kegJcxw"
      },
      "source": [
        "#Building a Recommendation System Tutorial \n",
        "\n",
        "found here: https://pub.towardsai.net/recommendation-system-in-depth-tutorial-with-python-for-netflix-using-collaborative-filtering-533ff8a0e444\n"
      ]
    },
    {
      "cell_type": "code",
      "metadata": {
        "colab": {
          "base_uri": "https://localhost:8080/"
        },
        "id": "kLiBOAfvJSM0",
        "outputId": "75e1b954-b2cb-41d2-b4ce-d092c49bbdd5"
      },
      "source": [
        "# Download datasets\n",
        "!wget https://zenodo.org/record/4556134/files/combined_data_4.txt?download=1\n",
        "!wget https://raw.githubusercontent.com/towardsai/tutorials/master/recommendation_system_tutorial/movie_titles.csv\n",
        "!wget https://raw.githubusercontent.com/towardsai/tutorials/master/recommendation_system_tutorial/new_features.csv"
      ],
      "execution_count": null,
      "outputs": [
        {
          "output_type": "stream",
          "text": [
            "--2021-05-15 19:34:23--  https://zenodo.org/record/4556134/files/combined_data_4.txt?download=1\n",
            "Resolving zenodo.org (zenodo.org)... 137.138.76.77\n",
            "Connecting to zenodo.org (zenodo.org)|137.138.76.77|:443... connected.\n",
            "HTTP request sent, awaiting response... 200 OK\n",
            "Length: 552537802 (527M) [text/plain]\n",
            "Saving to: ‘combined_data_4.txt?download=1’\n",
            "\n",
            "combined_data_4.txt 100%[===================>] 526.94M  12.7MB/s    in 39s     \n",
            "\n",
            "2021-05-15 19:35:03 (13.6 MB/s) - ‘combined_data_4.txt?download=1’ saved [552537802/552537802]\n",
            "\n",
            "--2021-05-15 19:35:03--  https://raw.githubusercontent.com/towardsai/tutorials/master/recommendation_system_tutorial/movie_titles.csv\n",
            "Resolving raw.githubusercontent.com (raw.githubusercontent.com)... 185.199.108.133, 185.199.109.133, 185.199.110.133, ...\n",
            "Connecting to raw.githubusercontent.com (raw.githubusercontent.com)|185.199.108.133|:443... connected.\n",
            "HTTP request sent, awaiting response... 200 OK\n",
            "Length: 577547 (564K) [text/plain]\n",
            "Saving to: ‘movie_titles.csv’\n",
            "\n",
            "movie_titles.csv    100%[===================>] 564.01K  --.-KB/s    in 0.04s   \n",
            "\n",
            "2021-05-15 19:35:03 (12.6 MB/s) - ‘movie_titles.csv’ saved [577547/577547]\n",
            "\n",
            "--2021-05-15 19:35:03--  https://raw.githubusercontent.com/towardsai/tutorials/master/recommendation_system_tutorial/new_features.csv\n",
            "Resolving raw.githubusercontent.com (raw.githubusercontent.com)... 185.199.108.133, 185.199.109.133, 185.199.110.133, ...\n",
            "Connecting to raw.githubusercontent.com (raw.githubusercontent.com)|185.199.108.133|:443... connected.\n",
            "HTTP request sent, awaiting response... 200 OK\n",
            "Length: 6328 (6.2K) [text/plain]\n",
            "Saving to: ‘new_features.csv’\n",
            "\n",
            "new_features.csv    100%[===================>]   6.18K  --.-KB/s    in 0s      \n",
            "\n",
            "2021-05-15 19:35:04 (38.6 MB/s) - ‘new_features.csv’ saved [6328/6328]\n",
            "\n"
          ],
          "name": "stdout"
        }
      ]
    },
    {
      "cell_type": "code",
      "metadata": {
        "colab": {
          "base_uri": "https://localhost:8080/"
        },
        "id": "7NdVz0AMLbgy",
        "outputId": "b6f2a991-553b-42e5-f606-8ef75c9f7ba9"
      },
      "source": [
        "!pip install scikit-surprise"
      ],
      "execution_count": null,
      "outputs": [
        {
          "output_type": "stream",
          "text": [
            "Collecting scikit-surprise\n",
            "\u001b[?25l  Downloading https://files.pythonhosted.org/packages/97/37/5d334adaf5ddd65da99fc65f6507e0e4599d092ba048f4302fe8775619e8/scikit-surprise-1.1.1.tar.gz (11.8MB)\n",
            "\u001b[K     |████████████████████████████████| 11.8MB 5.1MB/s \n",
            "\u001b[?25hRequirement already satisfied: joblib>=0.11 in /usr/local/lib/python3.7/dist-packages (from scikit-surprise) (1.0.1)\n",
            "Requirement already satisfied: numpy>=1.11.2 in /usr/local/lib/python3.7/dist-packages (from scikit-surprise) (1.19.5)\n",
            "Requirement already satisfied: scipy>=1.0.0 in /usr/local/lib/python3.7/dist-packages (from scikit-surprise) (1.4.1)\n",
            "Requirement already satisfied: six>=1.10.0 in /usr/local/lib/python3.7/dist-packages (from scikit-surprise) (1.15.0)\n",
            "Building wheels for collected packages: scikit-surprise\n",
            "  Building wheel for scikit-surprise (setup.py) ... \u001b[?25l\u001b[?25hdone\n",
            "  Created wheel for scikit-surprise: filename=scikit_surprise-1.1.1-cp37-cp37m-linux_x86_64.whl size=1617652 sha256=c63a520d41893b2bced08f24d38ea1bd3e56dbddc3dd2fc7f12b61b63ed81649\n",
            "  Stored in directory: /root/.cache/pip/wheels/78/9c/3d/41b419c9d2aff5b6e2b4c0fc8d25c538202834058f9ed110d0\n",
            "Successfully built scikit-surprise\n",
            "Installing collected packages: scikit-surprise\n",
            "Successfully installed scikit-surprise-1.1.1\n"
          ],
          "name": "stdout"
        }
      ]
    },
    {
      "cell_type": "code",
      "metadata": {
        "colab": {
          "base_uri": "https://localhost:8080/"
        },
        "id": "7IYDM1vRLiNY",
        "outputId": "5ba580bd-9b6f-4546-d304-c5d011fabbc8"
      },
      "source": [
        "from google.colab import drive\n",
        "drive.mount('/content/gdrive')"
      ],
      "execution_count": null,
      "outputs": [
        {
          "output_type": "stream",
          "text": [
            "Mounted at /content/gdrive\n"
          ],
          "name": "stdout"
        }
      ]
    },
    {
      "cell_type": "code",
      "metadata": {
        "id": "bua3nmWPLp-X"
      },
      "source": [
        "from datetime import datetime\n",
        "import pandas as pd\n",
        "import numpy as np\n",
        "import seaborn as sns\n",
        "import os\n",
        "import random\n",
        "import matplotlib\n",
        "import matplotlib.pyplot as plt\n",
        "from scipy import sparse\n",
        "from sklearn.metrics.pairwise import cosine_similarity\n",
        "from sklearn.metrics import mean_squared_error\n",
        "\n",
        "import xgboost as xgb\n",
        "from surprise import Reader, Dataset\n",
        "from surprise import BaselineOnly\n",
        "from surprise import KNNBaseline\n",
        "from surprise import SVD\n",
        "from surprise import SVDpp\n",
        "from surprise.model_selection import GridSearchCV"
      ],
      "execution_count": null,
      "outputs": []
    },
    {
      "cell_type": "markdown",
      "metadata": {
        "id": "KgNsjwxmM-Ji"
      },
      "source": [
        "#EDA\n",
        "\n",
        "**Load the Datasets**"
      ]
    },
    {
      "cell_type": "code",
      "metadata": {
        "id": "XUDdTpu5M7C2"
      },
      "source": [
        "def load_data():\n",
        "    netflix_csv_file = open('netflix_rating.csv', mode= 'w')\n",
        "    rating_files = ['combined_data_4.txt?download=1']\n",
        "    for file in rating_files:\n",
        "        with open(file) as f:\n",
        "            for line in f:\n",
        "                line = line.strip()\n",
        "                if line.endswith(':'):\n",
        "                    movie_id = line.replace(':', \"\")\n",
        "                else:\n",
        "                    row_data = []\n",
        "                    row_data = [item for item in line.split(',')]\n",
        "                    row_data.insert(0, movie_id)\n",
        "                    netflix_csv_file.write(','.join(row_data))\n",
        "                    netflix_csv_file.write('\\n')\n",
        "    \n",
        "    netflix_csv_file.close()\n",
        "    df = pd.read_csv('netflix_rating.csv', sep=\",\", names = [\"movie_id\",\"customer_id\", \"rating\", \"date\"])\n",
        "    return df"
      ],
      "execution_count": null,
      "outputs": []
    },
    {
      "cell_type": "code",
      "metadata": {
        "colab": {
          "base_uri": "https://localhost:8080/",
          "height": 204
        },
        "id": "tTKHJGVyOAVL",
        "outputId": "47487192-eaf3-46fb-90d0-6c626eeb08b2"
      },
      "source": [
        "#Display rating data\n",
        "netflix_rating_df = load_data()\n",
        "netflix_rating_df\n",
        "netflix_rating_df.head()"
      ],
      "execution_count": null,
      "outputs": [
        {
          "output_type": "execute_result",
          "data": {
            "text/html": [
              "<div>\n",
              "<style scoped>\n",
              "    .dataframe tbody tr th:only-of-type {\n",
              "        vertical-align: middle;\n",
              "    }\n",
              "\n",
              "    .dataframe tbody tr th {\n",
              "        vertical-align: top;\n",
              "    }\n",
              "\n",
              "    .dataframe thead th {\n",
              "        text-align: right;\n",
              "    }\n",
              "</style>\n",
              "<table border=\"1\" class=\"dataframe\">\n",
              "  <thead>\n",
              "    <tr style=\"text-align: right;\">\n",
              "      <th></th>\n",
              "      <th>movie_id</th>\n",
              "      <th>customer_id</th>\n",
              "      <th>rating</th>\n",
              "      <th>date</th>\n",
              "    </tr>\n",
              "  </thead>\n",
              "  <tbody>\n",
              "    <tr>\n",
              "      <th>0</th>\n",
              "      <td>13368</td>\n",
              "      <td>2385003</td>\n",
              "      <td>4</td>\n",
              "      <td>2004-07-08</td>\n",
              "    </tr>\n",
              "    <tr>\n",
              "      <th>1</th>\n",
              "      <td>13368</td>\n",
              "      <td>659432</td>\n",
              "      <td>3</td>\n",
              "      <td>2005-03-16</td>\n",
              "    </tr>\n",
              "    <tr>\n",
              "      <th>2</th>\n",
              "      <td>13368</td>\n",
              "      <td>751812</td>\n",
              "      <td>2</td>\n",
              "      <td>2002-12-16</td>\n",
              "    </tr>\n",
              "    <tr>\n",
              "      <th>3</th>\n",
              "      <td>13368</td>\n",
              "      <td>2625420</td>\n",
              "      <td>2</td>\n",
              "      <td>2004-05-25</td>\n",
              "    </tr>\n",
              "    <tr>\n",
              "      <th>4</th>\n",
              "      <td>13368</td>\n",
              "      <td>1650301</td>\n",
              "      <td>1</td>\n",
              "      <td>2005-08-30</td>\n",
              "    </tr>\n",
              "  </tbody>\n",
              "</table>\n",
              "</div>"
            ],
            "text/plain": [
              "   movie_id  customer_id  rating        date\n",
              "0     13368      2385003       4  2004-07-08\n",
              "1     13368       659432       3  2005-03-16\n",
              "2     13368       751812       2  2002-12-16\n",
              "3     13368      2625420       2  2004-05-25\n",
              "4     13368      1650301       1  2005-08-30"
            ]
          },
          "metadata": {
            "tags": []
          },
          "execution_count": 10
        }
      ]
    },
    {
      "cell_type": "code",
      "metadata": {
        "colab": {
          "base_uri": "https://localhost:8080/"
        },
        "id": "5ZEQvyZYObfF",
        "outputId": "3dabe5a1-f5f0-4023-888b-c42999b30a2b"
      },
      "source": [
        "netflix_rating_df.duplicated(['movie_id', 'customer_id', 'rating', 'date']).sum()"
      ],
      "execution_count": null,
      "outputs": [
        {
          "output_type": "execute_result",
          "data": {
            "text/plain": [
              "0"
            ]
          },
          "metadata": {
            "tags": []
          },
          "execution_count": 11
        }
      ]
    },
    {
      "cell_type": "markdown",
      "metadata": {
        "id": "o_7iICs3jKLH"
      },
      "source": [
        "**Split data into train and test sets**"
      ]
    },
    {
      "cell_type": "code",
      "metadata": {
        "id": "C-H3UPmxjIKN"
      },
      "source": [
        "split_value = int(len(netflix_rating_df) * 0.80)\n",
        "train_data = netflix_rating_df[:split_value]\n",
        "test_data = netflix_rating_df[split_value:]"
      ],
      "execution_count": null,
      "outputs": []
    },
    {
      "cell_type": "markdown",
      "metadata": {
        "id": "CJMsxIlskUPg"
      },
      "source": [
        "**Analysis**"
      ]
    },
    {
      "cell_type": "code",
      "metadata": {
        "colab": {
          "base_uri": "https://localhost:8080/",
          "height": 532
        },
        "id": "pvILTM8JjdSj",
        "outputId": "414b9b98-dc3d-4187-c6f3-9b3c9284c0b6"
      },
      "source": [
        "plt.figure(figsize=(12,8))\n",
        "ax = sns.countplot(x='rating', data=train_data)\n",
        "\n",
        "ax.set_yticklabels([num for num in ax.get_yticks()])\n",
        "\n",
        "plt.tick_params(labelsize=15)\n",
        "plt.title('Count ratings in train data', fontsize=20)\n",
        "plt.xlabel('Ratings', fontsize=20)\n",
        "plt.ylabel('Number of Ratings', fontsize=20)\n",
        "plt.show()"
      ],
      "execution_count": null,
      "outputs": [
        {
          "output_type": "display_data",
          "data": {
            "image/png": "[encoded data removed]",
            "text/plain": [
              "<Figure size 864x576 with 1 Axes>"
            ]
          },
          "metadata": {
            "tags": [],
            "needs_background": "light"
          }
        }
      ]
    },
    {
      "cell_type": "markdown",
      "metadata": {
        "id": "OQJRbToClKC7"
      },
      "source": [
        "**User item spares Matrix**\n",
        "\n",
        "A User-item sparse matrix is an object that contains item values in columns and users' values in rows. The rating of users is contained in the cell."
      ]
    },
    {
      "cell_type": "code",
      "metadata": {
        "id": "It6bOf3hlHYs"
      },
      "source": [
        "def get_user_sparse_matrix(df):\n",
        "    sparse_data = sparse.csr_matrix((df.rating, (df.customer_id, df.movie_id)))\n",
        "    return sparse_data"
      ],
      "execution_count": null,
      "outputs": []
    },
    {
      "cell_type": "code",
      "metadata": {
        "id": "_aak_PP1l9ql"
      },
      "source": [
        "#sparse matrix for training data\n",
        "train_sparse_data = get_user_sparse_matrix(train_data)\n",
        "\n",
        "#sparse matrix for test data\n",
        "test_sparse_data = get_user_sparse_matrix(test_data)"
      ],
      "execution_count": null,
      "outputs": []
    },
    {
      "cell_type": "code",
      "metadata": {
        "colab": {
          "base_uri": "https://localhost:8080/"
        },
        "id": "rncI5ZQBmMor",
        "outputId": "27d3c039-9942-4f0a-9b54-589807295b3f"
      },
      "source": [
        "#find the average global movie rating\n",
        "global_average_rating = train_sparse_data.sum()/train_sparse_data.count_nonzero()\n",
        "print('Global average rating: {}'.format(global_average_rating))"
      ],
      "execution_count": null,
      "outputs": [
        {
          "output_type": "stream",
          "text": [
            "Global average rating: 3.6291294662291467\n"
          ],
          "name": "stdout"
        }
      ]
    },
    {
      "cell_type": "code",
      "metadata": {
        "id": "5eTnPmiemj_Q"
      },
      "source": [
        "#function to calculate GAR from the sparse matrix\n",
        "def get_average_rating(sparse_matrix, is_user):\n",
        "    ax = 1 if is_user else 0\n",
        "    sum_of_ratings = sparse_matrix.sum(axis=ax).A1\n",
        "    num_of_ratings = (sparse_matrix != 0).sum(axis=ax).A1\n",
        "    rows, cols = sparse_matrix.shape\n",
        "    average_ratings = {i: sum_of_ratings[i]/num_of_ratings[i] for i in range(rows if is_user else cols) if num_of_ratings[i] != 0}\n",
        "    return average_ratings"
      ],
      "execution_count": null,
      "outputs": []
    },
    {
      "cell_type": "code",
      "metadata": {
        "id": "-PRhC8GxnYjB"
      },
      "source": [
        "#Calc Average user rating \n",
        "average_user_rating = get_average_rating(train_sparse_data, True)"
      ],
      "execution_count": null,
      "outputs": []
    },
    {
      "cell_type": "code",
      "metadata": {
        "id": "fppqA9R1nmTy"
      },
      "source": [
        "#Calc Average movie rating\n",
        "average_movie_rating = get_average_rating(train_sparse_data, False)"
      ],
      "execution_count": null,
      "outputs": []
    },
    {
      "cell_type": "markdown",
      "metadata": {
        "id": "p5pY0Mz4n6_8"
      },
      "source": [
        "**Cold Start Problem**\n",
        "\n",
        "When users are brand nwew they have almost no data to use. In our case, 1% of users will be cold starts and have no rating available. \n",
        "\n",
        "For movies, 20% of our movies will be from a cold start(have no rating)"
      ]
    },
    {
      "cell_type": "code",
      "metadata": {
        "colab": {
          "base_uri": "https://localhost:8080/"
        },
        "id": "cf4DSUwrnyv6",
        "outputId": "03c75532-00f2-4886-e5d8-ae908a65b852"
      },
      "source": [
        "#find the number of cold start users\n",
        "total_users = len(np.unique(netflix_rating_df['customer_id']))\n",
        "train_users = len(average_user_rating)\n",
        "uncommonUsers = total_users - train_users\n",
        "\n",
        "print('total num of users: {}'.format(total_users))\n",
        "print('Num of users in train data: {}'.format(train_users))\n",
        "print('Num of users not present in train_data: {}({}%)'.format(uncommonUsers, np.round((uncommonUsers/total_users)*100), 2))"
      ],
      "execution_count": null,
      "outputs": [
        {
          "output_type": "stream",
          "text": [
            "total num of users: 475601\n",
            "Num of users in train data: 473014\n",
            "Num of users not present in train_data: 2587(1.0%)\n"
          ],
          "name": "stdout"
        }
      ]
    },
    {
      "cell_type": "code",
      "metadata": {
        "colab": {
          "base_uri": "https://localhost:8080/"
        },
        "id": "SOweNFwyo1dm",
        "outputId": "88593853-f3f7-4ac8-d97a-8219402d7b6b"
      },
      "source": [
        "#find the number of cold start movies\n",
        "total_movies = len(np.unique(netflix_rating_df['movie_id']))\n",
        "train_movies = len(average_movie_rating)\n",
        "uncommonMovies = total_movies - train_movies\n",
        "\n",
        "print('Total number of movies: {}'.format(total_movies))\n",
        "print('num of movies in train_data: {}'.format(train_movies))\n",
        "print('num of movies not present in train_data: {}({}%)'.format(uncommonMovies, np.round((uncommonMovies/total_movies)*100), 2))"
      ],
      "execution_count": null,
      "outputs": [
        {
          "output_type": "stream",
          "text": [
            "Total number of movies: 4403\n",
            "num of movies in train_data: 3515\n",
            "num of movies not present in train_data: 888(20.0%)\n"
          ],
          "name": "stdout"
        }
      ]
    },
    {
      "cell_type": "markdown",
      "metadata": {
        "id": "nKlvTC3jqUa1"
      },
      "source": [
        "**User Similarity Computation for Top 100 Users**"
      ]
    },
    {
      "cell_type": "code",
      "metadata": {
        "id": "Z0OQGd9mp60d"
      },
      "source": [
        "def compute_user_similarity(sparse_matrix, limit=100):\n",
        "    row_index, col_index = sparse_matrix.nonzero()\n",
        "    row = np.unique(row_index)\n",
        "    similar_arr = np.zeros(61700).reshape(617,100)\n",
        "\n",
        "    for row in row[:limit]:\n",
        "        sim = cosine_similarity(sparse_matrix.getrow(row), train_sparse_data).ravel()\n",
        "        similar_indices = sim.argsort()[-limit:]\n",
        "        similar = sim[similar_indices]\n",
        "        similar_arr[row] = similar\n",
        "\n",
        "    return similar_arr"
      ],
      "execution_count": null,
      "outputs": []
    },
    {
      "cell_type": "code",
      "metadata": {
        "id": "cY9dyFlJrLV2"
      },
      "source": [
        "similar_user_matrix = compute_user_similarity(train_sparse_data, 100)"
      ],
      "execution_count": null,
      "outputs": []
    },
    {
      "cell_type": "code",
      "metadata": {
        "colab": {
          "base_uri": "https://localhost:8080/"
        },
        "id": "EjEX-pojrYIa",
        "outputId": "880fae8f-cb9c-46c6-f38b-4e99384649cb"
      },
      "source": [
        "similar_user_matrix[0]"
      ],
      "execution_count": null,
      "outputs": [
        {
          "output_type": "execute_result",
          "data": {
            "text/plain": [
              "array([0., 0., 0., 0., 0., 0., 0., 0., 0., 0., 0., 0., 0., 0., 0., 0., 0.,\n",
              "       0., 0., 0., 0., 0., 0., 0., 0., 0., 0., 0., 0., 0., 0., 0., 0., 0.,\n",
              "       0., 0., 0., 0., 0., 0., 0., 0., 0., 0., 0., 0., 0., 0., 0., 0., 0.,\n",
              "       0., 0., 0., 0., 0., 0., 0., 0., 0., 0., 0., 0., 0., 0., 0., 0., 0.,\n",
              "       0., 0., 0., 0., 0., 0., 0., 0., 0., 0., 0., 0., 0., 0., 0., 0., 0.,\n",
              "       0., 0., 0., 0., 0., 0., 0., 0., 0., 0., 0., 0., 0., 0., 0.])"
            ]
          },
          "metadata": {
            "tags": []
          },
          "execution_count": 45
        }
      ]
    },
    {
      "cell_type": "code",
      "metadata": {
        "colab": {
          "base_uri": "https://localhost:8080/",
          "height": 235
        },
        "id": "Q5sfZSOpsyLk",
        "outputId": "d4697d58-f268-43f8-912f-1c4d24096286"
      },
      "source": [
        "#load movie titels\n",
        "movie_titles_df = pd.read_csv(\"movie_titles.csv\",sep = \",\",\n",
        "                              header = None, names=['movie_id', 'year_of_release', 'movie_title'],\n",
        "                              index_col = \"movie_id\", encoding = \"iso8859_2\")\n",
        "movie_titles_df.head()"
      ],
      "execution_count": null,
      "outputs": [
        {
          "output_type": "execute_result",
          "data": {
            "text/html": [
              "<div>\n",
              "<style scoped>\n",
              "    .dataframe tbody tr th:only-of-type {\n",
              "        vertical-align: middle;\n",
              "    }\n",
              "\n",
              "    .dataframe tbody tr th {\n",
              "        vertical-align: top;\n",
              "    }\n",
              "\n",
              "    .dataframe thead th {\n",
              "        text-align: right;\n",
              "    }\n",
              "</style>\n",
              "<table border=\"1\" class=\"dataframe\">\n",
              "  <thead>\n",
              "    <tr style=\"text-align: right;\">\n",
              "      <th></th>\n",
              "      <th>year_of_release</th>\n",
              "      <th>movie_title</th>\n",
              "    </tr>\n",
              "    <tr>\n",
              "      <th>movie_id</th>\n",
              "      <th></th>\n",
              "      <th></th>\n",
              "    </tr>\n",
              "  </thead>\n",
              "  <tbody>\n",
              "    <tr>\n",
              "      <th>1</th>\n",
              "      <td>2003.0</td>\n",
              "      <td>Dinosaur Planet</td>\n",
              "    </tr>\n",
              "    <tr>\n",
              "      <th>2</th>\n",
              "      <td>2004.0</td>\n",
              "      <td>Isle of Man TT 2004 Review</td>\n",
              "    </tr>\n",
              "    <tr>\n",
              "      <th>3</th>\n",
              "      <td>1997.0</td>\n",
              "      <td>Character</td>\n",
              "    </tr>\n",
              "    <tr>\n",
              "      <th>4</th>\n",
              "      <td>1994.0</td>\n",
              "      <td>Paula Abdul's Get Up &amp; Dance</td>\n",
              "    </tr>\n",
              "    <tr>\n",
              "      <th>5</th>\n",
              "      <td>2004.0</td>\n",
              "      <td>The Rise and Fall of ECW</td>\n",
              "    </tr>\n",
              "  </tbody>\n",
              "</table>\n",
              "</div>"
            ],
            "text/plain": [
              "          year_of_release                   movie_title\n",
              "movie_id                                               \n",
              "1                  2003.0               Dinosaur Planet\n",
              "2                  2004.0    Isle of Man TT 2004 Review\n",
              "3                  1997.0                     Character\n",
              "4                  1994.0  Paula Abdul's Get Up & Dance\n",
              "5                  2004.0      The Rise and Fall of ECW"
            ]
          },
          "metadata": {
            "tags": []
          },
          "execution_count": 50
        }
      ]
    },
    {
      "cell_type": "code",
      "metadata": {
        "id": "Sn4DOK08s95b"
      },
      "source": [
        "#compute movie similarity matrix\n",
        "def compute_movie_similarity_count(sprase_matrix, movie_titles_df, movie_id):\n",
        "    similarity = cosine_similarity(sprase_matrix.T, dense_output= False)\n",
        "    num_of_similar_movies = movie_titles_df.loc[movie_id][1], similarity[movie_id].count_nonzero()\n",
        "    return num_of_similar_movies"
      ],
      "execution_count": null,
      "outputs": []
    },
    {
      "cell_type": "code",
      "metadata": {
        "colab": {
          "base_uri": "https://localhost:8080/"
        },
        "id": "CtWBAM1qtqnA",
        "outputId": "c57b68e9-e008-4c24-f68a-b33fd73f0918"
      },
      "source": [
        "similar_movies = compute_movie_similarity_count(train_sparse_data, movie_titles_df, 1775)\n",
        "print(\"similar movies = {}\".format(similar_movies))"
      ],
      "execution_count": null,
      "outputs": [
        {
          "output_type": "stream",
          "text": [
            "similar movies = ('Dario Argento Collection: Vol. 1: Phenomena', 0)\n"
          ],
          "name": "stdout"
        }
      ]
    },
    {
      "cell_type": "code",
      "metadata": {
        "id": "SrRg__8Svn5M"
      },
      "source": [
        "def get_sample_sparse_matrix(sparse_matrix, no_of_users, no_of_movies):\n",
        "    users, movies, ratings = sparse.find(sparse_matrix)\n",
        "    uniq_users = np.unique(users)\n",
        "    uniq_movies = np.unique(movies)\n",
        "    np.random.seed(15) \n",
        "    user = np.random.choice(uniq_users, no_of_users, replace = False)\n",
        "    movie = np.random.choice(uniq_movies, no_of_movies, replace = True)\n",
        "    mask = np.logical_and(np.isin(users, user), np.isin(movies, movie))\n",
        "    sparse_matrix = sparse.csr_matrix((ratings[mask], (users[mask], movies[mask])), \n",
        "                                                     shape = (max(user)+1, max(movie)+1))\n",
        "    return sparse_matrix"
      ],
      "execution_count": null,
      "outputs": []
    },
    {
      "cell_type": "code",
      "metadata": {
        "id": "aTiIptCGvPdJ"
      },
      "source": [
        "#sample sparse matrix for training data\n",
        "train_sample_sparse_matrix = get_sample_sparse_matrix(train_sparse_data, 400, 40)\n",
        "\n",
        "#sample sparse matrix for test data\n",
        "test_sparse_matrix_matrix = get_sample_sparse_matrix(test_sparse_data, 200, 20)"
      ],
      "execution_count": null,
      "outputs": []
    },
    {
      "cell_type": "markdown",
      "metadata": {
        "id": "OyKTtNWPwFHo"
      },
      "source": [
        "**Generic Method for Generating Similar Features**"
      ]
    },
    {
      "cell_type": "code",
      "metadata": {
        "id": "XECILBDOv0BW"
      },
      "source": [
        "def create_new_similar_features(sample_sparse_matrix):\n",
        "    global_average_rating = get_average_rating(sample_sparse_matrix, False)\n",
        "    global_average_users = get_average_rating(sample_sparse_matrix, True)\n",
        "    global_average_movies = get_average_rating(sample_sparse_matrix, False)\n",
        "    sample_train_users, sample_train_movies, sample_train_ratings = sparse.find(sample_sparse_matrix)\n",
        "    new_features_csv_file = open('new_features.csv', mode = 'w')\n",
        "\n",
        "    for user, movie, rating in zip(sample_train_users, sample_train_movies, sample_train_ratings):\n",
        "        similar_arr = list()\n",
        "        similar_arr.append(user)\n",
        "        similar_arr.append(movie)\n",
        "        similar_arr.append(sample_sparse_matrix.sum()/sample_sparse_matrix.count_nonzero())\n",
        "\n",
        "        similar_users = cosine_similarity(sample_sparse_matrix[user], sample_sparse_matrix).ravel()\n",
        "        indices = np.argsort(-similar_users)[1:]\n",
        "        ratings = sample_sparse_matrix[indices, movie].toarray().ravel()\n",
        "        top_similar_user_ratings = list(ratings[ratings != 0][:5])\n",
        "        top_similar_user_ratings.extend([global_average_rating[movie]] * (5 - len(ratings)))\n",
        "        similar_arr.extend(top_similar_user_ratings)\n",
        "\n",
        "        similar_movies = cosine_similarity(sample_sparse_matrix[:,movie].T, sample_sparse_matrix.T).ravel()\n",
        "        similar_movie_indices = np.argsort(-similar_movies)[1:]\n",
        "        similar_movie_ratings = sample_sparse_matrix[user, similar_movie_indices].toarray().ravel()\n",
        "        top_similar_movie_ratings = list(similar_movie_ratings[similar_movie_ratings != 0][:5])\n",
        "        top_similar_movie_ratings.extend([global_average_users[user]] * (5 - len(similar_movie_ratings)))\n",
        "        similar_arr.extend(top_similar_user_ratings)\n",
        "\n",
        "        similar_arr.append(global_average_users[user])\n",
        "        similar_arr.append(global_average_movies[movie])\n",
        "        similar_arr.append(rating)\n",
        "\n",
        "        new_features_csv_file.write(\",\".join(map(str, similar_arr)))\n",
        "        new_features_csv_file.write(\"\\n\")\n",
        "\n",
        "\n",
        "    new_features_csv_file.close()\n",
        "    new_features_df = pd.read_csv('new_features.csv', names = [\"user_id\", \"movie_id\", \"gloabl_average\", \"similar_user_rating1\", \n",
        "                                                               \"similar_user_rating2\", \"similar_user_rating3\", \n",
        "                                                               \"similar_user_rating4\", \"similar_user_rating5\", \n",
        "                                                               \"similar_movie_rating1\", \"similar_movie_rating2\", \n",
        "                                                               \"similar_movie_rating3\", \"similar_movie_rating4\", \n",
        "                                                               \"similar_movie_rating5\", \"user_average\", \n",
        "                                                               \"movie_average\", \"rating\"])\n",
        "    return new_features_df"
      ],
      "execution_count": null,
      "outputs": []
    },
    {
      "cell_type": "code",
      "metadata": {
        "colab": {
          "base_uri": "https://localhost:8080/",
          "height": 224
        },
        "id": "tyTRGn00wxyD",
        "outputId": "7feed395-0139-464e-8926-637e23e9c145"
      },
      "source": [
        "#generate similar features\n",
        "train_new_similar_features = create_new_similar_features(train_sample_sparse_matrix)\n",
        "\n",
        "train_new_similar_features = train_new_similar_features.fillna(0)\n",
        "train_new_similar_features.head()"
      ],
      "execution_count": null,
      "outputs": [
        {
          "output_type": "execute_result",
          "data": {
            "text/html": [
              "<div>\n",
              "<style scoped>\n",
              "    .dataframe tbody tr th:only-of-type {\n",
              "        vertical-align: middle;\n",
              "    }\n",
              "\n",
              "    .dataframe tbody tr th {\n",
              "        vertical-align: top;\n",
              "    }\n",
              "\n",
              "    .dataframe thead th {\n",
              "        text-align: right;\n",
              "    }\n",
              "</style>\n",
              "<table border=\"1\" class=\"dataframe\">\n",
              "  <thead>\n",
              "    <tr style=\"text-align: right;\">\n",
              "      <th></th>\n",
              "      <th>user_id</th>\n",
              "      <th>movie_id</th>\n",
              "      <th>gloabl_average</th>\n",
              "      <th>similar_user_rating1</th>\n",
              "      <th>similar_user_rating2</th>\n",
              "      <th>similar_user_rating3</th>\n",
              "      <th>similar_user_rating4</th>\n",
              "      <th>similar_user_rating5</th>\n",
              "      <th>similar_movie_rating1</th>\n",
              "      <th>similar_movie_rating2</th>\n",
              "      <th>similar_movie_rating3</th>\n",
              "      <th>similar_movie_rating4</th>\n",
              "      <th>similar_movie_rating5</th>\n",
              "      <th>user_average</th>\n",
              "      <th>movie_average</th>\n",
              "      <th>rating</th>\n",
              "    </tr>\n",
              "  </thead>\n",
              "  <tbody>\n",
              "    <tr>\n",
              "      <th>0</th>\n",
              "      <td>368756</td>\n",
              "      <td>13393</td>\n",
              "      <td>3.392157</td>\n",
              "      <td>4.0</td>\n",
              "      <td>4.0</td>\n",
              "      <td>4.0</td>\n",
              "      <td>0.0</td>\n",
              "      <td>0.0</td>\n",
              "      <td>0.0</td>\n",
              "      <td>0.0</td>\n",
              "      <td>0.0</td>\n",
              "      <td>0.0</td>\n",
              "      <td>0.0</td>\n",
              "      <td>0.0</td>\n",
              "      <td>0.0</td>\n",
              "      <td>0.0</td>\n",
              "    </tr>\n",
              "    <tr>\n",
              "      <th>1</th>\n",
              "      <td>2593137</td>\n",
              "      <td>13495</td>\n",
              "      <td>3.392157</td>\n",
              "      <td>4.0</td>\n",
              "      <td>4.0</td>\n",
              "      <td>4.0</td>\n",
              "      <td>0.0</td>\n",
              "      <td>0.0</td>\n",
              "      <td>0.0</td>\n",
              "      <td>0.0</td>\n",
              "      <td>0.0</td>\n",
              "      <td>0.0</td>\n",
              "      <td>0.0</td>\n",
              "      <td>0.0</td>\n",
              "      <td>0.0</td>\n",
              "      <td>0.0</td>\n",
              "    </tr>\n",
              "    <tr>\n",
              "      <th>2</th>\n",
              "      <td>96842</td>\n",
              "      <td>13602</td>\n",
              "      <td>3.392157</td>\n",
              "      <td>3.0</td>\n",
              "      <td>5.0</td>\n",
              "      <td>5.0</td>\n",
              "      <td>3.0</td>\n",
              "      <td>5.0</td>\n",
              "      <td>5.0</td>\n",
              "      <td>5.0</td>\n",
              "      <td>4.5</td>\n",
              "      <td>5.0</td>\n",
              "      <td>0.0</td>\n",
              "      <td>0.0</td>\n",
              "      <td>0.0</td>\n",
              "      <td>0.0</td>\n",
              "    </tr>\n",
              "    <tr>\n",
              "      <th>3</th>\n",
              "      <td>486048</td>\n",
              "      <td>13602</td>\n",
              "      <td>3.392157</td>\n",
              "      <td>3.0</td>\n",
              "      <td>5.0</td>\n",
              "      <td>5.0</td>\n",
              "      <td>3.0</td>\n",
              "      <td>5.0</td>\n",
              "      <td>5.0</td>\n",
              "      <td>3.0</td>\n",
              "      <td>4.5</td>\n",
              "      <td>3.0</td>\n",
              "      <td>0.0</td>\n",
              "      <td>0.0</td>\n",
              "      <td>0.0</td>\n",
              "      <td>0.0</td>\n",
              "    </tr>\n",
              "    <tr>\n",
              "      <th>4</th>\n",
              "      <td>940434</td>\n",
              "      <td>13602</td>\n",
              "      <td>3.392157</td>\n",
              "      <td>3.0</td>\n",
              "      <td>5.0</td>\n",
              "      <td>5.0</td>\n",
              "      <td>3.0</td>\n",
              "      <td>5.0</td>\n",
              "      <td>5.0</td>\n",
              "      <td>5.0</td>\n",
              "      <td>4.5</td>\n",
              "      <td>5.0</td>\n",
              "      <td>0.0</td>\n",
              "      <td>0.0</td>\n",
              "      <td>0.0</td>\n",
              "      <td>0.0</td>\n",
              "    </tr>\n",
              "  </tbody>\n",
              "</table>\n",
              "</div>"
            ],
            "text/plain": [
              "   user_id  movie_id  gloabl_average  ...  user_average  movie_average  rating\n",
              "0   368756     13393        3.392157  ...           0.0            0.0     0.0\n",
              "1  2593137     13495        3.392157  ...           0.0            0.0     0.0\n",
              "2    96842     13602        3.392157  ...           0.0            0.0     0.0\n",
              "3   486048     13602        3.392157  ...           0.0            0.0     0.0\n",
              "4   940434     13602        3.392157  ...           0.0            0.0     0.0\n",
              "\n",
              "[5 rows x 16 columns]"
            ]
          },
          "metadata": {
            "tags": []
          },
          "execution_count": 71
        }
      ]
    },
    {
      "cell_type": "code",
      "metadata": {
        "colab": {
          "base_uri": "https://localhost:8080/",
          "height": 224
        },
        "id": "iYgfIUXy0108",
        "outputId": "273461f9-b9aa-4da8-8050-5ad0100bc8f9"
      },
      "source": [
        "#generate similar features for the test data\n",
        "test_new_similar_features = create_new_similar_features(test_sparse_matrix_matrix)\n",
        "\n",
        "test_new_similar_features = test_new_similar_features.fillna(0)\n",
        "test_new_similar_features.head()"
      ],
      "execution_count": null,
      "outputs": [
        {
          "output_type": "execute_result",
          "data": {
            "text/html": [
              "<div>\n",
              "<style scoped>\n",
              "    .dataframe tbody tr th:only-of-type {\n",
              "        vertical-align: middle;\n",
              "    }\n",
              "\n",
              "    .dataframe tbody tr th {\n",
              "        vertical-align: top;\n",
              "    }\n",
              "\n",
              "    .dataframe thead th {\n",
              "        text-align: right;\n",
              "    }\n",
              "</style>\n",
              "<table border=\"1\" class=\"dataframe\">\n",
              "  <thead>\n",
              "    <tr style=\"text-align: right;\">\n",
              "      <th></th>\n",
              "      <th>user_id</th>\n",
              "      <th>movie_id</th>\n",
              "      <th>gloabl_average</th>\n",
              "      <th>similar_user_rating1</th>\n",
              "      <th>similar_user_rating2</th>\n",
              "      <th>similar_user_rating3</th>\n",
              "      <th>similar_user_rating4</th>\n",
              "      <th>similar_user_rating5</th>\n",
              "      <th>similar_movie_rating1</th>\n",
              "      <th>similar_movie_rating2</th>\n",
              "      <th>similar_movie_rating3</th>\n",
              "      <th>similar_movie_rating4</th>\n",
              "      <th>similar_movie_rating5</th>\n",
              "      <th>user_average</th>\n",
              "      <th>movie_average</th>\n",
              "      <th>rating</th>\n",
              "    </tr>\n",
              "  </thead>\n",
              "  <tbody>\n",
              "    <tr>\n",
              "      <th>0</th>\n",
              "      <td>218348</td>\n",
              "      <td>16977</td>\n",
              "      <td>3.393939</td>\n",
              "      <td>4.0</td>\n",
              "      <td>1.0</td>\n",
              "      <td>5.0</td>\n",
              "      <td>4.0</td>\n",
              "      <td>3.0</td>\n",
              "      <td>4.0</td>\n",
              "      <td>1.0</td>\n",
              "      <td>5.0</td>\n",
              "      <td>4.0</td>\n",
              "      <td>3.0</td>\n",
              "      <td>5.000000</td>\n",
              "      <td>3.583333</td>\n",
              "      <td>5.0</td>\n",
              "    </tr>\n",
              "    <tr>\n",
              "      <th>1</th>\n",
              "      <td>482111</td>\n",
              "      <td>16977</td>\n",
              "      <td>3.393939</td>\n",
              "      <td>4.0</td>\n",
              "      <td>1.0</td>\n",
              "      <td>5.0</td>\n",
              "      <td>4.0</td>\n",
              "      <td>3.0</td>\n",
              "      <td>4.0</td>\n",
              "      <td>1.0</td>\n",
              "      <td>5.0</td>\n",
              "      <td>4.0</td>\n",
              "      <td>3.0</td>\n",
              "      <td>3.000000</td>\n",
              "      <td>3.583333</td>\n",
              "      <td>3.0</td>\n",
              "    </tr>\n",
              "    <tr>\n",
              "      <th>2</th>\n",
              "      <td>770495</td>\n",
              "      <td>16977</td>\n",
              "      <td>3.393939</td>\n",
              "      <td>4.0</td>\n",
              "      <td>1.0</td>\n",
              "      <td>5.0</td>\n",
              "      <td>4.0</td>\n",
              "      <td>3.0</td>\n",
              "      <td>4.0</td>\n",
              "      <td>1.0</td>\n",
              "      <td>5.0</td>\n",
              "      <td>4.0</td>\n",
              "      <td>3.0</td>\n",
              "      <td>4.000000</td>\n",
              "      <td>3.583333</td>\n",
              "      <td>4.0</td>\n",
              "    </tr>\n",
              "    <tr>\n",
              "      <th>3</th>\n",
              "      <td>1033930</td>\n",
              "      <td>16977</td>\n",
              "      <td>3.393939</td>\n",
              "      <td>2.0</td>\n",
              "      <td>1.0</td>\n",
              "      <td>3.0</td>\n",
              "      <td>4.0</td>\n",
              "      <td>4.0</td>\n",
              "      <td>2.0</td>\n",
              "      <td>1.0</td>\n",
              "      <td>3.0</td>\n",
              "      <td>4.0</td>\n",
              "      <td>4.0</td>\n",
              "      <td>2.666667</td>\n",
              "      <td>3.583333</td>\n",
              "      <td>3.0</td>\n",
              "    </tr>\n",
              "    <tr>\n",
              "      <th>4</th>\n",
              "      <td>1301848</td>\n",
              "      <td>16977</td>\n",
              "      <td>3.393939</td>\n",
              "      <td>4.0</td>\n",
              "      <td>1.0</td>\n",
              "      <td>5.0</td>\n",
              "      <td>4.0</td>\n",
              "      <td>3.0</td>\n",
              "      <td>4.0</td>\n",
              "      <td>1.0</td>\n",
              "      <td>5.0</td>\n",
              "      <td>4.0</td>\n",
              "      <td>3.0</td>\n",
              "      <td>4.000000</td>\n",
              "      <td>3.583333</td>\n",
              "      <td>4.0</td>\n",
              "    </tr>\n",
              "  </tbody>\n",
              "</table>\n",
              "</div>"
            ],
            "text/plain": [
              "   user_id  movie_id  gloabl_average  ...  user_average  movie_average  rating\n",
              "0   218348     16977        3.393939  ...      5.000000       3.583333     5.0\n",
              "1   482111     16977        3.393939  ...      3.000000       3.583333     3.0\n",
              "2   770495     16977        3.393939  ...      4.000000       3.583333     4.0\n",
              "3  1033930     16977        3.393939  ...      2.666667       3.583333     3.0\n",
              "4  1301848     16977        3.393939  ...      4.000000       3.583333     4.0\n",
              "\n",
              "[5 rows x 16 columns]"
            ]
          },
          "metadata": {
            "tags": []
          },
          "execution_count": 73
        }
      ]
    },
    {
      "cell_type": "markdown",
      "metadata": {
        "id": "tQYwzQdf174-"
      },
      "source": [
        "#Build The Models"
      ]
    },
    {
      "cell_type": "code",
      "metadata": {
        "id": "YSbHq5EH16GA"
      },
      "source": [
        "x_train = train_new_similar_features.drop(['user_id', 'movie_id', 'rating'], axis = 1)\n",
        "\n",
        "x_test = test_new_similar_features.drop(['user_id', 'movie_id', 'rating'], axis=1)\n",
        "\n",
        "y_train = train_new_similar_features['rating']\n",
        "\n",
        "y_test = test_new_similar_features['rating']"
      ],
      "execution_count": null,
      "outputs": []
    },
    {
      "cell_type": "code",
      "metadata": {
        "id": "Qo2ahN782Y9M"
      },
      "source": [
        "def error_metrics(y_true, y_pred):\n",
        "    rmse = np.sqrt(mean_squared_error(y_true, y_pred))\n",
        "    return rmse"
      ],
      "execution_count": null,
      "outputs": []
    },
    {
      "cell_type": "code",
      "metadata": {
        "colab": {
          "base_uri": "https://localhost:8080/"
        },
        "id": "hdLJ_00m2kQ8",
        "outputId": "02aa2109-0da4-4e8c-f3b1-c39e836f0022"
      },
      "source": [
        "clf = xgb.XGBRegressor(n_estimators= 100, silent= False, n_jobs = 10)\n",
        "clf.fit(x_train, y_train)"
      ],
      "execution_count": null,
      "outputs": [
        {
          "output_type": "stream",
          "text": [
            "[21:07:36] WARNING: /workspace/src/objective/regression_obj.cu:152: reg:linear is now deprecated in favor of reg:squarederror.\n"
          ],
          "name": "stdout"
        },
        {
          "output_type": "execute_result",
          "data": {
            "text/plain": [
              "XGBRegressor(base_score=0.5, booster='gbtree', colsample_bylevel=1,\n",
              "             colsample_bynode=1, colsample_bytree=1, gamma=0,\n",
              "             importance_type='gain', learning_rate=0.1, max_delta_step=0,\n",
              "             max_depth=3, min_child_weight=1, missing=None, n_estimators=100,\n",
              "             n_jobs=10, nthread=None, objective='reg:linear', random_state=0,\n",
              "             reg_alpha=0, reg_lambda=1, scale_pos_weight=1, seed=None,\n",
              "             silent=False, subsample=1, verbosity=1)"
            ]
          },
          "metadata": {
            "tags": []
          },
          "execution_count": 78
        }
      ]
    },
    {
      "cell_type": "code",
      "metadata": {
        "id": "YWUsQsAE2x8E"
      },
      "source": [
        "y_pred_test = clf.predict(x_test)"
      ],
      "execution_count": null,
      "outputs": []
    },
    {
      "cell_type": "code",
      "metadata": {
        "colab": {
          "base_uri": "https://localhost:8080/"
        },
        "id": "LYDz-zZj21Vf",
        "outputId": "3a3ce936-a8e7-429f-cf58-1193525f9f17"
      },
      "source": [
        "rmse_test = error_metrics(y_test, y_pred_test)\n",
        "print('RMSE = {}'.format(rmse_test))"
      ],
      "execution_count": null,
      "outputs": [
        {
          "output_type": "stream",
          "text": [
            "RMSE = 0.3003599476206699\n"
          ],
          "name": "stdout"
        }
      ]
    },
    {
      "cell_type": "markdown",
      "metadata": {
        "id": "bqOyTQ4j3FNw"
      },
      "source": [
        "**Plot feature importance**"
      ]
    },
    {
      "cell_type": "code",
      "metadata": {
        "id": "WOQ9ThzA28GK"
      },
      "source": [
        "def plot_importance(model, clf):\n",
        "    fig = plt.figure(figsize=(8,6))\n",
        "    ax = fig.add_axes([0,0,1,1])\n",
        "    model.plot_importance(clf, ax=ax, height=0.3)\n",
        "    plt.xlabel('F Score', fontsize=20)\n",
        "    plt.ylabel('Features', fontsize=20)\n",
        "    plt.title('Feature Importance', fontsize=20)\n",
        "    plt.tick_params(labelsize=15)\n",
        "\n",
        "    plt.show()"
      ],
      "execution_count": null,
      "outputs": []
    },
    {
      "cell_type": "code",
      "metadata": {
        "colab": {
          "base_uri": "https://localhost:8080/",
          "height": 529
        },
        "id": "8-lgduEe3qNb",
        "outputId": "0fa4f515-b94e-4afa-e695-f416ced9ed48"
      },
      "source": [
        "plot_importance(xgb, clf)"
      ],
      "execution_count": null,
      "outputs": [
        {
          "output_type": "display_data",
          "data": {
            "image/png": "[encoded data removed]",
            "text/plain": [
              "<Figure size 576x432 with 1 Axes>"
            ]
          },
          "metadata": {
            "tags": [],
            "needs_background": "light"
          }
        }
      ]
    },
    {
      "cell_type": "code",
      "metadata": {
        "id": "mh-40kG13tyv"
      },
      "source": [
        ""
      ],
      "execution_count": null,
      "outputs": []
    }
  ]
}