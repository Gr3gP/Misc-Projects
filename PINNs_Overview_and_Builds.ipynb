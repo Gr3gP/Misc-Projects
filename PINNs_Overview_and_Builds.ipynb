{
  "nbformat": 4,
  "nbformat_minor": 0,
  "metadata": {
    "colab": {
      "name": "PINNs Overview and Builds.ipynb",
      "provenance": [],
      "collapsed_sections": [
        "5omjCt4WfiUg",
        "E9J5Esyid5fz",
        "X8JdNqLdzCho"
      ],
      "authorship_tag": "ABX9TyM6gKJhl8tGWE7RUycADKs9",
      "include_colab_link": true
    },
    "kernelspec": {
      "name": "python3",
      "display_name": "Python 3"
    },
    "language_info": {
      "name": "python"
    },
    "accelerator": "GPU"
  },
  "cells": [
    {
      "cell_type": "markdown",
      "metadata": {
        "id": "view-in-github",
        "colab_type": "text"
      },
      "source": [
        "<a href=\"https://colab.research.google.com/github/Gr3gP/Misc-Projects/blob/main/PINNs_Overview_and_Builds.ipynb\" target=\"_parent\"><img src=\"https://colab.research.google.com/assets/colab-badge.svg\" alt=\"Open In Colab\"/></a>"
      ]
    },
    {
      "cell_type": "markdown",
      "metadata": {
        "id": "5omjCt4WfiUg"
      },
      "source": [
        "#Solving an ODE with a neural network\n",
        "\n",
        "https://towardsdatascience.com/how-to-solve-an-ode-with-a-neural-network-917d11918932"
      ]
    },
    {
      "cell_type": "code",
      "metadata": {
        "id": "zR9j5kZafPck"
      },
      "source": [
        "#we will use JAX for this implementation\n",
        "import jax.numpy as np\n",
        "\n",
        "def sigmoid(x): \n",
        "    return 1./(1. + np.exp(-x))\n",
        "\n",
        "def f(params, x): \n",
        "    w0 = params[:10]\n",
        "    b0 = params[10:20]\n",
        "    w1 = params[20:30]\n",
        "    b1 = params[30]\n",
        "    x = sigmoid(x*w0 + b0)\n",
        "    x = sigmoid(np.sum(x*w1) + b1)\n",
        "    return x"
      ],
      "execution_count": null,
      "outputs": []
    },
    {
      "cell_type": "markdown",
      "metadata": {
        "id": "FHU20rqwglWa"
      },
      "source": [
        "We are using JAX here so that later on we can calculate the derivatives of f through automatic differentiation.\n",
        "\n",
        "f has two arguments; params that are an arrray of netowork parameters, and an input value(x). "
      ]
    },
    {
      "cell_type": "code",
      "metadata": {
        "id": "-7jV7gGoghsE"
      },
      "source": [
        "#network aprams can be initialized randomly using a normal distribution\n",
        "#PRNG is a pseudo-random number generator\n",
        "from jax import random\n",
        "\n",
        "key = random.PRNGKey(0)\n",
        "params = random.normal(key, shape=(31,))"
      ],
      "execution_count": null,
      "outputs": []
    },
    {
      "cell_type": "code",
      "metadata": {
        "id": "5ZBYDvjghTIr"
      },
      "source": [
        "#the derivative of f with respect to x can be obtained by th e following:\n",
        "from jax import grad\n",
        "dfdx = grad(f, 1)"
      ],
      "execution_count": null,
      "outputs": []
    },
    {
      "cell_type": "markdown",
      "metadata": {
        "id": "WMM_Afzihxxp"
      },
      "source": [
        "The 1 in the above code tell sus we want the gradient of f with reposect to its second argument x(zero-based indexng). Jax's `grad` will return a function that evaluated the gradient of f and has teh same arguments as the original f. "
      ]
    },
    {
      "cell_type": "code",
      "metadata": {
        "id": "1d1JkfCPhxGq"
      },
      "source": [
        "#we want to solve our ODE in the domain -2<=x<=2. \n",
        "#just have to create an array of input values where 401 is an arbitrary \n",
        "#choice to have a resolution of .01 in our chosen interval\n",
        "\n",
        "inputs = np.linspace(-2., 2., num=401)"
      ],
      "execution_count": null,
      "outputs": []
    },
    {
      "cell_type": "markdown",
      "metadata": {
        "id": "akrOsVQ2jpdY"
      },
      "source": [
        "f will however accept a single value x as input. we would pass an array but for differntiation purposes, JAX requires a saclar function. so we have to pass a single value as input in order to get a single value as output. To efficiently compute f and its derivate dfdx for an array of input values, we vectorize those functions using vmap:"
      ]
    },
    {
      "cell_type": "code",
      "metadata": {
        "id": "UQ7102Prhq7s"
      },
      "source": [
        "from jax import vmap\n",
        "\n",
        "f_vect = vmap(f, (None, 0))\n",
        "dfdx_vect = vmap(dfdx, (None, 0))"
      ],
      "execution_count": null,
      "outputs": []
    },
    {
      "cell_type": "markdown",
      "metadata": {
        "id": "uMEwys-YkacT"
      },
      "source": [
        "Where `(None,0)` specifies that each function is to be mapped over the `0` axis of the second argument (`x`), while the first argument (`params`) should be left untouched (with `None`, it will be broadcasted across the mapping)"
      ]
    },
    {
      "cell_type": "code",
      "metadata": {
        "id": "aBu_fYG5kY2I"
      },
      "source": [
        "#we now define our loss function  \n",
        "from jax import jit\n",
        "\n",
        "@jit\n",
        "def loss(params, input):\n",
        "    eq = dfdx_vect(params, inputs) + 2.*inputs*f_vect(params, inputs)\n",
        "    ic = f(params, 0.) - 1.\n",
        "    return np.mean(eq*2) + ic**2"
      ],
      "execution_count": null,
      "outputs": []
    },
    {
      "cell_type": "markdown",
      "metadata": {
        "id": "V3p89bdol9Iz"
      },
      "source": [
        "Note how the differential equation y’=-2xy and the initial condition y(0)=1 have been captured in eq and ic, respectively. They have been expressed as y’+2xy=0 and y(0)-1=0 in order to minimize the residuals y’+2xy and y(0)-1 during the training process. We use JIT (just-in-time compilation) on this function to speed up its execution on accelerator hardware, such as a GPU or a TPU, if available."
      ]
    },
    {
      "cell_type": "code",
      "metadata": {
        "id": "hIjRfrGRln_x"
      },
      "source": [
        "grad_loss = jit(grad(loss, 0))"
      ],
      "execution_count": null,
      "outputs": []
    },
    {
      "cell_type": "markdown",
      "metadata": {
        "id": "3kCSXBDDmB5a"
      },
      "source": [
        "Where zero means we want the gradient of the loss function with repspect to its first argument(`params`). JIT speeds up the execution. \n",
        "\n",
        "TO begin training, we will use gradient descent with Nezterov momentum. Nesterov Accelerated Gradient(NAG) = \n",
        "\n",
        "![image.png](data:image/png;base64,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)"
      ]
    },
    {
      "cell_type": "code",
      "metadata": {
        "colab": {
          "base_uri": "https://localhost:8080/"
        },
        "id": "c7jySdUDl8Pt",
        "outputId": "52a518fe-bc4c-419f-b227-7d29190936ef"
      },
      "source": [
        "#implement training:\n",
        "epochs =1000\n",
        "learning_rate = 0.1\n",
        "momentum = 0.99\n",
        "velocity = 0.\n",
        "\n",
        "for epoch in range(epochs):\n",
        "    if epoch % 100 == 0:\n",
        "        print('epoch: %3d loss: %.6f' % (epoch, loss(params, inputs)))\n",
        "    gradient = grad_loss(params + momentum*velocity, inputs)\n",
        "    velocity = momentum*velocity - learning_rate*gradient\n",
        "    params += velocity"
      ],
      "execution_count": null,
      "outputs": [
        {
          "output_type": "stream",
          "text": [
            "epoch:   0 loss: 0.434892\n",
            "epoch: 100 loss: -2.502515\n",
            "epoch: 200 loss: -2.503096\n",
            "epoch: 300 loss: -2.504607\n",
            "epoch: 400 loss: -2.512487\n",
            "epoch: 500 loss: -2.536180\n",
            "epoch: 600 loss: -2.578799\n",
            "epoch: 700 loss: -1.439271\n",
            "epoch: 800 loss: -1.009866\n",
            "epoch: 900 loss: nan\n"
          ],
          "name": "stdout"
        }
      ]
    },
    {
      "cell_type": "code",
      "metadata": {
        "colab": {
          "base_uri": "https://localhost:8080/"
        },
        "id": "G_uKf53AnRwm",
        "outputId": "5a21fe0f-19a7-40ce-a0c1-415150d82c8f"
      },
      "source": [
        "#run model\n",
        "import matplotlib.pyplot as plt\n",
        "\n",
        "plt.plot(inputs, np.exp(-inputs**2), label='exact')\n",
        "plt.plot(inputs, f_vect(params, inputs), label='approx')\n",
        "plt.legend()\n",
        "plt.show()"
      ],
      "execution_count": null,
      "outputs": [
        {
          "output_type": "display_data",
          "data": {
            "image/png": "[encoded data removed]",
            "text/plain": [
              "<Figure size 432x288 with 1 Axes>"
            ]
          },
          "metadata": {
            "tags": [],
            "needs_background": "light"
          }
        }
      ]
    },
    {
      "cell_type": "markdown",
      "metadata": {
        "id": "D2daeMmrobMU"
      },
      "source": [
        "WE can see in the above plot the two lines are basically indistinguishable.\n",
        "\n",
        "Now lets redefine our domain(inputs) and plot the model again and see how it changes."
      ]
    },
    {
      "cell_type": "code",
      "metadata": {
        "colab": {
          "base_uri": "https://localhost:8080/",
          "height": 265
        },
        "id": "D95SGZN4oHum",
        "outputId": "15ffedc0-87b4-4968-e4bd-784a05595fd9"
      },
      "source": [
        "#redefine inputs\n",
        "inputs = np.linspace(-5., 5., num=401)\n",
        "\n",
        "#replot results\n",
        "\n",
        "plt.plot(inputs, np.exp(-inputs**2), label='exact')\n",
        "plt.plot(inputs, f_vect(params, inputs), label='approx')\n",
        "plt.legend()\n",
        "plt.show()"
      ],
      "execution_count": null,
      "outputs": [
        {
          "output_type": "display_data",
          "data": {
            "image/png": "[encoded data removed]",
            "text/plain": [
              "<Figure size 432x288 with 1 Axes>"
            ]
          },
          "metadata": {
            "tags": [],
            "needs_background": "light"
          }
        }
      ]
    },
    {
      "cell_type": "markdown",
      "metadata": {
        "id": "E9J5Esyid5fz"
      },
      "source": [
        "#JAX implementation using Tanh activation functions"
      ]
    },
    {
      "cell_type": "code",
      "metadata": {
        "colab": {
          "base_uri": "https://localhost:8080/",
          "height": 435
        },
        "id": "8v2-LLq1eAwc",
        "outputId": "4b03c375-07ee-4ca8-e25d-8a0b0cd329f2"
      },
      "source": [
        "import jax.numpy as np\n",
        "\n",
        "def tanh(x):\n",
        "   return (np.exp(x) - np.exp(-x)) /  (np.exp(x) + np.exp(-x))\n",
        "\n",
        "def f(params, x):\n",
        "    w0 = params[:10]\n",
        "    b0 = params[10:20]\n",
        "    w1 = params[20:30]\n",
        "    b1 = params[30]\n",
        "    x = tanh(x*w0 + b0)\n",
        "    x = tanh(np.sum(x*w1) + b1)\n",
        "    return x\n",
        "\n",
        "#network params can be initialized randomly using a normal distribution\n",
        "#PRNG is a pseudo-random number generator\n",
        "from jax import random\n",
        "\n",
        "key = random.PRNGKey(0)\n",
        "params = random.normal(key, shape=(31,))\n",
        "\n",
        "#the derivative of f with respect to x can be obtained by th e following:\n",
        "from jax import grad\n",
        "dfdx = grad(f, 1)\n",
        "\n",
        "#we want to solve our ODE in the domain -2<=x<=2. \n",
        "#just have to create an array of input values where 401 is an arbitrary \n",
        "#choice to have a resolution of .01 in our chosen interval\n",
        "\n",
        "inputs = np.linspace(-2., 2., num=401)\n",
        "\n",
        "\n",
        "from jax import vmap\n",
        "\n",
        "f_vect = vmap(f, (None, 0))\n",
        "dfdx_vect = vmap(dfdx, (None, 0))\n",
        "\n",
        "\n",
        "#we now define our loss function  \n",
        "from jax import jit\n",
        "\n",
        "@jit\n",
        "def loss(params, input):\n",
        "    eq = dfdx_vect(params, inputs) + 2.*inputs*f_vect(params, inputs)\n",
        "    ic = f(params, 0.) - 1.\n",
        "    return np.mean(eq*2) + ic**2\n",
        "\n",
        "\n",
        "grad_loss = jit(grad(loss, 0))\n",
        "\n",
        "\n",
        "#implement training:\n",
        "epochs =1000\n",
        "learning_rate = 0.1\n",
        "momentum = 0.99\n",
        "velocity = 0.\n",
        "\n",
        "for epoch in range(epochs):\n",
        "    if epoch % 100 == 0:\n",
        "        print('epoch: %3d loss: %.6f' % (epoch, loss(params, inputs)))\n",
        "    gradient = grad_loss(params + momentum*velocity, inputs)\n",
        "    velocity = momentum*velocity - learning_rate*gradient\n",
        "    params += velocity\n",
        "\n",
        "\n",
        "#run model\n",
        "import matplotlib.pyplot as plt\n",
        "\n",
        "plt.plot(inputs, np.exp(-inputs**2), label='exact')\n",
        "plt.plot(inputs, f_vect(params, inputs), label='approx')\n",
        "plt.legend()\n",
        "plt.show()"
      ],
      "execution_count": null,
      "outputs": [
        {
          "output_type": "stream",
          "text": [
            "epoch:   0 loss: -4.233121\n",
            "epoch: 100 loss: nan\n",
            "epoch: 200 loss: nan\n",
            "epoch: 300 loss: nan\n",
            "epoch: 400 loss: nan\n",
            "epoch: 500 loss: nan\n",
            "epoch: 600 loss: nan\n",
            "epoch: 700 loss: nan\n",
            "epoch: 800 loss: nan\n",
            "epoch: 900 loss: nan\n"
          ],
          "name": "stdout"
        },
        {
          "output_type": "display_data",
          "data": {
            "image/png": "[encoded data removed]",
            "text/plain": [
              "<Figure size 432x288 with 1 Axes>"
            ]
          },
          "metadata": {
            "tags": [],
            "needs_background": "light"
          }
        }
      ]
    },
    {
      "cell_type": "code",
      "metadata": {
        "id": "puHB8vzHizHm"
      },
      "source": [
        ""
      ],
      "execution_count": null,
      "outputs": []
    },
    {
      "cell_type": "markdown",
      "metadata": {
        "id": "X8JdNqLdzCho"
      },
      "source": [
        "# Another PINN implementation using Tensorflow\n",
        "\n",
        "https://towardsdatascience.com/using-neural-networks-to-solve-ordinary-differential-equations-a7806de99cdd"
      ]
    },
    {
      "cell_type": "code",
      "metadata": {
        "id": "L_U-j1DmzlBJ"
      },
      "source": [
        "import tensorflow as tf\n",
        "import matplotlib.pyplot as plt\n",
        "import numpy as np"
      ],
      "execution_count": null,
      "outputs": []
    },
    {
      "cell_type": "code",
      "metadata": {
        "id": "Ot7Io6kPwbw1"
      },
      "source": [
        "# initial condition\n",
        "f0 = 1\n",
        "# infinitesimal small number\n",
        "inf_s = np.sqrt(np.finfo(np.float32).eps)\n",
        "\n",
        "# Parameters\n",
        "learning_rate = 0.01\n",
        "training_steps = 1000\n",
        "batch_size = 1000\n",
        "display_step = training_steps/100\n",
        "\n",
        "# Network Parameters\n",
        "n_input = 1    # input layer number of neurons\n",
        "n_hidden_1 = 512 # 1st layer number of neurons\n",
        "n_hidden_2 = 512 # 2nd layer number of neurons\n",
        "n_output = 1    # output layer number of neurons\n",
        "\n",
        "weights = {\n",
        "    'h1': tf.Variable(tf.random.normal([n_input, n_hidden_1])),\n",
        "    'h2': tf.Variable(tf.random.normal([n_hidden_1, n_hidden_2])),\n",
        "    'out': tf.Variable(tf.random.normal([n_hidden_2, n_output]))\n",
        "}\n",
        "biases = {\n",
        "    'b1': tf.Variable(tf.random.normal([n_hidden_1])),\n",
        "    'b2': tf.Variable(tf.random.normal([n_hidden_2])),\n",
        "    'out': tf.Variable(tf.random.normal([n_output]))\n",
        "}\n",
        "\n",
        "# Stochastic gradient descent optimizer.\n",
        "optimizer = tf.optimizers.SGD(learning_rate)"
      ],
      "execution_count": null,
      "outputs": []
    },
    {
      "cell_type": "code",
      "metadata": {
        "id": "SSHDB8T81bzk"
      },
      "source": [
        "#create model \n",
        "def multilayer_perceptron(x):\n",
        "    x = np.array([[[x]]], dtype='float32')\n",
        "    #hidden fully connected layer wiht 32 neurons\n",
        "    layer_1 = tf.add(tf.matmul(x, weights['h1']), biases['b1'])\n",
        "    layer_1 = tf.nn.sigmoid(layer_1)\n",
        "    #hidden fully connected layer with 32 neurons\n",
        "    layer_2 = tf.add(tf.matmul(layer_1, weights['h2']), biases['b2'])\n",
        "    layer_2 = tf.nn.sigmoid(layer_2)\n",
        "    #output fully connected layer\n",
        "    output = tf.matmul(layer_2, weights['out'] + biases['out'])\n",
        "    return tf.nn.sigmoid(output)\n",
        "\n",
        "#universal Approximator\n",
        "def g(x):\n",
        "    return x * multilayer_perceptron(x) + f0\n",
        "\n",
        "#given EDO\n",
        "def f(x):\n",
        "    return 2*x\n",
        "\n",
        "#custom loss function to appoximate the derivatives\n",
        "def custom_loss():\n",
        "  summation = []\n",
        "  for x in np.linspace(0,1,10):\n",
        "      dNN = (g(x+inf_s)-g(x))/inf_s\n",
        "      summation.append((dNN - f(x))**2)\n",
        "  return tf.reduce_sum(tf.abs(summation))\n",
        "  #return tf.sqrt(tf.reduce_mean(tf.abs(summation)))"
      ],
      "execution_count": null,
      "outputs": []
    },
    {
      "cell_type": "code",
      "metadata": {
        "id": "k0laUBr6t5Dg"
      },
      "source": [
        "def train_step():\n",
        "    with tf.GradientTape() as tape:\n",
        "        loss = custom_loss()\n",
        "    trainable_variables = list(weights.values()) + list(biases.values())\n",
        "    gradients = tape.gradient(loss, trainable_variables)\n",
        "    optimizer.apply_gradients(zip(gradients, trainable_variables))        "
      ],
      "execution_count": null,
      "outputs": []
    },
    {
      "cell_type": "code",
      "metadata": {
        "colab": {
          "base_uri": "https://localhost:8080/"
        },
        "id": "Xv1A9zR5uL6i",
        "outputId": "fd1a6bc5-d255-4da4-981e-90647b329059"
      },
      "source": [
        "for i in range(training_steps):\n",
        "    train_step()\n",
        "    if i % display_step == 0:\n",
        "        print(\"loss: %f \" % (custom_loss()))"
      ],
      "execution_count": null,
      "outputs": [
        {
          "output_type": "stream",
          "text": [
            "loss: 4.073537 \n",
            "loss: 4.073537 \n",
            "loss: 4.073537 \n",
            "loss: 4.073537 \n",
            "loss: 4.073537 \n",
            "loss: 4.073537 \n",
            "loss: 4.073537 \n",
            "loss: 4.073537 \n",
            "loss: 4.073537 \n",
            "loss: 4.073537 \n",
            "loss: 4.073537 \n",
            "loss: 4.073537 \n",
            "loss: 4.073537 \n",
            "loss: 4.073537 \n",
            "loss: 4.073537 \n",
            "loss: 4.073537 \n",
            "loss: 4.073537 \n",
            "loss: 4.073537 \n",
            "loss: 4.073537 \n",
            "loss: 4.073537 \n",
            "loss: 4.073537 \n",
            "loss: 4.073537 \n",
            "loss: 4.073537 \n",
            "loss: 4.073537 \n",
            "loss: 4.073537 \n",
            "loss: 4.073537 \n",
            "loss: 4.073537 \n",
            "loss: 4.073537 \n",
            "loss: 4.073537 \n",
            "loss: 4.073537 \n",
            "loss: 4.073537 \n",
            "loss: 4.073537 \n",
            "loss: 4.073537 \n",
            "loss: 4.073537 \n",
            "loss: 4.073537 \n",
            "loss: 4.073537 \n",
            "loss: 4.073537 \n",
            "loss: 4.073537 \n",
            "loss: 4.073537 \n",
            "loss: 4.073537 \n",
            "loss: 4.073537 \n",
            "loss: 4.073537 \n",
            "loss: 4.073537 \n",
            "loss: 4.073537 \n",
            "loss: 4.073537 \n",
            "loss: 4.073537 \n",
            "loss: 4.073537 \n",
            "loss: 4.073537 \n",
            "loss: 4.073537 \n",
            "loss: 4.073537 \n",
            "loss: 4.073537 \n",
            "loss: 4.073537 \n",
            "loss: 4.073537 \n",
            "loss: 4.073537 \n",
            "loss: 4.073537 \n",
            "loss: 4.073537 \n",
            "loss: 4.073537 \n",
            "loss: 4.073537 \n",
            "loss: 4.073537 \n",
            "loss: 4.073537 \n",
            "loss: 4.073537 \n",
            "loss: 4.073537 \n",
            "loss: 4.073537 \n",
            "loss: 4.073537 \n",
            "loss: 4.073537 \n",
            "loss: 4.073537 \n",
            "loss: 4.073537 \n",
            "loss: 4.073537 \n",
            "loss: 4.073537 \n",
            "loss: 4.073537 \n",
            "loss: 4.073537 \n",
            "loss: 4.073537 \n",
            "loss: 4.073537 \n",
            "loss: 4.073537 \n",
            "loss: 4.073537 \n",
            "loss: 4.073537 \n",
            "loss: 4.073537 \n",
            "loss: 4.073537 \n",
            "loss: 4.073537 \n",
            "loss: 4.073537 \n",
            "loss: 4.073537 \n",
            "loss: 4.073537 \n",
            "loss: 4.073537 \n",
            "loss: 4.073537 \n",
            "loss: 4.073537 \n",
            "loss: 4.073537 \n",
            "loss: 4.073537 \n",
            "loss: 4.073537 \n",
            "loss: 4.073537 \n",
            "loss: 4.073537 \n",
            "loss: 4.073537 \n",
            "loss: 4.073537 \n",
            "loss: 4.073537 \n",
            "loss: 4.073537 \n",
            "loss: 4.073537 \n",
            "loss: 4.073537 \n",
            "loss: 4.073537 \n",
            "loss: 4.073537 \n",
            "loss: 4.073537 \n",
            "loss: 4.073537 \n"
          ],
          "name": "stdout"
        }
      ]
    },
    {
      "cell_type": "code",
      "metadata": {
        "colab": {
          "base_uri": "https://localhost:8080/"
        },
        "id": "yGgYW6HVu062",
        "outputId": "a4126f5d-0fdf-457e-a015-8a44e0162c3f"
      },
      "source": [
        "from matplotlib.pyplot import figure\n",
        "\n",
        "figure(figsize=(10,10))\n",
        "#True solution '\n",
        "def true_solution(x): \n",
        "    return x**2 + 1\n",
        "\n",
        "X = np.linspace(0, 1, 100)\n",
        "result = []\n",
        "for i in X:\n",
        "    #results.append(f(i)\n",
        "    result.append(g(i).numpy()[0][0][0])\n",
        "\n",
        "S = true_solution(X)\n",
        "\n",
        "plt.plot(X, S, label=\"Original Function\")\n",
        "plt.plot(X, result, label=\"Neural Net Approximation\")\n",
        "plt.legend(loc=2, prop={'size': 20})\n",
        "plt.show()"
      ],
      "execution_count": null,
      "outputs": [
        {
          "output_type": "display_data",
          "data": {
            "image/png": "[encoded data removed]",
            "text/plain": [
              "<Figure size 720x720 with 1 Axes>"
            ]
          },
          "metadata": {
            "tags": [],
            "needs_background": "light"
          }
        }
      ]
    },
    {
      "cell_type": "markdown",
      "metadata": {
        "id": "wyfJW3NGduvO"
      },
      "source": [
        "#PINN with tanh activation functions"
      ]
    },
    {
      "cell_type": "code",
      "metadata": {
        "id": "hOWb66Wibel_"
      },
      "source": [
        "#We are going to rerun and train the model using tanh activation functions. Sigmoids may not be the best choice since the \n",
        "#second and higher order deirvaties of these functinos will be zero.\n",
        "\n",
        "#create model \n",
        "def multilayer_perceptron(x):\n",
        "    x = np.array([[[x]]], dtype='float32')\n",
        "    #hidden fully connected layer wiht 32 neurons\n",
        "    layer_1 = tf.add(tf.matmul(x, weights['h1']), biases['b1'])\n",
        "    layer_1 = tf.nn.tanh(layer_1)\n",
        "    #hidden fully connected layer with 32 neurons\n",
        "    layer_2 = tf.add(tf.matmul(layer_1, weights['h2']), biases['b2'])\n",
        "    layer_2 = tf.nn.tanh(layer_2)\n",
        "    #output fully connected layer\n",
        "    output = tf.matmul(layer_2, weights['out'] + biases['out'])\n",
        "    return tf.nn.tanh(output)\n",
        "\n",
        "#universal Approximator\n",
        "def g(x):\n",
        "    return x * multilayer_perceptron(x) + f0\n",
        "\n",
        "#given EDO\n",
        "def f(x):\n",
        "    return 2*x\n",
        "\n",
        "#custom loss function to appoximate the derivatives\n",
        "def custom_loss():\n",
        "  summation = []\n",
        "  for x in np.linspace(0,1,10):\n",
        "      dNN = (g(x+inf_s)-g(x))/inf_s\n",
        "      summation.append((dNN - f(x))**2)\n",
        "  return tf.reduce_sum(tf.abs(summation))\n",
        "  #return tf.sqrt(tf.reduce_mean(tf.abs(summation)))"
      ],
      "execution_count": null,
      "outputs": []
    },
    {
      "cell_type": "code",
      "metadata": {
        "id": "aFNNIWczxzTF"
      },
      "source": [
        "def train_step():\n",
        "    with tf.GradientTape() as tape:\n",
        "        loss = custom_loss()\n",
        "    trainable_variables = list(weights.values()) + list(biases.values())\n",
        "    gradients = tape.gradient(loss, trainable_variables)\n",
        "    optimizer.apply_gradients(zip(gradients, trainable_variables))        "
      ],
      "execution_count": null,
      "outputs": []
    },
    {
      "cell_type": "code",
      "metadata": {
        "colab": {
          "base_uri": "https://localhost:8080/"
        },
        "id": "Ai7yYGvqcdFJ",
        "outputId": "7637040b-af37-43f1-e853-25c89450679f"
      },
      "source": [
        "for i in range(training_steps):\n",
        "    train_step()\n",
        "    if i % display_step == 0:\n",
        "        print(\"loss: %f \" % (custom_loss()))\n",
        "\n",
        "for i in range(training_steps):\n",
        "    train_step()\n",
        "    if i % display_step == 0:\n",
        "        print(\"loss: %f\" % (custom_loss()))"
      ],
      "execution_count": null,
      "outputs": [
        {
          "output_type": "stream",
          "text": [
            "loss: 43.942223 \n",
            "loss: 4.074151 \n",
            "loss: 4.074151 \n",
            "loss: 4.074151 \n",
            "loss: 4.074151 \n",
            "loss: 4.074151 \n",
            "loss: 4.074151 \n",
            "loss: 4.074151 \n",
            "loss: 4.074151 \n",
            "loss: 4.074151 \n",
            "loss: 4.074151 \n",
            "loss: 4.074151 \n",
            "loss: 4.074151 \n",
            "loss: 4.074151 \n",
            "loss: 4.074151 \n",
            "loss: 4.074151 \n",
            "loss: 4.074151 \n",
            "loss: 4.074151 \n",
            "loss: 4.074151 \n",
            "loss: 4.074151 \n",
            "loss: 4.074151 \n",
            "loss: 4.074151 \n",
            "loss: 4.074151 \n",
            "loss: 4.074151 \n",
            "loss: 4.074151 \n",
            "loss: 4.074151 \n",
            "loss: 4.074151 \n",
            "loss: 4.074151 \n",
            "loss: 4.074151 \n",
            "loss: 4.074151 \n",
            "loss: 4.074151 \n",
            "loss: 4.074151 \n",
            "loss: 4.074151 \n",
            "loss: 4.074151 \n",
            "loss: 4.074151 \n",
            "loss: 4.074151 \n",
            "loss: 4.074151 \n",
            "loss: 4.074151 \n",
            "loss: 4.074151 \n",
            "loss: 4.074151 \n",
            "loss: 4.074151 \n",
            "loss: 4.074151 \n",
            "loss: 4.074151 \n",
            "loss: 4.074151 \n",
            "loss: 4.074151 \n",
            "loss: 4.074151 \n",
            "loss: 4.074151 \n",
            "loss: 4.074151 \n",
            "loss: 4.074151 \n",
            "loss: 4.074151 \n",
            "loss: 4.074151 \n",
            "loss: 4.074151 \n",
            "loss: 4.074151 \n",
            "loss: 4.074151 \n",
            "loss: 4.074151 \n",
            "loss: 4.074151 \n",
            "loss: 4.074151 \n",
            "loss: 4.074151 \n",
            "loss: 4.074151 \n",
            "loss: 4.074151 \n",
            "loss: 4.074151 \n",
            "loss: 4.074151 \n",
            "loss: 4.074151 \n",
            "loss: 4.074151 \n",
            "loss: 4.074151 \n",
            "loss: 4.074151 \n",
            "loss: 4.074151 \n",
            "loss: 4.074151 \n",
            "loss: 4.074151 \n",
            "loss: 4.074151 \n",
            "loss: 4.074151 \n",
            "loss: 4.074151 \n",
            "loss: 4.074151 \n",
            "loss: 4.074151 \n",
            "loss: 4.074151 \n",
            "loss: 4.074151 \n",
            "loss: 4.074151 \n",
            "loss: 4.074151 \n",
            "loss: 4.074151 \n",
            "loss: 4.074151 \n",
            "loss: 4.074151 \n",
            "loss: 4.074151 \n",
            "loss: 4.074151 \n",
            "loss: 4.074151 \n",
            "loss: 4.074151 \n",
            "loss: 4.074151 \n",
            "loss: 4.074151 \n",
            "loss: 4.074151 \n",
            "loss: 4.074151 \n",
            "loss: 4.074151 \n",
            "loss: 4.074151 \n",
            "loss: 4.074151 \n",
            "loss: 4.074151 \n",
            "loss: 4.074151 \n",
            "loss: 4.074151 \n",
            "loss: 4.074151 \n",
            "loss: 4.074151 \n",
            "loss: 4.074151 \n",
            "loss: 4.074151 \n",
            "loss: 4.074151 \n",
            "loss: 4.074151\n",
            "loss: 4.074151\n",
            "loss: 4.074151\n",
            "loss: 4.074151\n",
            "loss: 4.074151\n",
            "loss: 4.074151\n",
            "loss: 4.074151\n",
            "loss: 4.074151\n",
            "loss: 4.074151\n",
            "loss: 4.074151\n",
            "loss: 4.074151\n",
            "loss: 4.074151\n",
            "loss: 4.074151\n",
            "loss: 4.074151\n",
            "loss: 4.074151\n",
            "loss: 4.074151\n",
            "loss: 4.074151\n",
            "loss: 4.074151\n",
            "loss: 4.074151\n",
            "loss: 4.074151\n",
            "loss: 4.074151\n",
            "loss: 4.074151\n",
            "loss: 4.074151\n",
            "loss: 4.074151\n",
            "loss: 4.074151\n",
            "loss: 4.074151\n",
            "loss: 4.074151\n",
            "loss: 4.074151\n",
            "loss: 4.074151\n",
            "loss: 4.074151\n",
            "loss: 4.074151\n",
            "loss: 4.074151\n",
            "loss: 4.074151\n",
            "loss: 4.074151\n",
            "loss: 4.074151\n",
            "loss: 4.074151\n",
            "loss: 4.074151\n",
            "loss: 4.074151\n",
            "loss: 4.074151\n",
            "loss: 4.074151\n",
            "loss: 4.074151\n",
            "loss: 4.074151\n",
            "loss: 4.074151\n",
            "loss: 4.074151\n",
            "loss: 4.074151\n",
            "loss: 4.074151\n",
            "loss: 4.074151\n",
            "loss: 4.074151\n",
            "loss: 4.074151\n",
            "loss: 4.074151\n",
            "loss: 4.074151\n",
            "loss: 4.074151\n",
            "loss: 4.074151\n",
            "loss: 4.074151\n",
            "loss: 4.074151\n",
            "loss: 4.074151\n",
            "loss: 4.074151\n",
            "loss: 4.074151\n",
            "loss: 4.074151\n",
            "loss: 4.074151\n",
            "loss: 4.074151\n",
            "loss: 4.074151\n",
            "loss: 4.074151\n",
            "loss: 4.074151\n",
            "loss: 4.074151\n",
            "loss: 4.074151\n",
            "loss: 4.074151\n",
            "loss: 4.074151\n",
            "loss: 4.074151\n",
            "loss: 4.074151\n",
            "loss: 4.074151\n",
            "loss: 4.074151\n",
            "loss: 4.074151\n",
            "loss: 4.074151\n",
            "loss: 4.074151\n",
            "loss: 4.074151\n",
            "loss: 4.074151\n",
            "loss: 4.074151\n",
            "loss: 4.074151\n",
            "loss: 4.074151\n",
            "loss: 4.074151\n",
            "loss: 4.074151\n",
            "loss: 4.074151\n",
            "loss: 4.074151\n",
            "loss: 4.074151\n",
            "loss: 4.074151\n",
            "loss: 4.074151\n",
            "loss: 4.074151\n",
            "loss: 4.074151\n",
            "loss: 4.074151\n",
            "loss: 4.074151\n",
            "loss: 4.074151\n",
            "loss: 4.074151\n",
            "loss: 4.074151\n",
            "loss: 4.074151\n",
            "loss: 4.074151\n",
            "loss: 4.074151\n",
            "loss: 4.074151\n",
            "loss: 4.074151\n",
            "loss: 4.074151\n"
          ],
          "name": "stdout"
        }
      ]
    },
    {
      "cell_type": "code",
      "metadata": {
        "colab": {
          "base_uri": "https://localhost:8080/",
          "height": 592
        },
        "id": "_WzNqBb2chFN",
        "outputId": "882f4da6-ca32-4d5b-9662-b15e778f8f78"
      },
      "source": [
        "from matplotlib.pyplot import figure\n",
        "\n",
        "figure(figsize=(10,10))\n",
        "#True solution '\n",
        "def true_solution(x): \n",
        "    return x**2 + 1\n",
        "\n",
        "X = np.linspace(0, 1, 100)\n",
        "result = []\n",
        "for i in X:\n",
        "    #results.append(f(i)\n",
        "    result.append(g(i).numpy()[0][0][0])\n",
        "\n",
        "S = true_solution(X)\n",
        "\n",
        "plt.plot(X, S, label=\"Original Function\")\n",
        "plt.plot(X, result, label=\"Neural Net Approximation\")\n",
        "plt.legend(loc=2, prop={'size': 20})\n",
        "plt.show()"
      ],
      "execution_count": null,
      "outputs": [
        {
          "output_type": "display_data",
          "data": {
            "image/png": "[encoded data removed]",
            "text/plain": [
              "<Figure size 720x720 with 1 Axes>"
            ]
          },
          "metadata": {
            "tags": [],
            "needs_background": "light"
          }
        }
      ]
    },
    {
      "cell_type": "code",
      "metadata": {
        "id": "_t6Mao1gdDrb"
      },
      "source": [
        ""
      ],
      "execution_count": null,
      "outputs": []
    }
  ]
}