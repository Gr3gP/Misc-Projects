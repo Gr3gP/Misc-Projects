{
  "nbformat": 4,
  "nbformat_minor": 0,
  "metadata": {
    "colab": {
      "name": "BitcoinPrice.TimeSeriesAnalysis.ipynb",
      "provenance": [],
      "collapsed_sections": [],
      "mount_file_id": "1HvWW0y2Kx1Lejl2XFhMeY06DXwe_Baax",
      "authorship_tag": "ABX9TyOSTSJkZFPHCe1BrpbB9++Y",
      "include_colab_link": true
    },
    "kernelspec": {
      "name": "python3",
      "display_name": "Python 3"
    }
  },
  "cells": [
    {
      "cell_type": "markdown",
      "metadata": {
        "id": "view-in-github",
        "colab_type": "text"
      },
      "source": [
        "<a href=\"https://colab.research.google.com/github/Gr3gP/Misc-Projects/blob/main/BitcoinPrice_TimeSeriesAnalysis.ipynb\" target=\"_parent\"><img src=\"https://colab.research.google.com/assets/colab-badge.svg\" alt=\"Open In Colab\"/></a>"
      ]
    },
    {
      "cell_type": "code",
      "metadata": {
        "colab": {
          "base_uri": "https://localhost:8080/"
        },
        "id": "lRy_m67PDiHh",
        "outputId": "cdefc427-af5e-4f72-e8dc-b5fe4aa77924"
      },
      "source": [
        "import pandas as pd\n",
        "import numpy as np\n",
        "from google.colab import drive\n",
        "drive.mount('/content/drive')\n",
        "btcprice_df = pd.read_csv('/content/drive/MyDrive/bitcoin_price.csv')"
      ],
      "execution_count": null,
      "outputs": [
        {
          "output_type": "stream",
          "text": [
            "Drive already mounted at /content/drive; to attempt to forcibly remount, call drive.mount(\"/content/drive\", force_remount=True).\n"
          ],
          "name": "stdout"
        }
      ]
    },
    {
      "cell_type": "code",
      "metadata": {
        "colab": {
          "base_uri": "https://localhost:8080/",
          "height": 204
        },
        "id": "Mbz86Q6BDjTz",
        "outputId": "d83c083f-ae9f-4eaa-b193-dc30b6b45f19"
      },
      "source": [
        "btcprice_df.head()"
      ],
      "execution_count": null,
      "outputs": [
        {
          "output_type": "execute_result",
          "data": {
            "text/html": [
              "<div>\n",
              "<style scoped>\n",
              "    .dataframe tbody tr th:only-of-type {\n",
              "        vertical-align: middle;\n",
              "    }\n",
              "\n",
              "    .dataframe tbody tr th {\n",
              "        vertical-align: top;\n",
              "    }\n",
              "\n",
              "    .dataframe thead th {\n",
              "        text-align: right;\n",
              "    }\n",
              "</style>\n",
              "<table border=\"1\" class=\"dataframe\">\n",
              "  <thead>\n",
              "    <tr style=\"text-align: right;\">\n",
              "      <th></th>\n",
              "      <th>Date</th>\n",
              "      <th>Open</th>\n",
              "      <th>High</th>\n",
              "      <th>Low</th>\n",
              "      <th>Close</th>\n",
              "      <th>Volume</th>\n",
              "      <th>Market Cap</th>\n",
              "    </tr>\n",
              "  </thead>\n",
              "  <tbody>\n",
              "    <tr>\n",
              "      <th>0</th>\n",
              "      <td>Feb 20, 2018</td>\n",
              "      <td>11231.8</td>\n",
              "      <td>11958.5</td>\n",
              "      <td>11231.80</td>\n",
              "      <td>11403.7</td>\n",
              "      <td>9,926,540,000</td>\n",
              "      <td>189,536,000,000</td>\n",
              "    </tr>\n",
              "    <tr>\n",
              "      <th>1</th>\n",
              "      <td>Feb 19, 2018</td>\n",
              "      <td>10552.6</td>\n",
              "      <td>11273.8</td>\n",
              "      <td>10513.20</td>\n",
              "      <td>11225.3</td>\n",
              "      <td>7,652,090,000</td>\n",
              "      <td>178,055,000,000</td>\n",
              "    </tr>\n",
              "    <tr>\n",
              "      <th>2</th>\n",
              "      <td>Feb 18, 2018</td>\n",
              "      <td>11123.4</td>\n",
              "      <td>11349.8</td>\n",
              "      <td>10326.00</td>\n",
              "      <td>10551.8</td>\n",
              "      <td>8,744,010,000</td>\n",
              "      <td>187,663,000,000</td>\n",
              "    </tr>\n",
              "    <tr>\n",
              "      <th>3</th>\n",
              "      <td>Feb 17, 2018</td>\n",
              "      <td>10207.5</td>\n",
              "      <td>11139.5</td>\n",
              "      <td>10149.40</td>\n",
              "      <td>11112.7</td>\n",
              "      <td>8,660,880,000</td>\n",
              "      <td>172,191,000,000</td>\n",
              "    </tr>\n",
              "    <tr>\n",
              "      <th>4</th>\n",
              "      <td>Feb 16, 2018</td>\n",
              "      <td>10135.7</td>\n",
              "      <td>10324.1</td>\n",
              "      <td>9824.82</td>\n",
              "      <td>10233.9</td>\n",
              "      <td>7,296,160,000</td>\n",
              "      <td>170,960,000,000</td>\n",
              "    </tr>\n",
              "  </tbody>\n",
              "</table>\n",
              "</div>"
            ],
            "text/plain": [
              "           Date     Open     High  ...    Close         Volume       Market Cap\n",
              "0  Feb 20, 2018  11231.8  11958.5  ...  11403.7  9,926,540,000  189,536,000,000\n",
              "1  Feb 19, 2018  10552.6  11273.8  ...  11225.3  7,652,090,000  178,055,000,000\n",
              "2  Feb 18, 2018  11123.4  11349.8  ...  10551.8  8,744,010,000  187,663,000,000\n",
              "3  Feb 17, 2018  10207.5  11139.5  ...  11112.7  8,660,880,000  172,191,000,000\n",
              "4  Feb 16, 2018  10135.7  10324.1  ...  10233.9  7,296,160,000  170,960,000,000\n",
              "\n",
              "[5 rows x 7 columns]"
            ]
          },
          "metadata": {
            "tags": []
          },
          "execution_count": 2
        }
      ]
    },
    {
      "cell_type": "code",
      "metadata": {
        "colab": {
          "base_uri": "https://localhost:8080/"
        },
        "id": "kGv8cX0IHE29",
        "outputId": "96e380e0-1b98-49ab-f5ea-8261c60248ca"
      },
      "source": [
        "btcprice_df.dtypes"
      ],
      "execution_count": null,
      "outputs": [
        {
          "output_type": "execute_result",
          "data": {
            "text/plain": [
              "Date           object\n",
              "Open          float64\n",
              "High          float64\n",
              "Low           float64\n",
              "Close         float64\n",
              "Volume         object\n",
              "Market Cap     object\n",
              "dtype: object"
            ]
          },
          "metadata": {
            "tags": []
          },
          "execution_count": 3
        }
      ]
    },
    {
      "cell_type": "code",
      "metadata": {
        "colab": {
          "base_uri": "https://localhost:8080/"
        },
        "id": "Iy2BsiFUHJ6u",
        "outputId": "bdf06287-c2cc-45d9-bb4f-4e28c248c5a5"
      },
      "source": [
        "btcprice_df.max()"
      ],
      "execution_count": null,
      "outputs": [
        {
          "output_type": "execute_result",
          "data": {
            "text/plain": [
              "Date            Sep 30, 2017\n",
              "Open                 19475.8\n",
              "High                   20089\n",
              "Low                  18974.1\n",
              "Close                19497.4\n",
              "Volume           994,625,000\n",
              "Market Cap    99,941,600,000\n",
              "dtype: object"
            ]
          },
          "metadata": {
            "tags": []
          },
          "execution_count": 4
        }
      ]
    },
    {
      "cell_type": "code",
      "metadata": {
        "colab": {
          "base_uri": "https://localhost:8080/"
        },
        "id": "q4RSTzSGHUMt",
        "outputId": "dcb80577-c095-4b92-d01e-a9cc6bc9d334"
      },
      "source": [
        "btcprice_df.min()"
      ],
      "execution_count": null,
      "outputs": [
        {
          "output_type": "execute_result",
          "data": {
            "text/plain": [
              "Date           Apr 01, 2014\n",
              "Open                   68.5\n",
              "High                  74.56\n",
              "Low                   65.53\n",
              "Close                 68.43\n",
              "Volume                    -\n",
              "Market Cap    1,000,070,000\n",
              "dtype: object"
            ]
          },
          "metadata": {
            "tags": []
          },
          "execution_count": 5
        }
      ]
    },
    {
      "cell_type": "code",
      "metadata": {
        "id": "o0gXacy8JxdQ"
      },
      "source": [
        "btcprice_df['Date'] = pd.date_range(start='2014-04-01', periods=1760)"
      ],
      "execution_count": null,
      "outputs": []
    },
    {
      "cell_type": "code",
      "metadata": {
        "id": "DTku-b1mHZhE"
      },
      "source": [
        "import matplotlib.pyplot as plt"
      ],
      "execution_count": null,
      "outputs": []
    },
    {
      "cell_type": "code",
      "metadata": {
        "colab": {
          "base_uri": "https://localhost:8080/",
          "height": 265
        },
        "id": "1mmxSE1THfMJ",
        "outputId": "ab417b03-6a99-4e76-901c-c3577edbe656"
      },
      "source": [
        "plt.scatter(btcprice_df.Volume, btcprice_df.High)\n",
        "plt.show()"
      ],
      "execution_count": null,
      "outputs": [
        {
          "output_type": "display_data",
          "data": {
            "image/png": "[encoded data removed]",
            "text/plain": [
              "<Figure size 432x288 with 1 Axes>"
            ]
          },
          "metadata": {
            "tags": [],
            "needs_background": "light"
          }
        }
      ]
    },
    {
      "cell_type": "code",
      "metadata": {
        "id": "nmKfowr-HZ7g"
      },
      "source": [
        "from datetime import datetime\n",
        "import datetime as dt"
      ],
      "execution_count": null,
      "outputs": []
    },
    {
      "cell_type": "code",
      "metadata": {
        "colab": {
          "base_uri": "https://localhost:8080/"
        },
        "id": "s_ooXZvCG75O",
        "outputId": "8e83b54a-f023-4bc5-83d7-b3d5928a09d3"
      },
      "source": [
        "from sklearn import linear_model\n",
        "lm = linear_model.LinearRegression()\n",
        "\n",
        "X = pd.DataFrame(pd.to_numeric(btcprice_df['Date']))\n",
        "Y = btcprice_df['Close']\n",
        "lm.fit(X,Y)\n",
        "lm.score(X,Y)"
      ],
      "execution_count": null,
      "outputs": [
        {
          "output_type": "execute_result",
          "data": {
            "text/plain": [
              "0.3185719202910684"
            ]
          },
          "metadata": {
            "tags": []
          },
          "execution_count": 10
        }
      ]
    },
    {
      "cell_type": "code",
      "metadata": {
        "colab": {
          "base_uri": "https://localhost:8080/"
        },
        "id": "zkZQMSidJW1T",
        "outputId": "a4da6f57-bce6-4aed-c857-f27b56b3d5dd"
      },
      "source": [
        "lm.coef_[0] * 1000000000 * 24 * (60**2)"
      ],
      "execution_count": null,
      "outputs": [
        {
          "output_type": "execute_result",
          "data": {
            "text/plain": [
              "-3.2865654514630096"
            ]
          },
          "metadata": {
            "tags": []
          },
          "execution_count": 11
        }
      ]
    },
    {
      "cell_type": "code",
      "metadata": {
        "colab": {
          "base_uri": "https://localhost:8080/",
          "height": 282
        },
        "id": "o8Lr2bzROjVO",
        "outputId": "26cc968d-165e-4d75-cb60-2d8f567f3be2"
      },
      "source": [
        "plt.plot(btcprice_df.Date, btcprice_df.Close)\n",
        "plt.xticks(rotation=60)\n",
        "plt.show()"
      ],
      "execution_count": null,
      "outputs": [
        {
          "output_type": "display_data",
          "data": {
            "image/png": "[encoded data removed]",
            "text/plain": [
              "<Figure size 432x288 with 1 Axes>"
            ]
          },
          "metadata": {
            "tags": [],
            "needs_background": "light"
          }
        }
      ]
    },
    {
      "cell_type": "code",
      "metadata": {
        "colab": {
          "base_uri": "https://localhost:8080/"
        },
        "id": "ZUnvlVP2WqFe",
        "outputId": "49e258b3-7788-4ef2-a20b-784995a72dc1"
      },
      "source": [
        "btcprice_df['day_of_week'] = btcprice_df.Date.apply(lambda x: str(datetime.weekday(x)))\n",
        "\n",
        "X = pd.get_dummies(btcprice_df.day_of_week)\n",
        "X['Date'] = pd.to_numeric(btcprice_df.Date) / 1000000000 * 24 * (60**2)\n",
        "Y = btcprice_df['Close']\n",
        "lm.fit(X,Y)\n",
        "lm.score(X,Y)"
      ],
      "execution_count": null,
      "outputs": [
        {
          "output_type": "execute_result",
          "data": {
            "text/plain": [
              "0.3185787064836917"
            ]
          },
          "metadata": {
            "tags": []
          },
          "execution_count": 13
        }
      ]
    },
    {
      "cell_type": "code",
      "metadata": {
        "colab": {
          "base_uri": "https://localhost:8080/"
        },
        "id": "vftoadr3XG1_",
        "outputId": "698ef6d0-d121-45c8-9efa-fa1d9d1ee0bc"
      },
      "source": [
        "print(X.columns)\n",
        "print(lm.coef_)"
      ],
      "execution_count": null,
      "outputs": [
        {
          "output_type": "stream",
          "text": [
            "Index(['0', '1', '2', '3', '4', '5', '6', 'Date'], dtype='object')\n",
            "[-1.39522339e+01  3.96921336e+00  6.52920398e+00  1.15701472e+00\n",
            "  1.09790680e+01 -2.99797260e+00 -5.68433770e+00 -4.40262937e-10]\n"
          ],
          "name": "stdout"
        }
      ]
    },
    {
      "cell_type": "code",
      "metadata": {
        "colab": {
          "base_uri": "https://localhost:8080/"
        },
        "id": "cjGES9hyX3z_",
        "outputId": "9f81468a-d6e6-4b28-c9c7-a0c6ccc84c46"
      },
      "source": [
        "X['cos_date'] = np.cos((X.Date - 1760) * np.pi / 3.5)\n",
        "Y = btcprice_df['Close']\n",
        "lm.fit(X,Y)\n",
        "lm.score(X,Y)"
      ],
      "execution_count": null,
      "outputs": [
        {
          "output_type": "execute_result",
          "data": {
            "text/plain": [
              "0.3186412270431185"
            ]
          },
          "metadata": {
            "tags": []
          },
          "execution_count": 15
        }
      ]
    },
    {
      "cell_type": "code",
      "metadata": {
        "colab": {
          "base_uri": "https://localhost:8080/"
        },
        "id": "4aRwi9fZYPB-",
        "outputId": "d400a54a-26b8-4ea9-e943-e75d928d5c38"
      },
      "source": [
        "lm.coef_"
      ],
      "execution_count": null,
      "outputs": [
        {
          "output_type": "execute_result",
          "data": {
            "text/plain": [
              "array([ 3.02900887e+03, -1.05507965e+03, -4.35663807e+03, -4.37951883e+03,\n",
              "       -1.08979633e+03,  3.00455388e+03,  4.84741344e+03, -4.40422809e-10,\n",
              "       -4.85298205e+03])"
            ]
          },
          "metadata": {
            "tags": []
          },
          "execution_count": 16
        }
      ]
    },
    {
      "cell_type": "code",
      "metadata": {
        "colab": {
          "base_uri": "https://localhost:8080/",
          "height": 281
        },
        "id": "h2_7L5rTXTSa",
        "outputId": "de7ad075-513c-4e03-b239-19b16d880039"
      },
      "source": [
        "btcprice_df['diff_1'] = btcprice_df.Close - btcprice_df.Close.shift()\n",
        "btcprice_df.plot(y='diff_1')\n",
        "plt.title('BTC Price time series')\n",
        "plt.show()"
      ],
      "execution_count": null,
      "outputs": [
        {
          "output_type": "display_data",
          "data": {
            "image/png": "[encoded data removed]",
            "text/plain": [
              "<Figure size 432x288 with 1 Axes>"
            ]
          },
          "metadata": {
            "tags": [],
            "needs_background": "light"
          }
        }
      ]
    },
    {
      "cell_type": "markdown",
      "metadata": {
        "id": "i2JKHzRdZyvb"
      },
      "source": [
        "We can see that the series starts out random but then tends to become less random"
      ]
    },
    {
      "cell_type": "code",
      "metadata": {
        "colab": {
          "base_uri": "https://localhost:8080/",
          "height": 301
        },
        "id": "UVjKKCbwYoW3",
        "outputId": "71c07de4-3157-4425-f9f9-e468940bd04c"
      },
      "source": [
        "from statsmodels.tsa.stattools import pacf\n",
        "x_acf = pd.DataFrame(pacf(btcprice_df.Close))\n",
        "x_acf.plot(kind='bar')\n",
        "plt.title('S&P PACF')"
      ],
      "execution_count": null,
      "outputs": [
        {
          "output_type": "execute_result",
          "data": {
            "text/plain": [
              "Text(0.5, 1.0, 'S&P PACF')"
            ]
          },
          "metadata": {
            "tags": []
          },
          "execution_count": 19
        },
        {
          "output_type": "display_data",
          "data": {
            "image/png": "[encoded data removed]",
            "text/plain": [
              "<Figure size 432x288 with 1 Axes>"
            ]
          },
          "metadata": {
            "tags": [],
            "needs_background": "light"
          }
        }
      ]
    },
    {
      "cell_type": "markdown",
      "metadata": {
        "id": "Izf98YkeZ8Sb"
      },
      "source": [
        "Here the PACF appears to have the first two periods very close to each other"
      ]
    },
    {
      "cell_type": "code",
      "metadata": {
        "colab": {
          "base_uri": "https://localhost:8080/",
          "height": 301
        },
        "id": "zhRBN_DKWo2P",
        "outputId": "8406c29c-2e93-43a7-b48f-aab31662a1ff"
      },
      "source": [
        "x_acf = pd.DataFrame(pacf(btcprice_df.diff_1[1:]))\n",
        "x_acf.plot(kind='bar')\n",
        "plt.title('BTC Price Diff PACF')\n",
        "plt.legend(['difference'])"
      ],
      "execution_count": null,
      "outputs": [
        {
          "output_type": "execute_result",
          "data": {
            "text/plain": [
              "<matplotlib.legend.Legend at 0x7ff1b4521780>"
            ]
          },
          "metadata": {
            "tags": []
          },
          "execution_count": 21
        },
        {
          "output_type": "display_data",
          "data": {
            "image/png": "[encoded data removed]",
            "text/plain": [
              "<Figure size 432x288 with 1 Axes>"
            ]
          },
          "metadata": {
            "tags": [],
            "needs_background": "light"
          }
        }
      ]
    },
    {
      "cell_type": "markdown",
      "metadata": {
        "id": "lT0J93XJaC1Y"
      },
      "source": [
        "In the difference PACF, the second period has fallen massively, leaving the first difference very high."
      ]
    },
    {
      "cell_type": "code",
      "metadata": {
        "colab": {
          "base_uri": "https://localhost:8080/"
        },
        "id": "hIN0DzudYIPa",
        "outputId": "1a7b43ae-9a01-4bd0-c970-2c2ee7623cf1"
      },
      "source": [
        "from statsmodels.tsa.arima_model import ARIMA\n",
        "model = ARIMA(btcprice_df.Close, order=(0,1,0))\n",
        "model_fit_010 = model.fit()\n",
        "print(model_fit_010.summary())\n",
        "print('residuals description')\n",
        "print(model_fit_010.resid.describe())"
      ],
      "execution_count": null,
      "outputs": [
        {
          "output_type": "stream",
          "text": [
            "                             ARIMA Model Results                              \n",
            "==============================================================================\n",
            "Dep. Variable:                D.Close   No. Observations:                 1759\n",
            "Model:                 ARIMA(0, 1, 0)   Log Likelihood              -12057.949\n",
            "Method:                           css   S.D. of innovations            229.537\n",
            "Date:                Fri, 22 Jan 2021   AIC                          24119.898\n",
            "Time:                        14:00:17   BIC                          24130.843\n",
            "Sample:                             1   HQIC                         24123.943\n",
            "                                                                              \n",
            "==============================================================================\n",
            "                 coef    std err          z      P>|z|      [0.025      0.975]\n",
            "------------------------------------------------------------------------------\n",
            "const         -6.4068      5.473     -1.171      0.242     -17.133       4.320\n",
            "==============================================================================\n",
            "residuals description\n",
            "count    1.759000e+03\n",
            "mean    -2.470136e-15\n",
            "std      2.296022e+02\n",
            "min     -3.601793e+03\n",
            "25%     -2.988240e+00\n",
            "50%      5.586760e+00\n",
            "75%      1.127676e+01\n",
            "max      2.335707e+03\n",
            "dtype: float64\n"
          ],
          "name": "stdout"
        }
      ]
    },
    {
      "cell_type": "markdown",
      "metadata": {
        "id": "neUEoNSoaSfp"
      },
      "source": [
        "p-value not significant, AI and BIC are very high((24k)"
      ]
    },
    {
      "cell_type": "code",
      "metadata": {
        "colab": {
          "base_uri": "https://localhost:8080/"
        },
        "id": "ZgtN28O1YNmz",
        "outputId": "ca501d86-de44-48f7-a560-6021071a3258"
      },
      "source": [
        "model = ARIMA(btcprice_df.Close, order=(1,0,0))\n",
        "model_fit_100 = model.fit()\n",
        "print(model_fit_100.summary())\n",
        "print('residuals description')\n",
        "print(model_fit_100.resid.describe())"
      ],
      "execution_count": null,
      "outputs": [
        {
          "output_type": "stream",
          "text": [
            "                              ARMA Model Results                              \n",
            "==============================================================================\n",
            "Dep. Variable:                  Close   No. Observations:                 1760\n",
            "Model:                     ARMA(1, 0)   Log Likelihood              -12068.165\n",
            "Method:                       css-mle   S.D. of innovations            229.589\n",
            "Date:                Fri, 22 Jan 2021   AIC                          24142.330\n",
            "Time:                        14:00:32   BIC                          24158.749\n",
            "Sample:                             0   HQIC                         24148.398\n",
            "                                                                              \n",
            "===============================================================================\n",
            "                  coef    std err          z      P>|z|      [0.025      0.975]\n",
            "-------------------------------------------------------------------------------\n",
            "const        2303.8908   3074.748      0.749      0.454   -3722.505    8330.287\n",
            "ar.L1.Close     0.9987      0.001    746.825      0.000       0.996       1.001\n",
            "                                    Roots                                    \n",
            "=============================================================================\n",
            "                  Real          Imaginary           Modulus         Frequency\n",
            "-----------------------------------------------------------------------------\n",
            "AR.1            1.0013           +0.0000j            1.0013            0.0000\n",
            "-----------------------------------------------------------------------------\n",
            "residuals description\n",
            "count    1760.000000\n",
            "mean       -2.331848\n",
            "std       315.729440\n",
            "min     -3587.217346\n",
            "25%       -11.659913\n",
            "50%        -3.379398\n",
            "75%         2.522063\n",
            "max      9099.809242\n",
            "dtype: float64\n"
          ],
          "name": "stdout"
        }
      ]
    },
    {
      "cell_type": "markdown",
      "metadata": {
        "id": "9ug4Rf6LabDj"
      },
      "source": [
        "constant not significant, AIC and BIC also high(24k)"
      ]
    },
    {
      "cell_type": "code",
      "metadata": {
        "colab": {
          "base_uri": "https://localhost:8080/"
        },
        "id": "iduRBu9VYx0P",
        "outputId": "d73ca317-c3b0-425a-f2aa-f0b552cd7711"
      },
      "source": [
        "model = ARIMA(btcprice_df.Close, order=(1,0,1))\n",
        "model_fit_101 = model.fit()\n",
        "print(model_fit_101.summary())\n",
        "print('residuals description')\n",
        "print(model_fit_101.resid.describe())"
      ],
      "execution_count": null,
      "outputs": [
        {
          "output_type": "stream",
          "text": [
            "                              ARMA Model Results                              \n",
            "==============================================================================\n",
            "Dep. Variable:                  Close   No. Observations:                 1760\n",
            "Model:                     ARMA(1, 1)   Log Likelihood              -12059.180\n",
            "Method:                       css-mle   S.D. of innovations            228.426\n",
            "Date:                Fri, 22 Jan 2021   AIC                          24126.361\n",
            "Time:                        14:00:45   BIC                          24148.253\n",
            "Sample:                             0   HQIC                         24134.451\n",
            "                                                                              \n",
            "===============================================================================\n",
            "                  coef    std err          z      P>|z|      [0.025      0.975]\n",
            "-------------------------------------------------------------------------------\n",
            "const        2794.9440   2640.501      1.058      0.290   -2380.342    7970.230\n",
            "ar.L1.Close     0.9982      0.002    652.483      0.000       0.995       1.001\n",
            "ma.L1.Close     0.1069      0.025      4.258      0.000       0.058       0.156\n",
            "                                    Roots                                    \n",
            "=============================================================================\n",
            "                  Real          Imaginary           Modulus         Frequency\n",
            "-----------------------------------------------------------------------------\n",
            "AR.1            1.0018           +0.0000j            1.0018            0.0000\n",
            "MA.1           -9.3522           +0.0000j            9.3522            0.5000\n",
            "-----------------------------------------------------------------------------\n",
            "residuals description\n",
            "count    1760.000000\n",
            "mean       -3.033597\n",
            "std       306.931254\n",
            "min     -3709.483625\n",
            "25%       -12.553250\n",
            "50%        -4.722980\n",
            "75%         1.293277\n",
            "max      8608.755957\n",
            "dtype: float64\n"
          ],
          "name": "stdout"
        }
      ]
    },
    {
      "cell_type": "code",
      "metadata": {
        "colab": {
          "base_uri": "https://localhost:8080/"
        },
        "id": "CQyJzWZ-Y7e_",
        "outputId": "660d5884-27bf-47d9-bb1d-ccaa39552a49"
      },
      "source": [
        "model = ARIMA(btcprice_df.Close, order=(1,1,1))\n",
        "model_fit_111 = model.fit()\n",
        "print(model_fit_111.summary())\n",
        "print('residuals description')\n",
        "print(model_fit_111.resid.describe())"
      ],
      "execution_count": null,
      "outputs": [
        {
          "output_type": "stream",
          "text": [
            "                             ARIMA Model Results                              \n",
            "==============================================================================\n",
            "Dep. Variable:                D.Close   No. Observations:                 1759\n",
            "Model:                 ARIMA(1, 1, 1)   Log Likelihood              -12036.324\n",
            "Method:                       css-mle   S.D. of innovations            226.728\n",
            "Date:                Fri, 22 Jan 2021   AIC                          24080.648\n",
            "Time:                        14:00:57   BIC                          24102.538\n",
            "Sample:                             1   HQIC                         24088.738\n",
            "                                                                              \n",
            "=================================================================================\n",
            "                    coef    std err          z      P>|z|      [0.025      0.975]\n",
            "---------------------------------------------------------------------------------\n",
            "const            -6.3763      5.762     -1.107      0.269     -17.670       4.917\n",
            "ar.L1.D.Close    -0.7045      0.054    -12.946      0.000      -0.811      -0.598\n",
            "ma.L1.D.Close     0.8168      0.043     18.778      0.000       0.732       0.902\n",
            "                                    Roots                                    \n",
            "=============================================================================\n",
            "                  Real          Imaginary           Modulus         Frequency\n",
            "-----------------------------------------------------------------------------\n",
            "AR.1           -1.4194           +0.0000j            1.4194            0.5000\n",
            "MA.1           -1.2243           +0.0000j            1.2243            0.5000\n",
            "-----------------------------------------------------------------------------\n",
            "residuals description\n",
            "count    1759.000000\n",
            "mean       -0.033104\n",
            "std       226.820353\n",
            "min     -3619.200529\n",
            "25%        -3.590479\n",
            "50%         5.296073\n",
            "75%        11.396149\n",
            "max      2163.842191\n",
            "dtype: float64\n"
          ],
          "name": "stdout"
        }
      ]
    },
    {
      "cell_type": "code",
      "metadata": {
        "colab": {
          "base_uri": "https://localhost:8080/"
        },
        "id": "IUrYSu-rY-HN",
        "outputId": "5681b858-efed-40be-9a8a-95b9e54a10fa"
      },
      "source": [
        "model = ARIMA(btcprice_df.Close, order=(3,1,3))\n",
        "model_fit_313 = model.fit()\n",
        "print(model_fit_313.summary())\n",
        "print('residuals description')\n",
        "print(model_fit_313.resid.describe())"
      ],
      "execution_count": null,
      "outputs": [
        {
          "output_type": "stream",
          "text": [
            "                             ARIMA Model Results                              \n",
            "==============================================================================\n",
            "Dep. Variable:                D.Close   No. Observations:                 1759\n",
            "Model:                 ARIMA(3, 1, 3)   Log Likelihood              -12002.047\n",
            "Method:                       css-mle   S.D. of innovations            222.253\n",
            "Date:                Fri, 22 Jan 2021   AIC                          24020.095\n",
            "Time:                        14:01:12   BIC                          24063.875\n",
            "Sample:                             1   HQIC                         24036.275\n",
            "                                                                              \n",
            "=================================================================================\n",
            "                    coef    std err          z      P>|z|      [0.025      0.975]\n",
            "---------------------------------------------------------------------------------\n",
            "const            -6.4128      6.351     -1.010      0.313     -18.860       6.035\n",
            "ar.L1.D.Close    -0.7929      0.106     -7.504      0.000      -1.000      -0.586\n",
            "ar.L2.D.Close     0.5392      0.175      3.075      0.002       0.196       0.883\n",
            "ar.L3.D.Close     0.8427      0.099      8.515      0.000       0.649       1.037\n",
            "ma.L1.D.Close     0.8712      0.112      7.746      0.000       0.651       1.092\n",
            "ma.L2.D.Close    -0.5406      0.195     -2.768      0.006      -0.923      -0.158\n",
            "ma.L3.D.Close    -0.8378      0.109     -7.688      0.000      -1.051      -0.624\n",
            "                                    Roots                                    \n",
            "=============================================================================\n",
            "                  Real          Imaginary           Modulus         Frequency\n",
            "-----------------------------------------------------------------------------\n",
            "AR.1            1.1277           -0.0000j            1.1277           -0.0000\n",
            "AR.2           -0.8838           -0.5208j            1.0258           -0.4152\n",
            "AR.3           -0.8838           +0.5208j            1.0258            0.4152\n",
            "MA.1            1.1534           -0.0000j            1.1534           -0.0000\n",
            "MA.2           -0.8993           -0.4754j            1.0172           -0.4226\n",
            "MA.3           -0.8993           +0.4754j            1.0172            0.4226\n",
            "-----------------------------------------------------------------------------\n",
            "residuals description\n",
            "count    1759.000000\n",
            "mean       -0.003207\n",
            "std       223.457092\n",
            "min     -3570.664525\n",
            "25%        -5.291462\n",
            "50%         4.708281\n",
            "75%        12.743788\n",
            "max      2160.600293\n",
            "dtype: float64\n"
          ],
          "name": "stdout"
        }
      ]
    },
    {
      "cell_type": "code",
      "metadata": {
        "colab": {
          "base_uri": "https://localhost:8080/",
          "height": 562
        },
        "id": "gn6kSikCZBe1",
        "outputId": "83a273d3-5068-4ab3-e38b-ccd70a917b78"
      },
      "source": [
        "residuals = pd.DataFrame(model_fit_313.resid)\n",
        "\n",
        "residuals.plot(legend=False)\n",
        "plt.title('Time Series of Residuals')\n",
        "\n",
        "residuals.hist(bins=20)\n",
        "plt.title('histogram of residuals')"
      ],
      "execution_count": null,
      "outputs": [
        {
          "output_type": "execute_result",
          "data": {
            "text/plain": [
              "Text(0.5, 1.0, 'histogram of residuals')"
            ]
          },
          "metadata": {
            "tags": []
          },
          "execution_count": 45
        },
        {
          "output_type": "display_data",
          "data": {
            "image/png": "[encoded data removed]",
            "text/plain": [
              "<Figure size 432x288 with 1 Axes>"
            ]
          },
          "metadata": {
            "tags": [],
            "needs_background": "light"
          }
        },
        {
          "output_type": "display_data",
          "data": {
            "image/png": "[encoded data removed]",
            "text/plain": [
              "<Figure size 432x288 with 1 Axes>"
            ]
          },
          "metadata": {
            "tags": [],
            "needs_background": "light"
          }
        }
      ]
    },
    {
      "cell_type": "code",
      "metadata": {
        "colab": {
          "base_uri": "https://localhost:8080/"
        },
        "id": "JAT29fJNZpYL",
        "outputId": "e774fb42-ca2a-45b8-8c9c-fb3b7a950c26"
      },
      "source": [
        "AIC_ratio = np.exp((model_fit_313.aic - model_fit_010.aic) / 2)\n",
        "print(AIC_ratio)"
      ],
      "execution_count": null,
      "outputs": [
        {
          "output_type": "stream",
          "text": [
            "2.1285013546275783e-22\n"
          ],
          "name": "stdout"
        }
      ]
    },
    {
      "cell_type": "code",
      "metadata": {
        "colab": {
          "base_uri": "https://localhost:8080/"
        },
        "id": "rYou2QbOay1-",
        "outputId": "6bb2ecdc-75bf-467c-c2df-094333b38618"
      },
      "source": [
        "AIC_ratio_313_010 = np.exp(24020 - 24191)/2\n",
        "print(AIC_ratio_313_010)"
      ],
      "execution_count": null,
      "outputs": [
        {
          "output_type": "stream",
          "text": [
            "2.7202799396293265e-75\n"
          ],
          "name": "stdout"
        }
      ]
    },
    {
      "cell_type": "markdown",
      "metadata": {
        "id": "nDIKh0GDbr5w"
      },
      "source": [
        "Looking at the above models, we will evaluate them based on log-likelihood, coefficient p-values, and residuals\n",
        "\n",
        "**Log-Likelihood:**\n",
        "\n",
        "All of the LL's are negative for our models. This means the likelihood of our models generating the data we see is very low. The ARIMA(1,0,0) model performed the best based on this metric.\n",
        "\n",
        "**P-values:**\n",
        "\n",
        "Our p-values for almost all our models coefficients are significant. The only one that are not are our models constants.\n",
        "\n",
        "**Residuals:**\n",
        "\n",
        "Looking at the above visuals, we can see the residuals are not really normally distributed at all. There are far two many data points centered around the mean.\n",
        "\n",
        "When we look at the AIC Ratio however, we can see that out ARIMA(3,1,3) model explains far more than the ARIMA(1,0,0) model.\n",
        "\n"
      ]
    },
    {
      "cell_type": "code",
      "metadata": {
        "id": "HMxjdNyrbTlu"
      },
      "source": [
        ""
      ],
      "execution_count": null,
      "outputs": []
    }
  ]
}